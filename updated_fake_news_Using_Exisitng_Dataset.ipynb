{
  "cells": [
    {
      "cell_type": "code",
      "execution_count": null,
      "metadata": {
        "id": "7B9-P8R97GiK"
      },
      "outputs": [],
      "source": [
        "import pandas as pd\n",
        "import numpy as np\n",
        "import matplotlib.pyplot as plt\n",
        "import seaborn as sns\n",
        "from sklearn.feature_extraction.text import CountVectorizer\n",
        "from sklearn.feature_extraction.text import TfidfTransformer\n",
        "from sklearn import feature_extraction, linear_model, model_selection, preprocessing\n",
        "from sklearn.metrics import accuracy_score\n",
        "from sklearn.model_selection import train_test_split\n",
        "from sklearn.pipeline import Pipeline\n",
        "import time\n",
        "from sklearn.metrics import r2_score"
      ]
    },
    {
      "cell_type": "code",
      "execution_count": null,
      "metadata": {
        "id": "vS9Epli9143k"
      },
      "outputs": [],
      "source": []
    },
    {
      "cell_type": "code",
      "execution_count": null,
      "metadata": {
        "colab": {
          "base_uri": "https://localhost:8080/"
        },
        "id": "uJEc3CIE_K9m",
        "outputId": "a4f4df7a-2d7e-4b37-c1e5-cb10c648dd4e"
      },
      "outputs": [
        {
          "output_type": "stream",
          "name": "stdout",
          "text": [
            "Collecting streamlit\n",
            "  Downloading streamlit-1.36.0-py2.py3-none-any.whl (8.6 MB)\n",
            "\u001b[2K     \u001b[90m━━━━━━━━━━━━━━━━━━━━━━━━━━━━━━━━━━━━━━━━\u001b[0m \u001b[32m8.6/8.6 MB\u001b[0m \u001b[31m19.5 MB/s\u001b[0m eta \u001b[36m0:00:00\u001b[0m\n",
            "\u001b[?25hRequirement already satisfied: altair<6,>=4.0 in /usr/local/lib/python3.10/dist-packages (from streamlit) (4.2.2)\n",
            "Requirement already satisfied: blinker<2,>=1.0.0 in /usr/lib/python3/dist-packages (from streamlit) (1.4)\n",
            "Requirement already satisfied: cachetools<6,>=4.0 in /usr/local/lib/python3.10/dist-packages (from streamlit) (5.3.3)\n",
            "Requirement already satisfied: click<9,>=7.0 in /usr/local/lib/python3.10/dist-packages (from streamlit) (8.1.7)\n",
            "Requirement already satisfied: numpy<3,>=1.20 in /usr/local/lib/python3.10/dist-packages (from streamlit) (1.25.2)\n",
            "Requirement already satisfied: packaging<25,>=20 in /usr/local/lib/python3.10/dist-packages (from streamlit) (24.1)\n",
            "Requirement already satisfied: pandas<3,>=1.3.0 in /usr/local/lib/python3.10/dist-packages (from streamlit) (2.0.3)\n",
            "Requirement already satisfied: pillow<11,>=7.1.0 in /usr/local/lib/python3.10/dist-packages (from streamlit) (9.4.0)\n",
            "Requirement already satisfied: protobuf<6,>=3.20 in /usr/local/lib/python3.10/dist-packages (from streamlit) (3.20.3)\n",
            "Requirement already satisfied: pyarrow>=7.0 in /usr/local/lib/python3.10/dist-packages (from streamlit) (14.0.2)\n",
            "Requirement already satisfied: requests<3,>=2.27 in /usr/local/lib/python3.10/dist-packages (from streamlit) (2.31.0)\n",
            "Requirement already satisfied: rich<14,>=10.14.0 in /usr/local/lib/python3.10/dist-packages (from streamlit) (13.7.1)\n",
            "Requirement already satisfied: tenacity<9,>=8.1.0 in /usr/local/lib/python3.10/dist-packages (from streamlit) (8.4.2)\n",
            "Requirement already satisfied: toml<2,>=0.10.1 in /usr/local/lib/python3.10/dist-packages (from streamlit) (0.10.2)\n",
            "Requirement already satisfied: typing-extensions<5,>=4.3.0 in /usr/local/lib/python3.10/dist-packages (from streamlit) (4.12.2)\n",
            "Collecting gitpython!=3.1.19,<4,>=3.0.7 (from streamlit)\n",
            "  Downloading GitPython-3.1.43-py3-none-any.whl (207 kB)\n",
            "\u001b[2K     \u001b[90m━━━━━━━━━━━━━━━━━━━━━━━━━━━━━━━━━━━━━━━━\u001b[0m \u001b[32m207.3/207.3 kB\u001b[0m \u001b[31m9.4 MB/s\u001b[0m eta \u001b[36m0:00:00\u001b[0m\n",
            "\u001b[?25hCollecting pydeck<1,>=0.8.0b4 (from streamlit)\n",
            "  Downloading pydeck-0.9.1-py2.py3-none-any.whl (6.9 MB)\n",
            "\u001b[2K     \u001b[90m━━━━━━━━━━━━━━━━━━━━━━━━━━━━━━━━━━━━━━━━\u001b[0m \u001b[32m6.9/6.9 MB\u001b[0m \u001b[31m38.5 MB/s\u001b[0m eta \u001b[36m0:00:00\u001b[0m\n",
            "\u001b[?25hRequirement already satisfied: tornado<7,>=6.0.3 in /usr/local/lib/python3.10/dist-packages (from streamlit) (6.3.3)\n",
            "Collecting watchdog<5,>=2.1.5 (from streamlit)\n",
            "  Downloading watchdog-4.0.1-py3-none-manylinux2014_x86_64.whl (83 kB)\n",
            "\u001b[2K     \u001b[90m━━━━━━━━━━━━━━━━━━━━━━━━━━━━━━━━━━━━━━━━\u001b[0m \u001b[32m83.0/83.0 kB\u001b[0m \u001b[31m9.4 MB/s\u001b[0m eta \u001b[36m0:00:00\u001b[0m\n",
            "\u001b[?25hRequirement already satisfied: entrypoints in /usr/local/lib/python3.10/dist-packages (from altair<6,>=4.0->streamlit) (0.4)\n",
            "Requirement already satisfied: jinja2 in /usr/local/lib/python3.10/dist-packages (from altair<6,>=4.0->streamlit) (3.1.4)\n",
            "Requirement already satisfied: jsonschema>=3.0 in /usr/local/lib/python3.10/dist-packages (from altair<6,>=4.0->streamlit) (4.19.2)\n",
            "Requirement already satisfied: toolz in /usr/local/lib/python3.10/dist-packages (from altair<6,>=4.0->streamlit) (0.12.1)\n",
            "Collecting gitdb<5,>=4.0.1 (from gitpython!=3.1.19,<4,>=3.0.7->streamlit)\n",
            "  Downloading gitdb-4.0.11-py3-none-any.whl (62 kB)\n",
            "\u001b[2K     \u001b[90m━━━━━━━━━━━━━━━━━━━━━━━━━━━━━━━━━━━━━━━━\u001b[0m \u001b[32m62.7/62.7 kB\u001b[0m \u001b[31m6.9 MB/s\u001b[0m eta \u001b[36m0:00:00\u001b[0m\n",
            "\u001b[?25hRequirement already satisfied: python-dateutil>=2.8.2 in /usr/local/lib/python3.10/dist-packages (from pandas<3,>=1.3.0->streamlit) (2.8.2)\n",
            "Requirement already satisfied: pytz>=2020.1 in /usr/local/lib/python3.10/dist-packages (from pandas<3,>=1.3.0->streamlit) (2023.4)\n",
            "Requirement already satisfied: tzdata>=2022.1 in /usr/local/lib/python3.10/dist-packages (from pandas<3,>=1.3.0->streamlit) (2024.1)\n",
            "Requirement already satisfied: charset-normalizer<4,>=2 in /usr/local/lib/python3.10/dist-packages (from requests<3,>=2.27->streamlit) (3.3.2)\n",
            "Requirement already satisfied: idna<4,>=2.5 in /usr/local/lib/python3.10/dist-packages (from requests<3,>=2.27->streamlit) (3.7)\n",
            "Requirement already satisfied: urllib3<3,>=1.21.1 in /usr/local/lib/python3.10/dist-packages (from requests<3,>=2.27->streamlit) (2.0.7)\n",
            "Requirement already satisfied: certifi>=2017.4.17 in /usr/local/lib/python3.10/dist-packages (from requests<3,>=2.27->streamlit) (2024.6.2)\n",
            "Requirement already satisfied: markdown-it-py>=2.2.0 in /usr/local/lib/python3.10/dist-packages (from rich<14,>=10.14.0->streamlit) (3.0.0)\n",
            "Requirement already satisfied: pygments<3.0.0,>=2.13.0 in /usr/local/lib/python3.10/dist-packages (from rich<14,>=10.14.0->streamlit) (2.16.1)\n",
            "Collecting smmap<6,>=3.0.1 (from gitdb<5,>=4.0.1->gitpython!=3.1.19,<4,>=3.0.7->streamlit)\n",
            "  Downloading smmap-5.0.1-py3-none-any.whl (24 kB)\n",
            "Requirement already satisfied: MarkupSafe>=2.0 in /usr/local/lib/python3.10/dist-packages (from jinja2->altair<6,>=4.0->streamlit) (2.1.5)\n",
            "Requirement already satisfied: attrs>=22.2.0 in /usr/local/lib/python3.10/dist-packages (from jsonschema>=3.0->altair<6,>=4.0->streamlit) (23.2.0)\n",
            "Requirement already satisfied: jsonschema-specifications>=2023.03.6 in /usr/local/lib/python3.10/dist-packages (from jsonschema>=3.0->altair<6,>=4.0->streamlit) (2023.12.1)\n",
            "Requirement already satisfied: referencing>=0.28.4 in /usr/local/lib/python3.10/dist-packages (from jsonschema>=3.0->altair<6,>=4.0->streamlit) (0.35.1)\n",
            "Requirement already satisfied: rpds-py>=0.7.1 in /usr/local/lib/python3.10/dist-packages (from jsonschema>=3.0->altair<6,>=4.0->streamlit) (0.18.1)\n",
            "Requirement already satisfied: mdurl~=0.1 in /usr/local/lib/python3.10/dist-packages (from markdown-it-py>=2.2.0->rich<14,>=10.14.0->streamlit) (0.1.2)\n",
            "Requirement already satisfied: six>=1.5 in /usr/local/lib/python3.10/dist-packages (from python-dateutil>=2.8.2->pandas<3,>=1.3.0->streamlit) (1.16.0)\n",
            "Installing collected packages: watchdog, smmap, pydeck, gitdb, gitpython, streamlit\n",
            "Successfully installed gitdb-4.0.11 gitpython-3.1.43 pydeck-0.9.1 smmap-5.0.1 streamlit-1.36.0 watchdog-4.0.1\n",
            "Collecting contractions\n",
            "  Downloading contractions-0.1.73-py2.py3-none-any.whl (8.7 kB)\n",
            "Collecting textsearch>=0.0.21 (from contractions)\n",
            "  Downloading textsearch-0.0.24-py2.py3-none-any.whl (7.6 kB)\n",
            "Collecting anyascii (from textsearch>=0.0.21->contractions)\n",
            "  Downloading anyascii-0.3.2-py3-none-any.whl (289 kB)\n",
            "\u001b[2K     \u001b[90m━━━━━━━━━━━━━━━━━━━━━━━━━━━━━━━━━━━━━━━━\u001b[0m \u001b[32m289.9/289.9 kB\u001b[0m \u001b[31m2.2 MB/s\u001b[0m eta \u001b[36m0:00:00\u001b[0m\n",
            "\u001b[?25hCollecting pyahocorasick (from textsearch>=0.0.21->contractions)\n",
            "  Downloading pyahocorasick-2.1.0-cp310-cp310-manylinux_2_5_x86_64.manylinux1_x86_64.manylinux_2_12_x86_64.manylinux2010_x86_64.whl (110 kB)\n",
            "\u001b[2K     \u001b[90m━━━━━━━━━━━━━━━━━━━━━━━━━━━━━━━━━━━━━━━━\u001b[0m \u001b[32m110.7/110.7 kB\u001b[0m \u001b[31m3.6 MB/s\u001b[0m eta \u001b[36m0:00:00\u001b[0m\n",
            "\u001b[?25hInstalling collected packages: pyahocorasick, anyascii, textsearch, contractions\n",
            "Successfully installed anyascii-0.3.2 contractions-0.1.73 pyahocorasick-2.1.0 textsearch-0.0.24\n"
          ]
        }
      ],
      "source": [
        "!pip install streamlit\n",
        "!pip install contractions"
      ]
    },
    {
      "cell_type": "code",
      "execution_count": null,
      "metadata": {
        "id": "0dEv8hwl_BPM"
      },
      "outputs": [],
      "source": [
        "import streamlit as st\n",
        "import pandas as pd\n",
        "import numpy as np\n",
        "import plotly.express as px\n",
        "import seaborn as sns"
      ]
    },
    {
      "cell_type": "code",
      "execution_count": null,
      "metadata": {
        "id": "irzR5FCq_Zfi"
      },
      "outputs": [],
      "source": [
        "import matplotlib.pyplot as plt\n",
        "import plotly.graph_objects as go\n",
        "from bs4 import BeautifulSoup\n",
        "import requests\n",
        "import urllib.request\n",
        "import time\n",
        "#Importing all required library\n",
        "import nltk\n",
        "import re\n",
        "import string\n",
        "import numpy as np\n",
        "import pandas as pd\n",
        "from sklearn.model_selection import train_test_split\n",
        "from sklearn.feature_extraction.text import TfidfVectorizer\n",
        "from sklearn.linear_model import PassiveAggressiveClassifier\n",
        "from sklearn.metrics import accuracy_score, confusion_matrix\n",
        "from sklearn.feature_extraction.text import CountVectorizer\n",
        "from sklearn import feature_extraction, linear_model, model_selection, preprocessing\n",
        "from sklearn.feature_extraction.text import TfidfTransformer\n",
        "from sklearn.naive_bayes import BernoulliNB\n",
        "from sklearn.tree import DecisionTreeClassifier\n",
        "from sklearn.linear_model import SGDClassifier\n",
        "import matplotlib.pyplot as plt\n",
        "from nltk.stem import PorterStemmer\n",
        "from nltk.tokenize import sent_tokenize, word_tokenize\n",
        "from nltk.tokenize import word_tokenize, sent_tokenize\n",
        "from wordcloud import WordCloud, STOPWORDS\n",
        "from sklearn.ensemble import RandomForestClassifier\n",
        "import streamlit as st\n",
        "import seaborn as sns\n",
        "import time\n",
        "from sklearn.pipeline import Pipeline\n",
        "from sklearn.naive_bayes import MultinomialNB\n",
        "from sklearn.metrics import classification_report\n",
        "import streamlit as st\n",
        "import pandas as pd\n",
        "import numpy as np\n",
        "import plotly.express as px\n",
        "import seaborn as sns\n",
        "import matplotlib.pyplot as plt\n",
        "import plotly.graph_objects as go\n",
        "from bs4 import BeautifulSoup\n",
        "import requests\n",
        "import urllib.request\n",
        "import time\n",
        "#Importing all required library\n",
        "import nltk\n",
        "import re\n",
        "import string\n",
        "import numpy as np\n",
        "import pandas as pd\n",
        "from sklearn.model_selection import train_test_split\n",
        "from sklearn.feature_extraction.text import TfidfVectorizer\n",
        "from sklearn.linear_model import PassiveAggressiveClassifier\n",
        "from sklearn.metrics import accuracy_score, confusion_matrix\n",
        "from sklearn.feature_extraction.text import CountVectorizer\n",
        "from sklearn import feature_extraction, linear_model, model_selection, preprocessing\n",
        "from sklearn.feature_extraction.text import TfidfTransformer\n",
        "from sklearn.naive_bayes import BernoulliNB\n",
        "from sklearn.tree import DecisionTreeClassifier\n",
        "from sklearn.linear_model import SGDClassifier\n",
        "import matplotlib.pyplot as plt\n",
        "from nltk.stem import PorterStemmer\n",
        "from nltk.tokenize import sent_tokenize, word_tokenize\n",
        "from nltk.tokenize import word_tokenize, sent_tokenize\n",
        "from wordcloud import WordCloud, STOPWORDS\n",
        "from sklearn.ensemble import RandomForestClassifier\n",
        "import streamlit as st\n",
        "import seaborn as sns\n",
        "import time\n",
        "from sklearn.pipeline import Pipeline\n",
        "from sklearn.naive_bayes import MultinomialNB\n",
        "from sklearn.metrics import classification_report"
      ]
    },
    {
      "cell_type": "code",
      "execution_count": null,
      "metadata": {
        "colab": {
          "base_uri": "https://localhost:8080/"
        },
        "id": "SrM409U-Euil",
        "outputId": "50698ee0-e867-4178-bb05-b5c31d51bd3a"
      },
      "outputs": [
        {
          "output_type": "stream",
          "name": "stdout",
          "text": [
            "Mounted at /content/drive\n"
          ]
        }
      ],
      "source": [
        "from google.colab import drive\n",
        "drive.mount('/content/drive')"
      ]
    },
    {
      "cell_type": "markdown",
      "source": [
        "Implememtaion with BuzzFeed Dataset"
      ],
      "metadata": {
        "id": "1cVhH3Ke-ryC"
      }
    },
    {
      "cell_type": "code",
      "execution_count": null,
      "metadata": {
        "id": "_hVPKJM7E1zC"
      },
      "outputs": [],
      "source": [
        "Df_BuzzFeed_fake= pd.read_csv(\"/content/drive/My Drive/Colab Notebooks/Fake_dataset/Existing Dataset/BuzzFeed_fake.csv\",encoding= 'unicode_escape')"
      ]
    },
    {
      "cell_type": "code",
      "source": [
        "Df_BuzzFeed_real=pd.read_csv(\"/content/drive/My Drive/Colab Notebooks/Fake_dataset/Existing Dataset/BuzzFeed_real.csv\",encoding= 'unicode_escape')"
      ],
      "metadata": {
        "id": "1u4HmF9I-TDm"
      },
      "execution_count": null,
      "outputs": []
    },
    {
      "cell_type": "code",
      "source": [
        "Df_BuzzFeed_real.shape"
      ],
      "metadata": {
        "colab": {
          "base_uri": "https://localhost:8080/"
        },
        "id": "VY38suAx-kx-",
        "outputId": "85c6473f-63ff-4b56-b96c-40fd38be4e44"
      },
      "execution_count": null,
      "outputs": [
        {
          "output_type": "execute_result",
          "data": {
            "text/plain": [
              "(91, 12)"
            ]
          },
          "metadata": {},
          "execution_count": 9
        }
      ]
    },
    {
      "cell_type": "code",
      "source": [
        "Df_BuzzFeed_fake.shape"
      ],
      "metadata": {
        "colab": {
          "base_uri": "https://localhost:8080/"
        },
        "id": "nWRoj9tX-fdf",
        "outputId": "5c6c6ff2-78ca-49dc-b516-a542311771f7"
      },
      "execution_count": null,
      "outputs": [
        {
          "output_type": "execute_result",
          "data": {
            "text/plain": [
              "(91, 12)"
            ]
          },
          "metadata": {},
          "execution_count": 10
        }
      ]
    },
    {
      "cell_type": "code",
      "source": [
        "df=pd.concat([Df_BuzzFeed_real,Df_BuzzFeed_fake],axis=0)"
      ],
      "metadata": {
        "id": "lhFQziIj_jSv"
      },
      "execution_count": null,
      "outputs": []
    },
    {
      "cell_type": "code",
      "source": [
        "df.shape"
      ],
      "metadata": {
        "colab": {
          "base_uri": "https://localhost:8080/"
        },
        "id": "Wa2k2GqZ_qss",
        "outputId": "0ae22a8c-7b19-46fb-ed34-88a28f2d8ed0"
      },
      "execution_count": null,
      "outputs": [
        {
          "output_type": "execute_result",
          "data": {
            "text/plain": [
              "(182, 12)"
            ]
          },
          "metadata": {},
          "execution_count": 13
        }
      ]
    },
    {
      "cell_type": "code",
      "source": [
        "df['news_type']=df['id'].apply(lambda x: x.split('_')[0])"
      ],
      "metadata": {
        "id": "_Fw1Xs9V_tCI"
      },
      "execution_count": null,
      "outputs": []
    },
    {
      "cell_type": "code",
      "source": [
        "df.head(10)"
      ],
      "metadata": {
        "colab": {
          "base_uri": "https://localhost:8080/",
          "height": 1000
        },
        "id": "z2dG6cTv_vys",
        "outputId": "dd88c4d3-f3a2-4f52-a1ad-3ccc004d58e3"
      },
      "execution_count": null,
      "outputs": [
        {
          "output_type": "execute_result",
          "data": {
            "text/plain": [
              "                id                                              title  \\\n",
              "0   Real_1-Webpage  Another Terrorist Attack in NYCâ¦Why Are we S...   \n",
              "1  Real_10-Webpage  Donald Trump: Drugs a 'Very, Very Big Factor' ...   \n",
              "2  Real_11-Webpage  Obama To UN: âGiving Up Liberty, Enhances Se...   \n",
              "3  Real_12-Webpage  Trump vs. Clinton: A Fundamental Clash over Ho...   \n",
              "4  Real_13-Webpage  President Obama Vetoes 9/11 Victims Bill, Sett...   \n",
              "5  Real_14-Webpage  CHAOS! NC Protest MOB Ambushes Female Truck Dr...   \n",
              "6  Real_15-Webpage  10 Moments That Mattered From Hillary Clinton ...   \n",
              "7  Real_16-Webpage  Young Girl's Emotional Council Speech Laments ...   \n",
              "8  Real_17-Webpage           Jeb Bush to lecture at Harvard this fall   \n",
              "9  Real_18-Webpage    Clinton vs. Trump: The debate before the debate   \n",
              "\n",
              "                                                text  \\\n",
              "0  On Saturday, September 17 at 8:30 pm EST, an e...   \n",
              "1  Less than a day after protests over the police...   \n",
              "2  Obama To UN: âGiving Up Liberty, Enhances Se...   \n",
              "3  Getty Images Wealth Of Nations Trump vs. Clint...   \n",
              "4  President Obama today vetoed a bill that would...   \n",
              "5  CHAOS! NC Protest MOB Ambushes Female Truck Dr...   \n",
              "6  Hillary Clinton and Donald Trump ushered the 2...   \n",
              "7  Peaceful protesters crowded Charlotte's first ...   \n",
              "8  Story highlights Bush will deliver his first l...   \n",
              "9  Hillary Clintonâs campaign is making one ple...   \n",
              "\n",
              "                                                 url  \\\n",
              "0  http://eaglerising.com/36942/another-terrorist...   \n",
              "1                             http://abcn.ws/2d4lNn9   \n",
              "2  http://rightwingnews.com/barack-obama/obama-un...   \n",
              "3                           http://politi.co/2de2qs0   \n",
              "4                             http://abcn.ws/2dh2NFs   \n",
              "5  http://rightwingnews.com/black-lives-matter/ch...   \n",
              "6                             http://abcn.ws/2d56mMD   \n",
              "7                             http://abcn.ws/2cTj7ap   \n",
              "8                              http://cnn.it/2d7qa20   \n",
              "9                           http://politi.co/2d0l760   \n",
              "\n",
              "                                             top_img  \\\n",
              "0  http://eaglerising.com/wp-content/uploads/2016...   \n",
              "1  http://a.abcnews.com/images/Politics/AP_donald...   \n",
              "2  http://rightwingnews.com/wp-content/uploads/20...   \n",
              "3  http://static.politico.com/e9/11/6144cdc24e319...   \n",
              "4  http://a.abcnews.com/images/US/AP_Obama_BM_201...   \n",
              "5  http://rightwingnews.com/wp-content/uploads/20...   \n",
              "6  http://a.abcnews.com/images/Politics/GTY_Debat...   \n",
              "7  http://a.abcnews.com/images/US/AP_Charlotte_Po...   \n",
              "8  http://i2.cdn.cnn.com/cnnnext/dam/assets/16021...   \n",
              "9  http://static.politico.com/e6/39/fd05beec4b3bb...   \n",
              "\n",
              "                                             authors  \\\n",
              "0                    View All Posts,Leonora Cravotta   \n",
              "1        More Candace,Adam Kelsey,Abc News,More Adam   \n",
              "2                                        Cassy Fiano   \n",
              "3         Jack Shafer,Erick Trickey,Zachary Karabell   \n",
              "4   John Parkinson,More John,Abc News,More Alexander   \n",
              "5                                        Cassy Fiano   \n",
              "6  More Veronica,Ryan Struyk,More Ryan,Meghan Ken...   \n",
              "7                              More Michael,Abc News   \n",
              "8                                    Ashley Killough   \n",
              "9  Jack Shafer,Steven Shepard,Glenn Thrush,Nolan ...   \n",
              "\n",
              "                     source              publish_date  \\\n",
              "0    http://eaglerising.com  {'$date': 1474528230000}   \n",
              "1            http://abcn.ws                       NaN   \n",
              "2  http://rightwingnews.com  {'$date': 1474476044000}   \n",
              "3          http://politi.co  {'$date': 1474974420000}   \n",
              "4            http://abcn.ws                       NaN   \n",
              "5  http://rightwingnews.com  {'$date': 1474473199000}   \n",
              "6            http://abcn.ws                       NaN   \n",
              "7            http://abcn.ws                       NaN   \n",
              "8             http://cnn.it                       NaN   \n",
              "9          http://politi.co  {'$date': 1474885803000}   \n",
              "\n",
              "                                      movies  \\\n",
              "0                                        NaN   \n",
              "1                                        NaN   \n",
              "2  https://www.youtube.com/embed/ji6pl5Vwrvk   \n",
              "3                                        NaN   \n",
              "4                                        NaN   \n",
              "5  https://www.youtube.com/embed/7LUv7x5bXV4   \n",
              "6                                        NaN   \n",
              "7                                        NaN   \n",
              "8                                        NaN   \n",
              "9                                        NaN   \n",
              "\n",
              "                                              images  \\\n",
              "0  http://constitution.com/wp-content/uploads/201...   \n",
              "1  http://www.googleadservices.com/pagead/convers...   \n",
              "2  http://rightwingnews.com/wp-content/uploads/20...   \n",
              "3  https://static.politico.com/dims4/default/8a1c...   \n",
              "4  http://www.googleadservices.com/pagead/convers...   \n",
              "5  http://rightwingnews.com/wp-content/uploads/wo...   \n",
              "6  http://a.abcnews.com/images/Politics/gty_debat...   \n",
              "7  http://a.abcnews.com/images/US/AP_Charlotte_Po...   \n",
              "8  http://i2.cdn.cnn.com/cnnnext/dam/assets/16042...   \n",
              "9  https://static.politico.com/dims4/default/a575...   \n",
              "\n",
              "                                      canonical_link  \\\n",
              "0  http://eaglerising.com/36942/another-terrorist...   \n",
              "1  http://abcnews.go.com/Politics/donald-trump-dr...   \n",
              "2  http://rightwingnews.com/barack-obama/obama-un...   \n",
              "3  http://www.politico.com/magazine/story/2016/09...   \n",
              "4  http://abcnews.go.com/Politics/president-obama...   \n",
              "5  http://rightwingnews.com/black-lives-matter/ch...   \n",
              "6  http://abcnews.go.com/Politics/presidential-de...   \n",
              "7  http://abcnews.go.com/US/young-girls-emotional...   \n",
              "8  http://www.cnn.com/2016/09/27/politics/jeb-bus...   \n",
              "9  http://www.politico.com/story/2016/09/clinton-...   \n",
              "\n",
              "                                           meta_data  \n",
              "0  {\"description\": \"“We believe at this point in ...  \n",
              "1  {\"fb_title\": \"Trump: Drugs a 'Very, Very Big F...  \n",
              "2  {\"googlebot\": \"noimageindex\", \"og\": {\"site_nam...  \n",
              "3  {\"description\": \"He sees it as zero-sum. She b...  \n",
              "4  {\"fb_title\": \"President Obama Vetoes 9/11 Vict...  \n",
              "5  {\"googlebot\": \"noimageindex\", \"og\": {\"site_nam...  \n",
              "6  {\"fb_title\": \"10 Moments That Mattered in 1st ...  \n",
              "7  {\"fb_title\": \"Young Girl's Emotional Speech La...  \n",
              "8  {\"description\": \"Jeb Bush will be a guest lect...  \n",
              "9  {\"description\": \"The Clinton and Trump camps a...  "
            ],
            "text/html": [
              "\n",
              "  <div id=\"df-85f3001e-b690-4db5-a749-786786954863\" class=\"colab-df-container\">\n",
              "    <div>\n",
              "<style scoped>\n",
              "    .dataframe tbody tr th:only-of-type {\n",
              "        vertical-align: middle;\n",
              "    }\n",
              "\n",
              "    .dataframe tbody tr th {\n",
              "        vertical-align: top;\n",
              "    }\n",
              "\n",
              "    .dataframe thead th {\n",
              "        text-align: right;\n",
              "    }\n",
              "</style>\n",
              "<table border=\"1\" class=\"dataframe\">\n",
              "  <thead>\n",
              "    <tr style=\"text-align: right;\">\n",
              "      <th></th>\n",
              "      <th>id</th>\n",
              "      <th>title</th>\n",
              "      <th>text</th>\n",
              "      <th>url</th>\n",
              "      <th>top_img</th>\n",
              "      <th>authors</th>\n",
              "      <th>source</th>\n",
              "      <th>publish_date</th>\n",
              "      <th>movies</th>\n",
              "      <th>images</th>\n",
              "      <th>canonical_link</th>\n",
              "      <th>meta_data</th>\n",
              "    </tr>\n",
              "  </thead>\n",
              "  <tbody>\n",
              "    <tr>\n",
              "      <th>0</th>\n",
              "      <td>Real_1-Webpage</td>\n",
              "      <td>Another Terrorist Attack in NYCâ¦Why Are we S...</td>\n",
              "      <td>On Saturday, September 17 at 8:30 pm EST, an e...</td>\n",
              "      <td>http://eaglerising.com/36942/another-terrorist...</td>\n",
              "      <td>http://eaglerising.com/wp-content/uploads/2016...</td>\n",
              "      <td>View All Posts,Leonora Cravotta</td>\n",
              "      <td>http://eaglerising.com</td>\n",
              "      <td>{'$date': 1474528230000}</td>\n",
              "      <td>NaN</td>\n",
              "      <td>http://constitution.com/wp-content/uploads/201...</td>\n",
              "      <td>http://eaglerising.com/36942/another-terrorist...</td>\n",
              "      <td>{\"description\": \"“We believe at this point in ...</td>\n",
              "    </tr>\n",
              "    <tr>\n",
              "      <th>1</th>\n",
              "      <td>Real_10-Webpage</td>\n",
              "      <td>Donald Trump: Drugs a 'Very, Very Big Factor' ...</td>\n",
              "      <td>Less than a day after protests over the police...</td>\n",
              "      <td>http://abcn.ws/2d4lNn9</td>\n",
              "      <td>http://a.abcnews.com/images/Politics/AP_donald...</td>\n",
              "      <td>More Candace,Adam Kelsey,Abc News,More Adam</td>\n",
              "      <td>http://abcn.ws</td>\n",
              "      <td>NaN</td>\n",
              "      <td>NaN</td>\n",
              "      <td>http://www.googleadservices.com/pagead/convers...</td>\n",
              "      <td>http://abcnews.go.com/Politics/donald-trump-dr...</td>\n",
              "      <td>{\"fb_title\": \"Trump: Drugs a 'Very, Very Big F...</td>\n",
              "    </tr>\n",
              "    <tr>\n",
              "      <th>2</th>\n",
              "      <td>Real_11-Webpage</td>\n",
              "      <td>Obama To UN: âGiving Up Liberty, Enhances Se...</td>\n",
              "      <td>Obama To UN: âGiving Up Liberty, Enhances Se...</td>\n",
              "      <td>http://rightwingnews.com/barack-obama/obama-un...</td>\n",
              "      <td>http://rightwingnews.com/wp-content/uploads/20...</td>\n",
              "      <td>Cassy Fiano</td>\n",
              "      <td>http://rightwingnews.com</td>\n",
              "      <td>{'$date': 1474476044000}</td>\n",
              "      <td>https://www.youtube.com/embed/ji6pl5Vwrvk</td>\n",
              "      <td>http://rightwingnews.com/wp-content/uploads/20...</td>\n",
              "      <td>http://rightwingnews.com/barack-obama/obama-un...</td>\n",
              "      <td>{\"googlebot\": \"noimageindex\", \"og\": {\"site_nam...</td>\n",
              "    </tr>\n",
              "    <tr>\n",
              "      <th>3</th>\n",
              "      <td>Real_12-Webpage</td>\n",
              "      <td>Trump vs. Clinton: A Fundamental Clash over Ho...</td>\n",
              "      <td>Getty Images Wealth Of Nations Trump vs. Clint...</td>\n",
              "      <td>http://politi.co/2de2qs0</td>\n",
              "      <td>http://static.politico.com/e9/11/6144cdc24e319...</td>\n",
              "      <td>Jack Shafer,Erick Trickey,Zachary Karabell</td>\n",
              "      <td>http://politi.co</td>\n",
              "      <td>{'$date': 1474974420000}</td>\n",
              "      <td>NaN</td>\n",
              "      <td>https://static.politico.com/dims4/default/8a1c...</td>\n",
              "      <td>http://www.politico.com/magazine/story/2016/09...</td>\n",
              "      <td>{\"description\": \"He sees it as zero-sum. She b...</td>\n",
              "    </tr>\n",
              "    <tr>\n",
              "      <th>4</th>\n",
              "      <td>Real_13-Webpage</td>\n",
              "      <td>President Obama Vetoes 9/11 Victims Bill, Sett...</td>\n",
              "      <td>President Obama today vetoed a bill that would...</td>\n",
              "      <td>http://abcn.ws/2dh2NFs</td>\n",
              "      <td>http://a.abcnews.com/images/US/AP_Obama_BM_201...</td>\n",
              "      <td>John Parkinson,More John,Abc News,More Alexander</td>\n",
              "      <td>http://abcn.ws</td>\n",
              "      <td>NaN</td>\n",
              "      <td>NaN</td>\n",
              "      <td>http://www.googleadservices.com/pagead/convers...</td>\n",
              "      <td>http://abcnews.go.com/Politics/president-obama...</td>\n",
              "      <td>{\"fb_title\": \"President Obama Vetoes 9/11 Vict...</td>\n",
              "    </tr>\n",
              "    <tr>\n",
              "      <th>5</th>\n",
              "      <td>Real_14-Webpage</td>\n",
              "      <td>CHAOS! NC Protest MOB Ambushes Female Truck Dr...</td>\n",
              "      <td>CHAOS! NC Protest MOB Ambushes Female Truck Dr...</td>\n",
              "      <td>http://rightwingnews.com/black-lives-matter/ch...</td>\n",
              "      <td>http://rightwingnews.com/wp-content/uploads/20...</td>\n",
              "      <td>Cassy Fiano</td>\n",
              "      <td>http://rightwingnews.com</td>\n",
              "      <td>{'$date': 1474473199000}</td>\n",
              "      <td>https://www.youtube.com/embed/7LUv7x5bXV4</td>\n",
              "      <td>http://rightwingnews.com/wp-content/uploads/wo...</td>\n",
              "      <td>http://rightwingnews.com/black-lives-matter/ch...</td>\n",
              "      <td>{\"googlebot\": \"noimageindex\", \"og\": {\"site_nam...</td>\n",
              "    </tr>\n",
              "    <tr>\n",
              "      <th>6</th>\n",
              "      <td>Real_15-Webpage</td>\n",
              "      <td>10 Moments That Mattered From Hillary Clinton ...</td>\n",
              "      <td>Hillary Clinton and Donald Trump ushered the 2...</td>\n",
              "      <td>http://abcn.ws/2d56mMD</td>\n",
              "      <td>http://a.abcnews.com/images/Politics/GTY_Debat...</td>\n",
              "      <td>More Veronica,Ryan Struyk,More Ryan,Meghan Ken...</td>\n",
              "      <td>http://abcn.ws</td>\n",
              "      <td>NaN</td>\n",
              "      <td>NaN</td>\n",
              "      <td>http://a.abcnews.com/images/Politics/gty_debat...</td>\n",
              "      <td>http://abcnews.go.com/Politics/presidential-de...</td>\n",
              "      <td>{\"fb_title\": \"10 Moments That Mattered in 1st ...</td>\n",
              "    </tr>\n",
              "    <tr>\n",
              "      <th>7</th>\n",
              "      <td>Real_16-Webpage</td>\n",
              "      <td>Young Girl's Emotional Council Speech Laments ...</td>\n",
              "      <td>Peaceful protesters crowded Charlotte's first ...</td>\n",
              "      <td>http://abcn.ws/2cTj7ap</td>\n",
              "      <td>http://a.abcnews.com/images/US/AP_Charlotte_Po...</td>\n",
              "      <td>More Michael,Abc News</td>\n",
              "      <td>http://abcn.ws</td>\n",
              "      <td>NaN</td>\n",
              "      <td>NaN</td>\n",
              "      <td>http://a.abcnews.com/images/US/AP_Charlotte_Po...</td>\n",
              "      <td>http://abcnews.go.com/US/young-girls-emotional...</td>\n",
              "      <td>{\"fb_title\": \"Young Girl's Emotional Speech La...</td>\n",
              "    </tr>\n",
              "    <tr>\n",
              "      <th>8</th>\n",
              "      <td>Real_17-Webpage</td>\n",
              "      <td>Jeb Bush to lecture at Harvard this fall</td>\n",
              "      <td>Story highlights Bush will deliver his first l...</td>\n",
              "      <td>http://cnn.it/2d7qa20</td>\n",
              "      <td>http://i2.cdn.cnn.com/cnnnext/dam/assets/16021...</td>\n",
              "      <td>Ashley Killough</td>\n",
              "      <td>http://cnn.it</td>\n",
              "      <td>NaN</td>\n",
              "      <td>NaN</td>\n",
              "      <td>http://i2.cdn.cnn.com/cnnnext/dam/assets/16042...</td>\n",
              "      <td>http://www.cnn.com/2016/09/27/politics/jeb-bus...</td>\n",
              "      <td>{\"description\": \"Jeb Bush will be a guest lect...</td>\n",
              "    </tr>\n",
              "    <tr>\n",
              "      <th>9</th>\n",
              "      <td>Real_18-Webpage</td>\n",
              "      <td>Clinton vs. Trump: The debate before the debate</td>\n",
              "      <td>Hillary Clintonâs campaign is making one ple...</td>\n",
              "      <td>http://politi.co/2d0l760</td>\n",
              "      <td>http://static.politico.com/e6/39/fd05beec4b3bb...</td>\n",
              "      <td>Jack Shafer,Steven Shepard,Glenn Thrush,Nolan ...</td>\n",
              "      <td>http://politi.co</td>\n",
              "      <td>{'$date': 1474885803000}</td>\n",
              "      <td>NaN</td>\n",
              "      <td>https://static.politico.com/dims4/default/a575...</td>\n",
              "      <td>http://www.politico.com/story/2016/09/clinton-...</td>\n",
              "      <td>{\"description\": \"The Clinton and Trump camps a...</td>\n",
              "    </tr>\n",
              "  </tbody>\n",
              "</table>\n",
              "</div>\n",
              "    <div class=\"colab-df-buttons\">\n",
              "\n",
              "  <div class=\"colab-df-container\">\n",
              "    <button class=\"colab-df-convert\" onclick=\"convertToInteractive('df-85f3001e-b690-4db5-a749-786786954863')\"\n",
              "            title=\"Convert this dataframe to an interactive table.\"\n",
              "            style=\"display:none;\">\n",
              "\n",
              "  <svg xmlns=\"http://www.w3.org/2000/svg\" height=\"24px\" viewBox=\"0 -960 960 960\">\n",
              "    <path d=\"M120-120v-720h720v720H120Zm60-500h600v-160H180v160Zm220 220h160v-160H400v160Zm0 220h160v-160H400v160ZM180-400h160v-160H180v160Zm440 0h160v-160H620v160ZM180-180h160v-160H180v160Zm440 0h160v-160H620v160Z\"/>\n",
              "  </svg>\n",
              "    </button>\n",
              "\n",
              "  <style>\n",
              "    .colab-df-container {\n",
              "      display:flex;\n",
              "      gap: 12px;\n",
              "    }\n",
              "\n",
              "    .colab-df-convert {\n",
              "      background-color: #E8F0FE;\n",
              "      border: none;\n",
              "      border-radius: 50%;\n",
              "      cursor: pointer;\n",
              "      display: none;\n",
              "      fill: #1967D2;\n",
              "      height: 32px;\n",
              "      padding: 0 0 0 0;\n",
              "      width: 32px;\n",
              "    }\n",
              "\n",
              "    .colab-df-convert:hover {\n",
              "      background-color: #E2EBFA;\n",
              "      box-shadow: 0px 1px 2px rgba(60, 64, 67, 0.3), 0px 1px 3px 1px rgba(60, 64, 67, 0.15);\n",
              "      fill: #174EA6;\n",
              "    }\n",
              "\n",
              "    .colab-df-buttons div {\n",
              "      margin-bottom: 4px;\n",
              "    }\n",
              "\n",
              "    [theme=dark] .colab-df-convert {\n",
              "      background-color: #3B4455;\n",
              "      fill: #D2E3FC;\n",
              "    }\n",
              "\n",
              "    [theme=dark] .colab-df-convert:hover {\n",
              "      background-color: #434B5C;\n",
              "      box-shadow: 0px 1px 3px 1px rgba(0, 0, 0, 0.15);\n",
              "      filter: drop-shadow(0px 1px 2px rgba(0, 0, 0, 0.3));\n",
              "      fill: #FFFFFF;\n",
              "    }\n",
              "  </style>\n",
              "\n",
              "    <script>\n",
              "      const buttonEl =\n",
              "        document.querySelector('#df-85f3001e-b690-4db5-a749-786786954863 button.colab-df-convert');\n",
              "      buttonEl.style.display =\n",
              "        google.colab.kernel.accessAllowed ? 'block' : 'none';\n",
              "\n",
              "      async function convertToInteractive(key) {\n",
              "        const element = document.querySelector('#df-85f3001e-b690-4db5-a749-786786954863');\n",
              "        const dataTable =\n",
              "          await google.colab.kernel.invokeFunction('convertToInteractive',\n",
              "                                                    [key], {});\n",
              "        if (!dataTable) return;\n",
              "\n",
              "        const docLinkHtml = 'Like what you see? Visit the ' +\n",
              "          '<a target=\"_blank\" href=https://colab.research.google.com/notebooks/data_table.ipynb>data table notebook</a>'\n",
              "          + ' to learn more about interactive tables.';\n",
              "        element.innerHTML = '';\n",
              "        dataTable['output_type'] = 'display_data';\n",
              "        await google.colab.output.renderOutput(dataTable, element);\n",
              "        const docLink = document.createElement('div');\n",
              "        docLink.innerHTML = docLinkHtml;\n",
              "        element.appendChild(docLink);\n",
              "      }\n",
              "    </script>\n",
              "  </div>\n",
              "\n",
              "\n",
              "<div id=\"df-67a5e237-fd33-4dc5-9c6b-7e0c143e4c51\">\n",
              "  <button class=\"colab-df-quickchart\" onclick=\"quickchart('df-67a5e237-fd33-4dc5-9c6b-7e0c143e4c51')\"\n",
              "            title=\"Suggest charts\"\n",
              "            style=\"display:none;\">\n",
              "\n",
              "<svg xmlns=\"http://www.w3.org/2000/svg\" height=\"24px\"viewBox=\"0 0 24 24\"\n",
              "     width=\"24px\">\n",
              "    <g>\n",
              "        <path d=\"M19 3H5c-1.1 0-2 .9-2 2v14c0 1.1.9 2 2 2h14c1.1 0 2-.9 2-2V5c0-1.1-.9-2-2-2zM9 17H7v-7h2v7zm4 0h-2V7h2v10zm4 0h-2v-4h2v4z\"/>\n",
              "    </g>\n",
              "</svg>\n",
              "  </button>\n",
              "\n",
              "<style>\n",
              "  .colab-df-quickchart {\n",
              "      --bg-color: #E8F0FE;\n",
              "      --fill-color: #1967D2;\n",
              "      --hover-bg-color: #E2EBFA;\n",
              "      --hover-fill-color: #174EA6;\n",
              "      --disabled-fill-color: #AAA;\n",
              "      --disabled-bg-color: #DDD;\n",
              "  }\n",
              "\n",
              "  [theme=dark] .colab-df-quickchart {\n",
              "      --bg-color: #3B4455;\n",
              "      --fill-color: #D2E3FC;\n",
              "      --hover-bg-color: #434B5C;\n",
              "      --hover-fill-color: #FFFFFF;\n",
              "      --disabled-bg-color: #3B4455;\n",
              "      --disabled-fill-color: #666;\n",
              "  }\n",
              "\n",
              "  .colab-df-quickchart {\n",
              "    background-color: var(--bg-color);\n",
              "    border: none;\n",
              "    border-radius: 50%;\n",
              "    cursor: pointer;\n",
              "    display: none;\n",
              "    fill: var(--fill-color);\n",
              "    height: 32px;\n",
              "    padding: 0;\n",
              "    width: 32px;\n",
              "  }\n",
              "\n",
              "  .colab-df-quickchart:hover {\n",
              "    background-color: var(--hover-bg-color);\n",
              "    box-shadow: 0 1px 2px rgba(60, 64, 67, 0.3), 0 1px 3px 1px rgba(60, 64, 67, 0.15);\n",
              "    fill: var(--button-hover-fill-color);\n",
              "  }\n",
              "\n",
              "  .colab-df-quickchart-complete:disabled,\n",
              "  .colab-df-quickchart-complete:disabled:hover {\n",
              "    background-color: var(--disabled-bg-color);\n",
              "    fill: var(--disabled-fill-color);\n",
              "    box-shadow: none;\n",
              "  }\n",
              "\n",
              "  .colab-df-spinner {\n",
              "    border: 2px solid var(--fill-color);\n",
              "    border-color: transparent;\n",
              "    border-bottom-color: var(--fill-color);\n",
              "    animation:\n",
              "      spin 1s steps(1) infinite;\n",
              "  }\n",
              "\n",
              "  @keyframes spin {\n",
              "    0% {\n",
              "      border-color: transparent;\n",
              "      border-bottom-color: var(--fill-color);\n",
              "      border-left-color: var(--fill-color);\n",
              "    }\n",
              "    20% {\n",
              "      border-color: transparent;\n",
              "      border-left-color: var(--fill-color);\n",
              "      border-top-color: var(--fill-color);\n",
              "    }\n",
              "    30% {\n",
              "      border-color: transparent;\n",
              "      border-left-color: var(--fill-color);\n",
              "      border-top-color: var(--fill-color);\n",
              "      border-right-color: var(--fill-color);\n",
              "    }\n",
              "    40% {\n",
              "      border-color: transparent;\n",
              "      border-right-color: var(--fill-color);\n",
              "      border-top-color: var(--fill-color);\n",
              "    }\n",
              "    60% {\n",
              "      border-color: transparent;\n",
              "      border-right-color: var(--fill-color);\n",
              "    }\n",
              "    80% {\n",
              "      border-color: transparent;\n",
              "      border-right-color: var(--fill-color);\n",
              "      border-bottom-color: var(--fill-color);\n",
              "    }\n",
              "    90% {\n",
              "      border-color: transparent;\n",
              "      border-bottom-color: var(--fill-color);\n",
              "    }\n",
              "  }\n",
              "</style>\n",
              "\n",
              "  <script>\n",
              "    async function quickchart(key) {\n",
              "      const quickchartButtonEl =\n",
              "        document.querySelector('#' + key + ' button');\n",
              "      quickchartButtonEl.disabled = true;  // To prevent multiple clicks.\n",
              "      quickchartButtonEl.classList.add('colab-df-spinner');\n",
              "      try {\n",
              "        const charts = await google.colab.kernel.invokeFunction(\n",
              "            'suggestCharts', [key], {});\n",
              "      } catch (error) {\n",
              "        console.error('Error during call to suggestCharts:', error);\n",
              "      }\n",
              "      quickchartButtonEl.classList.remove('colab-df-spinner');\n",
              "      quickchartButtonEl.classList.add('colab-df-quickchart-complete');\n",
              "    }\n",
              "    (() => {\n",
              "      let quickchartButtonEl =\n",
              "        document.querySelector('#df-67a5e237-fd33-4dc5-9c6b-7e0c143e4c51 button');\n",
              "      quickchartButtonEl.style.display =\n",
              "        google.colab.kernel.accessAllowed ? 'block' : 'none';\n",
              "    })();\n",
              "  </script>\n",
              "</div>\n",
              "\n",
              "    </div>\n",
              "  </div>\n"
            ],
            "application/vnd.google.colaboratory.intrinsic+json": {
              "type": "dataframe",
              "variable_name": "df",
              "summary": "{\n  \"name\": \"df\",\n  \"rows\": 182,\n  \"fields\": [\n    {\n      \"column\": \"id\",\n      \"properties\": {\n        \"dtype\": \"string\",\n        \"num_unique_values\": 182,\n        \"samples\": [\n          \"Real_27-Webpage\",\n          \"Real_48-Webpage\",\n          \"Fake_67-Webpage\"\n        ],\n        \"semantic_type\": \"\",\n        \"description\": \"\"\n      }\n    },\n    {\n      \"column\": \"title\",\n      \"properties\": {\n        \"dtype\": \"string\",\n        \"num_unique_values\": 178,\n        \"samples\": [\n          \"Rouhani: Iran deal able to weather the election\",\n          \"Obama: Refugee crisis is test of our humanity\",\n          \"Hillary Thought She Won The Debate. Didn\\u00e2\\u0080\\u0099t Expect This To Happen To Prove Her Wrong.\"\n        ],\n        \"semantic_type\": \"\",\n        \"description\": \"\"\n      }\n    },\n    {\n      \"column\": \"text\",\n      \"properties\": {\n        \"dtype\": \"string\",\n        \"num_unique_values\": 178,\n        \"samples\": [\n          \"Rouhani: Iran deal able to weather the election\\n\\nIranian President Hassan Rouhani on Wednesday expressed confidence that the landmark nuclear deal between his country and a group of world powers will be able to weather the volatile U.S. election season.\\n\\nMSNBC's Chuck Todd asked Rouhani whether he'd rather work with Hillary Clinton or Donald Trump, citing comments they've made on the nuclear deal. Rouhani said, \\\"Of course, throughout the atmosphere of presidential elections in the United States, candidates can bring up any topic that they see best suits the needs of their campaigns. But the reality remains that when the joint comprehensive plan of action was passed based on the United Nations Security Council resolution 2231, and it was approved unanimously, that became an international agreement.\\\"\\n\\nStory Continued Below\\n\\nTrump has repeatedly criticized the Iran nuclear deal, calling it a \\\"bad deal\\\" and previously said he would tear it up. He's also called the Obama administration incompetent over it.\\n\\nClinton, on the other hand, has said she would respect the deal, yet be cautious in dealing with Iran, in what's come to be known as her \\\"distrust and verify\\\" strategy.\\n\\n\\\"No one can say here or there that I don't accept this agreement, I want to renegotiate it. This has purely an electoral effect for some,\\\" Rouhani said.\\n\\nAuthors:\",\n          \"United Nations (CNN) President Barack Obama made an impassioned plea Tuesday for countries to fulfill a moral obligation to alleviate a global refugee crisis \\\"of epic proportions,\\\" despite a political backlash in the US against absorbing those fleeing Middle East violence.\\n\\nThe President's interest in calling attention to the tens of millions of displaced people around the world, and pushing back against the anti-refugee tenor, was underscored by his decision to convene a Leaders' Summit on Refugees at the United Nations Tuesday.\\n\\nAt the summit, he also rejected another aspect of the American political debate swirling around accepting foreigners -- GOP presidential nominee Donald Trump's call to build a wall along the US-Mexico border.\\n\\n\\\"This crisis is a test of our common humanity. Whether we give into suspicion and fear and build walls, or whether we see ourselves in another,\\\" Obama said, though he didn't mention Trump by name.\\n\\nObama singled out the situation in Syria, which has displaced 4.8 million people so far, as particularly \\\"unacceptable.\\\"\\n\\nJUST WATCHED President Obama at the UN: Then and now Replay More Videos ... MUST WATCH President Obama at the UN: Then and now 01:45\\n\\n\\\"We are not as unified as we should be in pushing to make it stop,\\\" he said, describing the global refugee crisis as both a humanitarian and security challenge that tests countries' ability to take collective action.\\n\\n\\\"I called this summit because this crisis is one of the most urgent tests of our time,\\\" he said. \\\"Just as failure to act in the past -- for example, by turning away Jews fleeing Nazi Germany -- is a stain on our collective conscience, I believe history will judge us harshly if we do not rise to this moment.\\\"\\n\\nThe refugee issue is one that's captured the world's attention more in the past two years than at perhaps any time since World War II, seared into the public's consciousness by photos like that of a 3-year-old Syrian boy who drowned in the Mediterranean and the flood of migrants into Europe.\\n\\nA recent study by from the UN's refugee agency estimated 65.3 million people were displaced from their homes by conflict or persecution in 2015, up by over five million from the prior year. Many are internally displaced within the borders of their own countries, but about 21.3 million are classified as refugees.\\n\\nObama's summit follows a similar UN-led meeting on the issue Monday, which drew attention to the crisis but offered little in the way of binding commitments.\\n\\n\\\"Make no mistake,\\\" US Secretary of State John Kerry said at the UN meeting, \\\"additional efforts are urgently needed.\\\"\\n\\nLeaders also called for a more orderly and equitable system to manage refugee flows -- acknowledging the burden is shouldered disproportionally by certain regions.\\n\\n\\\"You have to know that today the European Union has a clear objective to restore order on its external borders,\\\" European Council President Donald Tusk said in his remarks, signaling a growing sense that patience in Europe with the migrant flow is wearing thin.\\n\\n\\\"There will be no repeat of the year 2015 with more than one and a half million irregular migrants,\\\" he added.\\n\\nThe Obama administration is hopeful the Leader's Summit on Tuesday afternoon can build momentum for more action.\\n\\nNational Security Advisor Susan Rice in June announced that the gathering -- co-hosted along with the US by Canada, Ethiopia, Germany, Jordan, Mexico, Sweden and the UN Secretary General -- would seek an increase in funding of at least 30%, a doubling of permanent resettlement, and expanded access to education and work rights for refugees.\\n\\n\\\"Reaching these ambitious objectives will be challenging, yet the level of need demands no less,\\\" Rice said in a statement.\\n\\nBut aid groups are skeptical the summit will prompt the kind of action they say is desperately needed.\\n\\n\\\"We have to be optimistic that we'll see some real concrete commitments,\\\" said Amnesty International's Interim Executive Director Margaret Huang. \\\"But the truth is, even if those numbers are hit, it's nowhere near what's actually needed.\\\"\\n\\nThe US is a major contributor of humanitarian aid for countries that host large numbers of refugees -- particularly Syria's neighbors -- and plans to increase the number of refugees it will take in to America from 85,000 in 2016 to 110,000 next year.\\n\\nThe President's chief spokesman last week conceded that even as the administration calls for greater global action, it is limited in what it can do.\\n\\n\\\"The President's commitment to ensuring that the United States plays a leading role on this issue is not shared by a lot of people in Congress, including by a lot of people in the Republican majority in Congress,\\\" Press Secretary Josh Earnest told reporters. \\\"And that has an impact in terms of the resources that are dedicated to this effort.\\\"\\n\\nVetting efforts to screen refugees, he noted, \\\"are not cheap.\\\"\\n\\nDavid Miliband, president of the International Rescue Committee and a former British Foreign Secretary, said he's hopeful but waiting to see whether any agreements are backed up with action.\\n\\n\\\"The scale of the global refugee problem demands an appropriate scale of response,\\\" Miliband told CNN. \\\"Governments around the world haven't, in the main, been responding with the right degree of compassion or competence up to now.\\\"\\n\\nBut the co-hosts of the Leaders' Summit said in a statement they were pleased with \\\"new and significant humanitarian contributions\\\" from world leaders.\\n\\n\\\"We sought a $3 billion increase in global humanitarian financing and commitments to maintain funding in future years,\\\" they said. \\\"Through our mutual efforts, over the course of 2016, the 32 donors participating today have contributed this year roughly 4.5 billion additional dollars to UN appeals and international humanitarian organizations than in 2015.\\\"\\n\\nAs they await action from world leaders in New York, a group of volunteers in London laid out a \\\"life jacket graveyard\\\" Monday to draw attention to the plight of thousands of migrants who've lost their lives attempting hazardous boat crossings in the Mediterranean.\\n\\nThe conflict in Syria and resulting migrant crisis in the Middle East and Europe have dominated headlines over the past 18 months, but refugees are a global problem.\\n\\nPerhaps nowhere are they more prevalent than in the so-called \\\"global south\\\" -- the developing countries of the southern hemisphere. Last week, South Sudan joined the ranks of Syria, Afghanistan, and Somalia -- countries with over 1 million of their citizens living as refugees abroad.\\n\\nAnd protracted conflict in places like Somalia have led to a generation of lifelong refugees -- men and women in their twenties who've never known life outside of a camp.\\n\\n\\\"These are not people who can envision what life would be like if they were returned to their home countries,\\\" Huang said.\",\n          \"Oh Hillary, when will you learn? You never count your chickens before they\\u00e2\\u0080\\u0099re hatched. Also, don\\u00e2\\u0080\\u0099t say you\\u00e2\\u0080\\u0099ve won when you clearly didn\\u00e2\\u0080\\u0099t.\\n\\nThe polls are in from last night\\u00e2\\u0080\\u0099s debate. At first glance they do not look good for Donald Trump. According to focus groups from Fox News and CNN, both had Hillary winning last night\\u00e2\\u0080\\u0099s debate.\\n\\nBut were those true tests of the voting pool on the whole?\\n\\nAccording to focus groups at both Fox News and CNN, Democratic presidential nominee Hillary Clinton handily defeated Republican Donald Trump in Monday\\u00e2\\u0080\\u0099s presidential debate. At CNN, the focus group went 18-2 in favor of Clinton. And at Fox, pollster Frank Luntz\\u00e2\\u0080\\u0099s group went 16-6 in favor of the former secretary of state. CNN\\u00e2\\u0080\\u0099s group was a group of voters from Florida, while Luntz\\u00e2\\u0080\\u0099s group was comprised of Pennsylvanians. Luntz, who tweeted frequently throughout the debate, said that Trump didn\\u00e2\\u0080\\u0099t do well when he talked about his taxes but began to rebound when he knocked Clinton over her email scandal. However, Trump \\u00e2\\u0080\\u009ctanked\\u00e2\\u0080\\u009d when \\u00e2\\u0080\\u009ctrying to explain why he questioned Obama\\u00e2\\u0080\\u0099s birthplace for so long.\\u00e2\\u0080\\u009d\\n\\nBut what no one is telling you is that another poll had Trump winning 92% to 8%.\\n\\nDrudge poll\\u00e2\\u0080\\u00a6 pic.twitter.com/UTCpTmMRbi \\u00e2\\u0080\\u0094 Greg Pollowitz (@GPollowitz) September 27, 2016\\n\\nAfter Hillary\\u00e2\\u0080\\u0099s tweet that said she won, America shot her down FAST.\\n\\n@HillaryClinton The number one trending hashtag in the world is #TrumpWon. You can't delete it like its your damn e-mails. \\u00e2\\u0080\\u0094 Anthony Einzig (@AnthonyEinzig) September 27, 2016\\n\\n@HillaryClinton \\u00e2\\u0080\\u00a6you run and hide from media afterwards. \\u00e2\\u0080\\u0094 Honky Cartel (@ScottInSC) September 27, 2016\\n\\nLooks like Hillary has some explaining to do. Some things you just can\\u00e2\\u0080\\u0099t delete.\\n\\n(Source: Twitter)\\n\\n\\n\\n\"\n        ],\n        \"semantic_type\": \"\",\n        \"description\": \"\"\n      }\n    },\n    {\n      \"column\": \"url\",\n      \"properties\": {\n        \"dtype\": \"string\",\n        \"num_unique_values\": 171,\n        \"samples\": [\n          \"https://goo.gl/aRYFof\",\n          \"http://politi.co/2dpdeXp\",\n          \"http://www.addictinginfo.org/2016/09/20/how-trump-is-hiding-from-the-media-like-a-total-coward/\"\n        ],\n        \"semantic_type\": \"\",\n        \"description\": \"\"\n      }\n    },\n    {\n      \"column\": \"top_img\",\n      \"properties\": {\n        \"dtype\": \"string\",\n        \"num_unique_values\": 166,\n        \"samples\": [\n          \"http://usherald.com/wp-content/uploads/2015/04/post_1428850208.jpg\",\n          \"http://occupydemocrats.com/wp-content/uploads/theil-1.jpg\",\n          \"http://static.politico.com/f8/4f/00fe12244f809df3cf4b53864559/160921-donald-trump-gty-1160.jpg\"\n        ],\n        \"semantic_type\": \"\",\n        \"description\": \"\"\n      }\n    },\n    {\n      \"column\": \"authors\",\n      \"properties\": {\n        \"dtype\": \"category\",\n        \"num_unique_values\": 90,\n        \"samples\": [\n          \"Deirdre Walsh,Cnn Senior Congressional Producer\",\n          \"Jack Shafer,Michael Hirsh,Mikhail Zygar,Bruce Blair,Peter Edelman,Adam Walinsky\",\n          \"Steven Shepard\"\n        ],\n        \"semantic_type\": \"\",\n        \"description\": \"\"\n      }\n    },\n    {\n      \"column\": \"source\",\n      \"properties\": {\n        \"dtype\": \"category\",\n        \"num_unique_values\": 28,\n        \"samples\": [\n          \"http://freedomdaily.com\",\n          \"http://www.chicksontheright.com\",\n          \"http://conservativebyte.com\"\n        ],\n        \"semantic_type\": \"\",\n        \"description\": \"\"\n      }\n    },\n    {\n      \"column\": \"publish_date\",\n      \"properties\": {\n        \"dtype\": \"string\",\n        \"num_unique_values\": 118,\n        \"samples\": [\n          \"{'$date': 1474328384000}\",\n          \"{'$date': 1474326313000}\",\n          \"{'$date': 1474885803000}\"\n        ],\n        \"semantic_type\": \"\",\n        \"description\": \"\"\n      }\n    },\n    {\n      \"column\": \"movies\",\n      \"properties\": {\n        \"dtype\": \"category\",\n        \"num_unique_values\": 25,\n        \"samples\": [\n          \"https://www.youtube.com/embed/uO0R4k1tVMs?feature=oembed,https://www.youtube.com/embed/lNj06em7cfo?feature=oembed\",\n          \"https://www.youtube.com/embed/N5GRpJweZNU?feature=oembed&showinfo=0&rel=0&modestbranding=1\",\n          \"https://www.youtube.com/embed/ji6pl5Vwrvk\"\n        ],\n        \"semantic_type\": \"\",\n        \"description\": \"\"\n      }\n    },\n    {\n      \"column\": \"images\",\n      \"properties\": {\n        \"dtype\": \"string\",\n        \"num_unique_values\": 169,\n        \"samples\": [\n          \"http://occupydemocrats.com/wp-content/uploads/od-political-WEBSITE-SIDEBAR-SMALL.png,http://occupydemocrats.com/wp-content/uploads/Bye-Bye-Trump-240x150.png,http://occupydemocrats.com/wp-content/uploads/HannityUK-340x150.jpg,http://occupydemocrats.com/wp-content/uploads/cher-1-240x150.jpg,http://occupydemocrats.com/wp-content/uploads/trumpuse-340x150.jpg,http://occupydemocrats.com/wp-content/uploads/olsteen-340x150.png,http://occupydemocrats.com/wp-content/uploads/occupydemocrats-logo2x.png,http://occupydemocrats.com/wp-content/uploads/fin-340x150.jpg,http://occupydemocrats.com/wp-content/uploads/Screen-Shot-2016-10-22-at-4.07.01-PM.png,http://occupydemocrats.com/wp-content/uploads/trumpwon-1.jpg,http://occupydemocrats.com/wp-content/uploads/putingtwitter.jpg,http://0.gravatar.com/avatar/94cbb3560cca3d2e5338216af4b13172?s=164&d=mm&r=g,http://occupydemocrats.com/wp-content/uploads/donald-trump-with-felix-sater-240x150.jpg,http://occupydemocrats.com/wp-content/uploads/sallyyates-240x150.jpg,http://occupydemocrats.com/wp-content/uploads/DrunkTrump-240x150.png,http://occupydemocrats.com/wp-content/uploads/watters-1-340x150.jpg,http://occupydemocrats.com/wp-content/uploads/it-340x150.jpg\",\n          \"http://static.politico.com/b5/be/fed7973e4fcb9fa148be44c4b892/donna-brazile-ap.jpg,data:image/gif;base64,R0lGODlhAQABAAAAACH5BAEKAAEALAAAAAABAAEAAAICTAEAOw==,https://static.politico.com/dims4/default/7aa6fc7/2147483647/resize/1160x%3E/quality/90/?url=http%3A%2F%2Fstatic.politico.com%2Fb5%2Fbe%2Ffed7973e4fcb9fa148be44c4b892%2Fdonna-brazile-ap.jpg\",\n          \"http://1csabj4ddrd61fgqez2e4nss.wpengine.netdna-cdn.com/wp-content/uploads/2017/08/nimrod-218x150.jpg,http://constitution.com/wp-content/uploads/2017/08/confederatemonument_poll_pop.jpg,http://1csabj4ddrd61fgqez2e4nss.wpengine.netdna-cdn.com/wp-content/uploads/2017/08/lecutre-cover-218x150.jpg,http://1csabj4ddrd61fgqez2e4nss.wpengine.netdna-cdn.com/wp-content/uploads/wordpress-popular-posts/274034-featured-300x130.jpg,http://1csabj4ddrd61fgqez2e4nss.wpengine.netdna-cdn.com/wp-content/uploads/wordpress-popular-posts/274036-featured-300x130.jpg,http://1csabj4ddrd61fgqez2e4nss.wpengine.netdna-cdn.com/wp-content/uploads/wordpress-popular-posts/274106-featured-300x130.jpg,http://1csabj4ddrd61fgqez2e4nss.wpengine.netdna-cdn.com/wp-content/uploads/2017/08/kneeling-cover-218x150.jpg,http://1csabj4ddrd61fgqez2e4nss.wpengine.netdna-cdn.com/wp-content/uploads/2017/08/1-33-218x150.jpg,http://1csabj4ddrd61fgqez2e4nss.wpengine.netdna-cdn.com/wp-content/uploads/wordpress-popular-posts/274161-featured-300x130.jpg,http://1csabj4ddrd61fgqez2e4nss.wpengine.netdna-cdn.com/wp-content/uploads/2017/07/trans-vs-marines-2-100x70.jpg,http://1csabj4ddrd61fgqez2e4nss.wpengine.netdna-cdn.com/wp-content/uploads/2017/07/foxxconn-lib-woman-freak-lol-main-100x70.jpg,http://1csabj4ddrd61fgqez2e4nss.wpengine.netdna-cdn.com/wp-content/uploads/2017/08/1-88-100x70.jpg,http://1csabj4ddrd61fgqez2e4nss.wpengine.netdna-cdn.com/wp-content/uploads/2017/08/carls-sick-food-main-218x150.jpg,http://1csabj4ddrd61fgqez2e4nss.wpengine.netdna-cdn.com/wp-content/uploads/wordpress-popular-posts/273961-featured-300x130.jpg,http://1csabj4ddrd61fgqez2e4nss.wpengine.netdna-cdn.com/wp-content/uploads/2017/08/salzman-1-transgender-main-100x70.jpg,http://1csabj4ddrd61fgqez2e4nss.wpengine.netdna-cdn.com/wp-content/uploads/2017/08/thug-vs-teacher-82717-main-218x150.jpg,http://1csabj4ddrd61fgqez2e4nss.wpengine.netdna-cdn.com/wp-content/uploads/2017/08/lefties-cry--218x150.jpg,http://1csabj4ddrd61fgqez2e4nss.wpengine.netdna-cdn.com/wp-content/uploads/2017/08/marine-cover2-218x150.jpg,http://1csabj4ddrd61fgqez2e4nss.wpengine.netdna-cdn.com/wp-content/uploads/2017/08/soldiers-usa-congress-324x160.jpg,http://1csabj4ddrd61fgqez2e4nss.wpengine.netdna-cdn.com/wp-content/uploads/wordpress-popular-posts/274096-featured-300x130.jpg,http://1csabj4ddrd61fgqez2e4nss.wpengine.netdna-cdn.com/wp-content/uploads/2017/08/1-project-hero-main-218x150.jpg,http://1csabj4ddrd61fgqez2e4nss.wpengine.netdna-cdn.com/wp-content/uploads/2017/08/1-88-218x150.jpg,http://1csabj4ddrd61fgqez2e4nss.wpengine.netdna-cdn.com/wp-content/uploads/2017/08/1-90-324x160.jpg,http://1csabj4ddrd61fgqez2e4nss.wpengine.netdna-cdn.com/wp-content/uploads/2017/01/starbucks-218x150.jpg,http://b.scorecardresearch.com/p?c1=2&c2=22315475&cv=2.0&cj=1,http://1csabj4ddrd61fgqez2e4nss.wpengine.netdna-cdn.com/wp-content/uploads/wordpress-popular-posts/274126-featured-300x130.jpg,http://1csabj4ddrd61fgqez2e4nss.wpengine.netdna-cdn.com/wp-content/uploads/2017/08/trump-leaving-marine-meeting-main-218x150.jpg,http://1csabj4ddrd61fgqez2e4nss.wpengine.netdna-cdn.com/wp-content/uploads/2017/08/kissimmee-police-antifa-main-324x160.jpg,http://2.gravatar.com/avatar/23b3cd9b5f54c3fbd5e079f2e5116a37?s=100&r=pg,http://1csabj4ddrd61fgqez2e4nss.wpengine.netdna-cdn.com/wp-content/uploads/2017/08/mayor-cover-218x150.jpg,http://1csabj4ddrd61fgqez2e4nss.wpengine.netdna-cdn.com/wp-content/uploads/wordpress-popular-posts/274098-featured-300x130.jpg,http://1csabj4ddrd61fgqez2e4nss.wpengine.netdna-cdn.com/wp-content/uploads/2017/08/1-project-hero-main-100x70.jpg,http://1csabj4ddrd61fgqez2e4nss.wpengine.netdna-cdn.com/wp-content/uploads/2017/07/military-plane-fireworks-218x150.jpg,http://1csabj4ddrd61fgqez2e4nss.wpengine.netdna-cdn.com/wp-content/uploads/2017/08/soldiers-usa-congress-218x150.jpg,http://1csabj4ddrd61fgqez2e4nss.wpengine.netdna-cdn.com/wp-content/uploads/wordpress-popular-posts/274001-featured-300x130.jpg,http://1csabj4ddrd61fgqez2e4nss.wpengine.netdna-cdn.com/wp-content/uploads/2017/07/food-stamps-ghetto-king-main-2-Lol-100x70.jpg,http://1csabj4ddrd61fgqez2e4nss.wpengine.netdna-cdn.com/wp-content/uploads/wordpress-popular-posts/274049-featured-300x130.jpg,http://1csabj4ddrd61fgqez2e4nss.wpengine.netdna-cdn.com/wp-content/uploads/2017/08/1-90-218x150.jpg,http://1csabj4ddrd61fgqez2e4nss.wpengine.netdna-cdn.com/wp-content/uploads/wordpress-popular-posts/274041-featured-300x130.jpg,http://1csabj4ddrd61fgqez2e4nss.wpengine.netdna-cdn.com/wp-content/uploads/2016/06/FD-Head.jpg,http://1csabj4ddrd61fgqez2e4nss.wpengine.netdna-cdn.com/wp-content/uploads/2017/08/wes-bellamy-racist-tweets-main-100x70.jpg,http://1csabj4ddrd61fgqez2e4nss.wpengine.netdna-cdn.com/wp-content/uploads/2017/08/1-84-100x70.jpg,http://1csabj4ddrd61fgqez2e4nss.wpengine.netdna-cdn.com/wp-content/uploads/2017/06/happy-us-soldier-with-baby-218x150.jpg,http://1csabj4ddrd61fgqez2e4nss.wpengine.netdna-cdn.com/wp-content/uploads/2017/08/1-86-100x70.jpg,http://freedomdaily.com/wp-content/uploads/2016/09/refugees-welcome.jpg,http://1csabj4ddrd61fgqez2e4nss.wpengine.netdna-cdn.com/wp-content/uploads/2016/04/fd-large-logo-140x48.png,http://1csabj4ddrd61fgqez2e4nss.wpengine.netdna-cdn.com/wp-content/uploads/2017/08/1-79-218x150.jpg,http://1csabj4ddrd61fgqez2e4nss.wpengine.netdna-cdn.com/wp-content/uploads/2017/08/Huckabee-dry-218x150.jpg,http://1csabj4ddrd61fgqez2e4nss.wpengine.netdna-cdn.com/wp-content/uploads/wordpress-popular-posts/274093-featured-300x130.jpg,http://1csabj4ddrd61fgqez2e4nss.wpengine.netdna-cdn.com/wp-content/uploads/2017/08/Keandre-Funches-black-mama-main-100x70.jpg,http://1csabj4ddrd61fgqez2e4nss.wpengine.netdna-cdn.com/wp-content/uploads/wordpress-popular-posts/274030-featured-300x130.jpg,http://pixel.quantserve.com/pixel/p-52ePUfP6_NxQ_.gif,http://1csabj4ddrd61fgqez2e4nss.wpengine.netdna-cdn.com/wp-content/uploads/2017/08/kim-jong-huh-navy-seals-main-218x150.jpg,http://1csabj4ddrd61fgqez2e4nss.wpengine.netdna-cdn.com/wp-content/uploads/2017/08/blm-2-white-kid-chains-reparations-main-218x150.jpg,http://1csabj4ddrd61fgqez2e4nss.wpengine.netdna-cdn.com/wp-content/uploads/wordpress-popular-posts/274182-featured-300x130.jpg,http://1csabj4ddrd61fgqez2e4nss.wpengine.netdna-cdn.com/wp-content/uploads/2017/07/ventura-taya-kyle-main-7617-2-218x150.jpg,http://1csabj4ddrd61fgqez2e4nss.wpengine.netdna-cdn.com/wp-content/uploads/2017/08/1-83-100x70.jpg,http://1csabj4ddrd61fgqez2e4nss.wpengine.netdna-cdn.com/wp-content/uploads/2017/08/Police_sniper-rubio-main-218x150.jpg,http://1csabj4ddrd61fgqez2e4nss.wpengine.netdna-cdn.com/wp-content/uploads/2017/08/first-lady-218x150.jpg,http://1csabj4ddrd61fgqez2e4nss.wpengine.netdna-cdn.com/wp-content/uploads/2017/07/Dale-Comstock-and-Kyle-1024x595-100x70.jpg,http://1csabj4ddrd61fgqez2e4nss.wpengine.netdna-cdn.com/wp-content/uploads/2016/09/refugees-welcome-670x340.jpg,http://1csabj4ddrd61fgqez2e4nss.wpengine.netdna-cdn.com/wp-content/uploads/2017/08/snowflakes-cover-218x150.jpg,http://1csabj4ddrd61fgqez2e4nss.wpengine.netdna-cdn.com/wp-content/uploads/wordpress-popular-posts/274152-featured-300x130.jpg,http://1csabj4ddrd61fgqez2e4nss.wpengine.netdna-cdn.com/wp-content/uploads/wordpress-popular-posts/274028-featured-300x130.jpg,http://1csabj4ddrd61fgqez2e4nss.wpengine.netdna-cdn.com/wp-content/uploads/wordpress-popular-posts/274091-featured-300x130.jpg\"\n        ],\n        \"semantic_type\": \"\",\n        \"description\": \"\"\n      }\n    },\n    {\n      \"column\": \"canonical_link\",\n      \"properties\": {\n        \"dtype\": \"string\",\n        \"num_unique_values\": 168,\n        \"samples\": [\n          \"http://occupydemocrats.com/2016/09/27/breaking-putins-troll-army-caught-rigging-twitter-pretend-trump-won/\",\n          \"http://www.politico.com/story/2016/09/trump-debate-birther-donna-brazile-228781\",\n          \"http://addictinginfo.com/2016/09/22/republicans-push-bill-to-legalize-voter-intimidation-to-help-trump-in-pennsylvania/\"\n        ],\n        \"semantic_type\": \"\",\n        \"description\": \"\"\n      }\n    },\n    {\n      \"column\": \"meta_data\",\n      \"properties\": {\n        \"dtype\": \"string\",\n        \"num_unique_values\": 171,\n        \"samples\": [\n          \"{\\\"generator\\\": \\\"WordPress 4.8.1\\\", \\\"og\\\": {\\\"site_name\\\": \\\"US Herald\\\", \\\"description\\\": \\\"Thanks in part to the declassification of Defense Intelligence documents, connecting those missing dots seems to have finally reveled what most Middle East observers have suspected all along, that the rise of the terrorist \\u2026\\\", \\\"title\\\": \\\"Declassified Docs Show That Obama Admin Created ISIS In 2012 To Use As A 'Tool' \\u22c6 US Herald\\\", \\\"locale\\\": \\\"en_US\\\", \\\"image\\\": {\\\"width\\\": 876, \\\"identifier\\\": \\\"http://usherald.com/wp-content/uploads/2015/05/Obama-ISIS-Fox.jpg\\\", \\\"height\\\": 493}, \\\"updated_time\\\": \\\"2016-12-09T03:39:55-05:00\\\", \\\"url\\\": \\\"http://usherald.com/breaking-declassified-docs-show-that-obama-admin-created-isis-in-2012-to-use-as-a-tool/\\\", \\\"type\\\": \\\"article\\\"}, \\\"twitter\\\": {\\\"description\\\": \\\"Thanks in part to the declassification of Defense Intelligence documents, connecting those missing dots seems to have finally reveled what most Middle East observers have suspected all along, that the rise of the terrorist [\\u2026]\\\", \\\"creator\\\": \\\"@usheraldnews\\\", \\\"image\\\": \\\"http://usherald.com/wp-content/uploads/2015/05/Obama-ISIS-Fox.jpg\\\", \\\"title\\\": \\\"Declassified Docs Show That Obama Admin Created ISIS In 2012 To Use As A 'Tool' \\u22c6 US Herald\\\", \\\"site\\\": \\\"@usheraldnews\\\", \\\"card\\\": \\\"summary_large_image\\\"}, \\\"fb\\\": {\\\"app_id\\\": 211561922608080, \\\"pages\\\": 1746057572287188}, \\\"article\\\": {\\\"publisher\\\": \\\"https://www.facebook.com/unitedstatesherald/\\\", \\\"section\\\": \\\"- TERROR WATCH -\\\", \\\"published_time\\\": \\\"2015-05-26T09:20:30-05:00\\\", \\\"modified_time\\\": \\\"2016-12-09T03:39:55-05:00\\\"}, \\\"google-site-verification\\\": \\\"ZdE3006b76rd8x4CyNxQi3cdpRirnUjvfut4ZYX-bqY\\\", \\\"viewport\\\": \\\"width=device-width, initial-scale=1.0\\\"}\",\n          \"{\\\"description\\\": \\\"Obama touted Clinton\\u2019s performance and her qualifications for the presidency, saying \\u201cshe\\u2019s serious and does her homework.\\u201d\\\", \\\"og\\\": {\\\"site_name\\\": \\\"POLITICO\\\", \\\"description\\\": \\\"Obama touted Clinton\\u2019s performance and her qualifications for the presidency, saying \\u201cshe\\u2019s serious and does her homework.\\u201d\\\", \\\"title\\\": \\\"Obama weighs in on the debate\\\", \\\"url\\\": \\\"http://politi.co/2d1aa0D\\\", \\\"image\\\": \\\"http://v.politico.com/images/1155968404/201609/3676/1155968404_5143747447001_5143712894001-vs.jpg?pubId=1155968404\\\", \\\"fb_appid\\\": 114037015331397, \\\"type\\\": \\\"article\\\"}, \\\"twitter\\\": {\\\"site\\\": \\\"@politico\\\", \\\"card\\\": \\\"summary_large_image\\\", \\\"creator\\\": \\\"@politico\\\"}, \\\"host\\\": \\\"www.politico.com\\\", \\\"fb\\\": {\\\"pages\\\": 62317591679}, \\\"build\\\": \\\"release/2017-maria 4b1f874 2017-08-24T15:20:21Z\\\", \\\"article\\\": {\\\"author\\\": \\\"https://www.facebook.com/brianna.ehley\\\"}, \\\"viewport\\\": \\\"width=device-width, initial-scale=1\\\"}\",\n          \"{\\\"publisher\\\": \\\"Addicting Info | The Knowledge You Crave\\\", \\\"description\\\": \\\"Trump is hiding from the media like a total coward, and this is why it could be a disaster for him.\\\", \\\"generator\\\": \\\"WPZOOM Framework 1.5.0\\\", \\\"author\\\": \\\"Oliver Willis\\\", \\\"og\\\": {\\\"site_name\\\": \\\"AddictingInfo\\\", \\\"description\\\": \\\"Trump is hiding from the media like a total coward, and this is why it could be a disaster for him.\\\", \\\"title\\\": \\\"How Trump Is Hiding From The Media Like A Total Coward\\\", \\\"url\\\": \\\"http://addictinginfo.com/2016/09/20/how-trump-is-hiding-from-the-media-like-a-total-coward/\\\", \\\"image\\\": \\\"http://addictinginfo.addictinginfoent.netdna-cdn.com/wp-content/uploads/2016/09/27484886630_7f5ec68aaa_k.jpg\\\", \\\"locale\\\": \\\"en_US\\\", \\\"type\\\": \\\"article\\\"}, \\\"twitter\\\": {\\\"description\\\": \\\"Trump is hiding from the media like a total coward, and this is why it could be a disaster for him.\\\", \\\"title\\\": \\\"How Trump Is Hiding From The Media Like A Total Coward\\\", \\\"url\\\": \\\"http://addictinginfo.com/2016/09/20/how-trump-is-hiding-from-the-media-like-a-total-coward/\\\", \\\"image\\\": \\\"http://addictinginfo.addictinginfoent.netdna-cdn.com/wp-content/uploads/2016/09/27484886630_7f5ec68aaa_k.jpg\\\", \\\"site\\\": \\\"@AddInfoOrg\\\", \\\"card\\\": \\\"summary_large_image\\\"}, \\\"fb\\\": {\\\"app_id\\\": 529217710562597, \\\"pages\\\": 146422995398181}, \\\"article\\\": {\\\"publisher\\\": \\\"https://www.facebook.com/politicsbyjustin/\\\"}, \\\"keywords\\\": \\\"2016 Election, Donald Trump, Fox News, Media\\\", \\\"google-site-verification\\\": \\\"jVoeEwkTNH-nlRuMnNJ8bZ2zUtHf0dCo_GKDu1InEl4\\\", \\\"viewport\\\": \\\"width=device-width, initial-scale=1.0\\\"}\"\n        ],\n        \"semantic_type\": \"\",\n        \"description\": \"\"\n      }\n    }\n  ]\n}"
            }
          },
          "metadata": {},
          "execution_count": 14
        }
      ]
    },
    {
      "cell_type": "code",
      "source": [
        "df.shape"
      ],
      "metadata": {
        "colab": {
          "base_uri": "https://localhost:8080/"
        },
        "id": "lG7wcFVi_xqX",
        "outputId": "ec39fd3e-7467-475a-8479-f734357175df"
      },
      "execution_count": null,
      "outputs": [
        {
          "output_type": "execute_result",
          "data": {
            "text/plain": [
              "(182, 13)"
            ]
          },
          "metadata": {},
          "execution_count": 16
        }
      ]
    },
    {
      "cell_type": "code",
      "source": [
        "df.info()"
      ],
      "metadata": {
        "colab": {
          "base_uri": "https://localhost:8080/"
        },
        "id": "2LfemyzJ_zS2",
        "outputId": "945085d1-274a-4c97-89b1-d9632488907d"
      },
      "execution_count": null,
      "outputs": [
        {
          "output_type": "stream",
          "name": "stdout",
          "text": [
            "<class 'pandas.core.frame.DataFrame'>\n",
            "Index: 182 entries, 0 to 90\n",
            "Data columns (total 13 columns):\n",
            " #   Column          Non-Null Count  Dtype \n",
            "---  ------          --------------  ----- \n",
            " 0   id              182 non-null    object\n",
            " 1   title           182 non-null    object\n",
            " 2   text            182 non-null    object\n",
            " 3   url             174 non-null    object\n",
            " 4   top_img         172 non-null    object\n",
            " 5   authors         141 non-null    object\n",
            " 6   source          174 non-null    object\n",
            " 7   publish_date    133 non-null    object\n",
            " 8   movies          25 non-null     object\n",
            " 9   images          172 non-null    object\n",
            " 10  canonical_link  170 non-null    object\n",
            " 11  meta_data       182 non-null    object\n",
            " 12  news_type       182 non-null    object\n",
            "dtypes: object(13)\n",
            "memory usage: 19.9+ KB\n"
          ]
        }
      ]
    },
    {
      "cell_type": "code",
      "source": [
        "df.describe()"
      ],
      "metadata": {
        "colab": {
          "base_uri": "https://localhost:8080/",
          "height": 281
        },
        "id": "77xc6s6o_1XV",
        "outputId": "1cf5f019-0236-4ff6-da73-09d93b3567f7"
      },
      "execution_count": null,
      "outputs": [
        {
          "output_type": "execute_result",
          "data": {
            "text/plain": [
              "                    id                                              title  \\\n",
              "count              182                                                182   \n",
              "unique             182                                                178   \n",
              "top     Real_1-Webpage  CNNâs Post-Debate Rigged Poll Bustedâ¦Here ...   \n",
              "freq                 1                                                  2   \n",
              "\n",
              "                                                     text  \\\n",
              "count                                                 182   \n",
              "unique                                                178   \n",
              "top     Weâre shocked â SHOCKED â to learn that ...   \n",
              "freq                                                    2   \n",
              "\n",
              "                                                      url  \\\n",
              "count                                                 174   \n",
              "unique                                                171   \n",
              "top     http://eaglerising.com/36847/clinton-foundatio...   \n",
              "freq                                                    2   \n",
              "\n",
              "                                                  top_img  \\\n",
              "count                                                 172   \n",
              "unique                                                166   \n",
              "top     http://static.politico.com/da/f5/44342c424c68b...   \n",
              "freq                                                    3   \n",
              "\n",
              "                        authors            source              publish_date  \\\n",
              "count                       141               174                       133   \n",
              "unique                       90                28                       118   \n",
              "top     Terresa Monroe-hamilton  http://politi.co  {'$date': 1474588800000}   \n",
              "freq                          8                32                         5   \n",
              "\n",
              "                                           movies  \\\n",
              "count                                          25   \n",
              "unique                                         25   \n",
              "top     https://www.youtube.com/embed/ji6pl5Vwrvk   \n",
              "freq                                            1   \n",
              "\n",
              "                                                   images  \\\n",
              "count                                                 172   \n",
              "unique                                                169   \n",
              "top     http://static.politico.com/da/f5/44342c424c68b...   \n",
              "freq                                                    2   \n",
              "\n",
              "                                           canonical_link meta_data news_type  \n",
              "count                                                 170       182       182  \n",
              "unique                                                168       171         2  \n",
              "top     http://eaglerising.com/36847/clinton-foundatio...        {}      Real  \n",
              "freq                                                    2         8        91  "
            ],
            "text/html": [
              "\n",
              "  <div id=\"df-56e8bcf3-72d7-43f2-9874-f4d149acc290\" class=\"colab-df-container\">\n",
              "    <div>\n",
              "<style scoped>\n",
              "    .dataframe tbody tr th:only-of-type {\n",
              "        vertical-align: middle;\n",
              "    }\n",
              "\n",
              "    .dataframe tbody tr th {\n",
              "        vertical-align: top;\n",
              "    }\n",
              "\n",
              "    .dataframe thead th {\n",
              "        text-align: right;\n",
              "    }\n",
              "</style>\n",
              "<table border=\"1\" class=\"dataframe\">\n",
              "  <thead>\n",
              "    <tr style=\"text-align: right;\">\n",
              "      <th></th>\n",
              "      <th>id</th>\n",
              "      <th>title</th>\n",
              "      <th>text</th>\n",
              "      <th>url</th>\n",
              "      <th>top_img</th>\n",
              "      <th>authors</th>\n",
              "      <th>source</th>\n",
              "      <th>publish_date</th>\n",
              "      <th>movies</th>\n",
              "      <th>images</th>\n",
              "      <th>canonical_link</th>\n",
              "      <th>meta_data</th>\n",
              "      <th>news_type</th>\n",
              "    </tr>\n",
              "  </thead>\n",
              "  <tbody>\n",
              "    <tr>\n",
              "      <th>count</th>\n",
              "      <td>182</td>\n",
              "      <td>182</td>\n",
              "      <td>182</td>\n",
              "      <td>174</td>\n",
              "      <td>172</td>\n",
              "      <td>141</td>\n",
              "      <td>174</td>\n",
              "      <td>133</td>\n",
              "      <td>25</td>\n",
              "      <td>172</td>\n",
              "      <td>170</td>\n",
              "      <td>182</td>\n",
              "      <td>182</td>\n",
              "    </tr>\n",
              "    <tr>\n",
              "      <th>unique</th>\n",
              "      <td>182</td>\n",
              "      <td>178</td>\n",
              "      <td>178</td>\n",
              "      <td>171</td>\n",
              "      <td>166</td>\n",
              "      <td>90</td>\n",
              "      <td>28</td>\n",
              "      <td>118</td>\n",
              "      <td>25</td>\n",
              "      <td>169</td>\n",
              "      <td>168</td>\n",
              "      <td>171</td>\n",
              "      <td>2</td>\n",
              "    </tr>\n",
              "    <tr>\n",
              "      <th>top</th>\n",
              "      <td>Real_1-Webpage</td>\n",
              "      <td>CNNâs Post-Debate Rigged Poll Bustedâ¦Here ...</td>\n",
              "      <td>Weâre shocked â SHOCKED â to learn that ...</td>\n",
              "      <td>http://eaglerising.com/36847/clinton-foundatio...</td>\n",
              "      <td>http://static.politico.com/da/f5/44342c424c68b...</td>\n",
              "      <td>Terresa Monroe-hamilton</td>\n",
              "      <td>http://politi.co</td>\n",
              "      <td>{'$date': 1474588800000}</td>\n",
              "      <td>https://www.youtube.com/embed/ji6pl5Vwrvk</td>\n",
              "      <td>http://static.politico.com/da/f5/44342c424c68b...</td>\n",
              "      <td>http://eaglerising.com/36847/clinton-foundatio...</td>\n",
              "      <td>{}</td>\n",
              "      <td>Real</td>\n",
              "    </tr>\n",
              "    <tr>\n",
              "      <th>freq</th>\n",
              "      <td>1</td>\n",
              "      <td>2</td>\n",
              "      <td>2</td>\n",
              "      <td>2</td>\n",
              "      <td>3</td>\n",
              "      <td>8</td>\n",
              "      <td>32</td>\n",
              "      <td>5</td>\n",
              "      <td>1</td>\n",
              "      <td>2</td>\n",
              "      <td>2</td>\n",
              "      <td>8</td>\n",
              "      <td>91</td>\n",
              "    </tr>\n",
              "  </tbody>\n",
              "</table>\n",
              "</div>\n",
              "    <div class=\"colab-df-buttons\">\n",
              "\n",
              "  <div class=\"colab-df-container\">\n",
              "    <button class=\"colab-df-convert\" onclick=\"convertToInteractive('df-56e8bcf3-72d7-43f2-9874-f4d149acc290')\"\n",
              "            title=\"Convert this dataframe to an interactive table.\"\n",
              "            style=\"display:none;\">\n",
              "\n",
              "  <svg xmlns=\"http://www.w3.org/2000/svg\" height=\"24px\" viewBox=\"0 -960 960 960\">\n",
              "    <path d=\"M120-120v-720h720v720H120Zm60-500h600v-160H180v160Zm220 220h160v-160H400v160Zm0 220h160v-160H400v160ZM180-400h160v-160H180v160Zm440 0h160v-160H620v160ZM180-180h160v-160H180v160Zm440 0h160v-160H620v160Z\"/>\n",
              "  </svg>\n",
              "    </button>\n",
              "\n",
              "  <style>\n",
              "    .colab-df-container {\n",
              "      display:flex;\n",
              "      gap: 12px;\n",
              "    }\n",
              "\n",
              "    .colab-df-convert {\n",
              "      background-color: #E8F0FE;\n",
              "      border: none;\n",
              "      border-radius: 50%;\n",
              "      cursor: pointer;\n",
              "      display: none;\n",
              "      fill: #1967D2;\n",
              "      height: 32px;\n",
              "      padding: 0 0 0 0;\n",
              "      width: 32px;\n",
              "    }\n",
              "\n",
              "    .colab-df-convert:hover {\n",
              "      background-color: #E2EBFA;\n",
              "      box-shadow: 0px 1px 2px rgba(60, 64, 67, 0.3), 0px 1px 3px 1px rgba(60, 64, 67, 0.15);\n",
              "      fill: #174EA6;\n",
              "    }\n",
              "\n",
              "    .colab-df-buttons div {\n",
              "      margin-bottom: 4px;\n",
              "    }\n",
              "\n",
              "    [theme=dark] .colab-df-convert {\n",
              "      background-color: #3B4455;\n",
              "      fill: #D2E3FC;\n",
              "    }\n",
              "\n",
              "    [theme=dark] .colab-df-convert:hover {\n",
              "      background-color: #434B5C;\n",
              "      box-shadow: 0px 1px 3px 1px rgba(0, 0, 0, 0.15);\n",
              "      filter: drop-shadow(0px 1px 2px rgba(0, 0, 0, 0.3));\n",
              "      fill: #FFFFFF;\n",
              "    }\n",
              "  </style>\n",
              "\n",
              "    <script>\n",
              "      const buttonEl =\n",
              "        document.querySelector('#df-56e8bcf3-72d7-43f2-9874-f4d149acc290 button.colab-df-convert');\n",
              "      buttonEl.style.display =\n",
              "        google.colab.kernel.accessAllowed ? 'block' : 'none';\n",
              "\n",
              "      async function convertToInteractive(key) {\n",
              "        const element = document.querySelector('#df-56e8bcf3-72d7-43f2-9874-f4d149acc290');\n",
              "        const dataTable =\n",
              "          await google.colab.kernel.invokeFunction('convertToInteractive',\n",
              "                                                    [key], {});\n",
              "        if (!dataTable) return;\n",
              "\n",
              "        const docLinkHtml = 'Like what you see? Visit the ' +\n",
              "          '<a target=\"_blank\" href=https://colab.research.google.com/notebooks/data_table.ipynb>data table notebook</a>'\n",
              "          + ' to learn more about interactive tables.';\n",
              "        element.innerHTML = '';\n",
              "        dataTable['output_type'] = 'display_data';\n",
              "        await google.colab.output.renderOutput(dataTable, element);\n",
              "        const docLink = document.createElement('div');\n",
              "        docLink.innerHTML = docLinkHtml;\n",
              "        element.appendChild(docLink);\n",
              "      }\n",
              "    </script>\n",
              "  </div>\n",
              "\n",
              "\n",
              "<div id=\"df-00f989c7-607b-4b8d-80a0-41b5cddf09d1\">\n",
              "  <button class=\"colab-df-quickchart\" onclick=\"quickchart('df-00f989c7-607b-4b8d-80a0-41b5cddf09d1')\"\n",
              "            title=\"Suggest charts\"\n",
              "            style=\"display:none;\">\n",
              "\n",
              "<svg xmlns=\"http://www.w3.org/2000/svg\" height=\"24px\"viewBox=\"0 0 24 24\"\n",
              "     width=\"24px\">\n",
              "    <g>\n",
              "        <path d=\"M19 3H5c-1.1 0-2 .9-2 2v14c0 1.1.9 2 2 2h14c1.1 0 2-.9 2-2V5c0-1.1-.9-2-2-2zM9 17H7v-7h2v7zm4 0h-2V7h2v10zm4 0h-2v-4h2v4z\"/>\n",
              "    </g>\n",
              "</svg>\n",
              "  </button>\n",
              "\n",
              "<style>\n",
              "  .colab-df-quickchart {\n",
              "      --bg-color: #E8F0FE;\n",
              "      --fill-color: #1967D2;\n",
              "      --hover-bg-color: #E2EBFA;\n",
              "      --hover-fill-color: #174EA6;\n",
              "      --disabled-fill-color: #AAA;\n",
              "      --disabled-bg-color: #DDD;\n",
              "  }\n",
              "\n",
              "  [theme=dark] .colab-df-quickchart {\n",
              "      --bg-color: #3B4455;\n",
              "      --fill-color: #D2E3FC;\n",
              "      --hover-bg-color: #434B5C;\n",
              "      --hover-fill-color: #FFFFFF;\n",
              "      --disabled-bg-color: #3B4455;\n",
              "      --disabled-fill-color: #666;\n",
              "  }\n",
              "\n",
              "  .colab-df-quickchart {\n",
              "    background-color: var(--bg-color);\n",
              "    border: none;\n",
              "    border-radius: 50%;\n",
              "    cursor: pointer;\n",
              "    display: none;\n",
              "    fill: var(--fill-color);\n",
              "    height: 32px;\n",
              "    padding: 0;\n",
              "    width: 32px;\n",
              "  }\n",
              "\n",
              "  .colab-df-quickchart:hover {\n",
              "    background-color: var(--hover-bg-color);\n",
              "    box-shadow: 0 1px 2px rgba(60, 64, 67, 0.3), 0 1px 3px 1px rgba(60, 64, 67, 0.15);\n",
              "    fill: var(--button-hover-fill-color);\n",
              "  }\n",
              "\n",
              "  .colab-df-quickchart-complete:disabled,\n",
              "  .colab-df-quickchart-complete:disabled:hover {\n",
              "    background-color: var(--disabled-bg-color);\n",
              "    fill: var(--disabled-fill-color);\n",
              "    box-shadow: none;\n",
              "  }\n",
              "\n",
              "  .colab-df-spinner {\n",
              "    border: 2px solid var(--fill-color);\n",
              "    border-color: transparent;\n",
              "    border-bottom-color: var(--fill-color);\n",
              "    animation:\n",
              "      spin 1s steps(1) infinite;\n",
              "  }\n",
              "\n",
              "  @keyframes spin {\n",
              "    0% {\n",
              "      border-color: transparent;\n",
              "      border-bottom-color: var(--fill-color);\n",
              "      border-left-color: var(--fill-color);\n",
              "    }\n",
              "    20% {\n",
              "      border-color: transparent;\n",
              "      border-left-color: var(--fill-color);\n",
              "      border-top-color: var(--fill-color);\n",
              "    }\n",
              "    30% {\n",
              "      border-color: transparent;\n",
              "      border-left-color: var(--fill-color);\n",
              "      border-top-color: var(--fill-color);\n",
              "      border-right-color: var(--fill-color);\n",
              "    }\n",
              "    40% {\n",
              "      border-color: transparent;\n",
              "      border-right-color: var(--fill-color);\n",
              "      border-top-color: var(--fill-color);\n",
              "    }\n",
              "    60% {\n",
              "      border-color: transparent;\n",
              "      border-right-color: var(--fill-color);\n",
              "    }\n",
              "    80% {\n",
              "      border-color: transparent;\n",
              "      border-right-color: var(--fill-color);\n",
              "      border-bottom-color: var(--fill-color);\n",
              "    }\n",
              "    90% {\n",
              "      border-color: transparent;\n",
              "      border-bottom-color: var(--fill-color);\n",
              "    }\n",
              "  }\n",
              "</style>\n",
              "\n",
              "  <script>\n",
              "    async function quickchart(key) {\n",
              "      const quickchartButtonEl =\n",
              "        document.querySelector('#' + key + ' button');\n",
              "      quickchartButtonEl.disabled = true;  // To prevent multiple clicks.\n",
              "      quickchartButtonEl.classList.add('colab-df-spinner');\n",
              "      try {\n",
              "        const charts = await google.colab.kernel.invokeFunction(\n",
              "            'suggestCharts', [key], {});\n",
              "      } catch (error) {\n",
              "        console.error('Error during call to suggestCharts:', error);\n",
              "      }\n",
              "      quickchartButtonEl.classList.remove('colab-df-spinner');\n",
              "      quickchartButtonEl.classList.add('colab-df-quickchart-complete');\n",
              "    }\n",
              "    (() => {\n",
              "      let quickchartButtonEl =\n",
              "        document.querySelector('#df-00f989c7-607b-4b8d-80a0-41b5cddf09d1 button');\n",
              "      quickchartButtonEl.style.display =\n",
              "        google.colab.kernel.accessAllowed ? 'block' : 'none';\n",
              "    })();\n",
              "  </script>\n",
              "</div>\n",
              "\n",
              "    </div>\n",
              "  </div>\n"
            ],
            "application/vnd.google.colaboratory.intrinsic+json": {
              "type": "dataframe",
              "summary": "{\n  \"name\": \"df\",\n  \"rows\": 4,\n  \"fields\": [\n    {\n      \"column\": \"id\",\n      \"properties\": {\n        \"dtype\": \"string\",\n        \"num_unique_values\": 3,\n        \"samples\": [\n          \"182\",\n          \"Real_1-Webpage\",\n          \"1\"\n        ],\n        \"semantic_type\": \"\",\n        \"description\": \"\"\n      }\n    },\n    {\n      \"column\": \"title\",\n      \"properties\": {\n        \"dtype\": \"string\",\n        \"num_unique_values\": 4,\n        \"samples\": [\n          178,\n          \"2\",\n          \"182\"\n        ],\n        \"semantic_type\": \"\",\n        \"description\": \"\"\n      }\n    },\n    {\n      \"column\": \"text\",\n      \"properties\": {\n        \"dtype\": \"string\",\n        \"num_unique_values\": 4,\n        \"samples\": [\n          178,\n          \"2\",\n          \"182\"\n        ],\n        \"semantic_type\": \"\",\n        \"description\": \"\"\n      }\n    },\n    {\n      \"column\": \"url\",\n      \"properties\": {\n        \"dtype\": \"string\",\n        \"num_unique_values\": 4,\n        \"samples\": [\n          171,\n          \"2\",\n          \"174\"\n        ],\n        \"semantic_type\": \"\",\n        \"description\": \"\"\n      }\n    },\n    {\n      \"column\": \"top_img\",\n      \"properties\": {\n        \"dtype\": \"string\",\n        \"num_unique_values\": 4,\n        \"samples\": [\n          166,\n          \"3\",\n          \"172\"\n        ],\n        \"semantic_type\": \"\",\n        \"description\": \"\"\n      }\n    },\n    {\n      \"column\": \"authors\",\n      \"properties\": {\n        \"dtype\": \"string\",\n        \"num_unique_values\": 4,\n        \"samples\": [\n          90,\n          \"8\",\n          \"141\"\n        ],\n        \"semantic_type\": \"\",\n        \"description\": \"\"\n      }\n    },\n    {\n      \"column\": \"source\",\n      \"properties\": {\n        \"dtype\": \"string\",\n        \"num_unique_values\": 4,\n        \"samples\": [\n          28,\n          \"32\",\n          \"174\"\n        ],\n        \"semantic_type\": \"\",\n        \"description\": \"\"\n      }\n    },\n    {\n      \"column\": \"publish_date\",\n      \"properties\": {\n        \"dtype\": \"string\",\n        \"num_unique_values\": 4,\n        \"samples\": [\n          118,\n          \"5\",\n          \"133\"\n        ],\n        \"semantic_type\": \"\",\n        \"description\": \"\"\n      }\n    },\n    {\n      \"column\": \"movies\",\n      \"properties\": {\n        \"dtype\": \"string\",\n        \"num_unique_values\": 3,\n        \"samples\": [\n          \"25\",\n          \"https://www.youtube.com/embed/ji6pl5Vwrvk\",\n          \"1\"\n        ],\n        \"semantic_type\": \"\",\n        \"description\": \"\"\n      }\n    },\n    {\n      \"column\": \"images\",\n      \"properties\": {\n        \"dtype\": \"string\",\n        \"num_unique_values\": 4,\n        \"samples\": [\n          169,\n          \"2\",\n          \"172\"\n        ],\n        \"semantic_type\": \"\",\n        \"description\": \"\"\n      }\n    },\n    {\n      \"column\": \"canonical_link\",\n      \"properties\": {\n        \"dtype\": \"string\",\n        \"num_unique_values\": 4,\n        \"samples\": [\n          168,\n          \"2\",\n          \"170\"\n        ],\n        \"semantic_type\": \"\",\n        \"description\": \"\"\n      }\n    },\n    {\n      \"column\": \"meta_data\",\n      \"properties\": {\n        \"dtype\": \"string\",\n        \"num_unique_values\": 4,\n        \"samples\": [\n          171,\n          \"8\",\n          \"182\"\n        ],\n        \"semantic_type\": \"\",\n        \"description\": \"\"\n      }\n    },\n    {\n      \"column\": \"news_type\",\n      \"properties\": {\n        \"dtype\": \"string\",\n        \"num_unique_values\": 4,\n        \"samples\": [\n          2,\n          \"91\",\n          \"182\"\n        ],\n        \"semantic_type\": \"\",\n        \"description\": \"\"\n      }\n    }\n  ]\n}"
            }
          },
          "metadata": {},
          "execution_count": 18
        }
      ]
    },
    {
      "cell_type": "markdown",
      "source": [
        "#Data Cleaning and Feature Engineering"
      ],
      "metadata": {
        "id": "pNaNpk6w_385"
      }
    },
    {
      "cell_type": "markdown",
      "source": [],
      "metadata": {
        "id": "F_fKzbmAWJlG"
      }
    },
    {
      "cell_type": "markdown",
      "source": [
        "#We select variables of our interest only for analysis, including title, text, source, movies, images and news_type, and remove other columns."
      ],
      "metadata": {
        "id": "GH9Nes6G_8_F"
      }
    },
    {
      "cell_type": "code",
      "source": [
        "df.drop(['id','url', 'top_img','authors','publish_date','canonical_link','meta_data'],axis=1, inplace=True)"
      ],
      "metadata": {
        "id": "4X-UgjEN_3h9"
      },
      "execution_count": null,
      "outputs": []
    },
    {
      "cell_type": "markdown",
      "source": [
        "#We will create a Series that displays the total count of missing values per column."
      ],
      "metadata": {
        "id": "Fnwfx4dGAFwW"
      }
    },
    {
      "cell_type": "code",
      "source": [
        "df.isnull().sum()"
      ],
      "metadata": {
        "colab": {
          "base_uri": "https://localhost:8080/"
        },
        "id": "agniNOE5AHul",
        "outputId": "cec88d68-2b95-4afc-8dba-ba20cc14a0a3"
      },
      "execution_count": null,
      "outputs": [
        {
          "output_type": "execute_result",
          "data": {
            "text/plain": [
              "title          0\n",
              "text           0\n",
              "source         8\n",
              "movies       157\n",
              "images        10\n",
              "news_type      0\n",
              "dtype: int64"
            ]
          },
          "metadata": {},
          "execution_count": 20
        }
      ]
    },
    {
      "cell_type": "markdown",
      "source": [
        "#We will convert this Series to be in term of percentage of the total DataFrame."
      ],
      "metadata": {
        "id": "8sV9NTFlAJ5t"
      }
    },
    {
      "cell_type": "code",
      "source": [
        "(df.isnull().sum())/(df.shape[0])*100"
      ],
      "metadata": {
        "colab": {
          "base_uri": "https://localhost:8080/"
        },
        "id": "l85qOHlXAMc-",
        "outputId": "2f7e6867-362d-452e-e006-02a11092fae1"
      },
      "execution_count": null,
      "outputs": [
        {
          "output_type": "execute_result",
          "data": {
            "text/plain": [
              "title         0.000000\n",
              "text          0.000000\n",
              "source        4.395604\n",
              "movies       86.263736\n",
              "images        5.494505\n",
              "news_type     0.000000\n",
              "dtype: float64"
            ]
          },
          "metadata": {},
          "execution_count": 21
        }
      ]
    },
    {
      "cell_type": "markdown",
      "source": [
        "#The datset does not contain null values in text and news_type columns which are the most important columns for us. We leave the null values in the source column as is. However, we add a new columns to the data frame which show whether the news are accompanied by movies and/or images or not."
      ],
      "metadata": {
        "id": "1VXx7_axAOx2"
      }
    },
    {
      "cell_type": "code",
      "source": [
        "df['contain_movies']=df['movies'].apply(lambda x: 0 if str(x)=='nan' else 1)"
      ],
      "metadata": {
        "id": "Ad4IF4jtAR_G"
      },
      "execution_count": null,
      "outputs": []
    },
    {
      "cell_type": "code",
      "source": [
        "df['contain_images']=df['images'].apply(lambda x: 0 if str(x)=='nan' else 1)"
      ],
      "metadata": {
        "id": "Hm0MiTthAUMk"
      },
      "execution_count": null,
      "outputs": []
    },
    {
      "cell_type": "code",
      "source": [
        "df.drop(['contain_movies','contain_images'],axis=1,inplace=True)"
      ],
      "metadata": {
        "id": "-Rbd8zbzAV--"
      },
      "execution_count": null,
      "outputs": []
    },
    {
      "cell_type": "code",
      "source": [
        "df.head(1000)"
      ],
      "metadata": {
        "colab": {
          "base_uri": "https://localhost:8080/",
          "height": 423
        },
        "id": "BO-21sSMAYZO",
        "outputId": "1603721d-e770-4371-c4de-b67fb4a5175b"
      },
      "execution_count": null,
      "outputs": [
        {
          "output_type": "execute_result",
          "data": {
            "text/plain": [
              "                                                title  \\\n",
              "0   Another Terrorist Attack in NYCâ¦Why Are we S...   \n",
              "1   Donald Trump: Drugs a 'Very, Very Big Factor' ...   \n",
              "2   Obama To UN: âGiving Up Liberty, Enhances Se...   \n",
              "3   Trump vs. Clinton: A Fundamental Clash over Ho...   \n",
              "4   President Obama Vetoes 9/11 Victims Bill, Sett...   \n",
              "..                                                ...   \n",
              "86  Hillaryâs TOP Donor Country Just Auctioned O...   \n",
              "87  Cavuto Just Exposed Lester Holt's Lies During ...   \n",
              "88  The AP, In 2004, Said Your Boy Obama Was BORN ...   \n",
              "89  People Noticed Something Odd About Hillary's O...   \n",
              "90  People Noticed Something Odd About Hillaryâs...   \n",
              "\n",
              "                                                 text  \\\n",
              "0   On Saturday, September 17 at 8:30 pm EST, an e...   \n",
              "1   Less than a day after protests over the police...   \n",
              "2   Obama To UN: âGiving Up Liberty, Enhances Se...   \n",
              "3   Getty Images Wealth Of Nations Trump vs. Clint...   \n",
              "4   President Obama today vetoed a bill that would...   \n",
              "..                                                ...   \n",
              "86  Hillaryâs TOP Donor Country Just Auctioned O...   \n",
              "87  Advertisement - story continues below\\n\\nThe f...   \n",
              "88  Well THATâS Weird. If the Birther movement i...   \n",
              "89  \\n\\nThereâs a lot to be discussed about last...   \n",
              "90  People Noticed Something Odd About Hillaryâs...   \n",
              "\n",
              "                                source news_type  \n",
              "0               http://eaglerising.com      Real  \n",
              "1                       http://abcn.ws      Real  \n",
              "2             http://rightwingnews.com      Real  \n",
              "3                     http://politi.co      Real  \n",
              "4                       http://abcn.ws      Real  \n",
              "..                                 ...       ...  \n",
              "86            http://rightwingnews.com      Fake  \n",
              "87      http://conservativetribune.com      Fake  \n",
              "88               http://clashdaily.com      Fake  \n",
              "89  http://www.thepoliticalinsider.com      Fake  \n",
              "90            http://rightwingnews.com      Fake  \n",
              "\n",
              "[182 rows x 4 columns]"
            ],
            "text/html": [
              "\n",
              "  <div id=\"df-04fd7848-7b89-4a16-b6a9-4b8b557e552e\" class=\"colab-df-container\">\n",
              "    <div>\n",
              "<style scoped>\n",
              "    .dataframe tbody tr th:only-of-type {\n",
              "        vertical-align: middle;\n",
              "    }\n",
              "\n",
              "    .dataframe tbody tr th {\n",
              "        vertical-align: top;\n",
              "    }\n",
              "\n",
              "    .dataframe thead th {\n",
              "        text-align: right;\n",
              "    }\n",
              "</style>\n",
              "<table border=\"1\" class=\"dataframe\">\n",
              "  <thead>\n",
              "    <tr style=\"text-align: right;\">\n",
              "      <th></th>\n",
              "      <th>title</th>\n",
              "      <th>text</th>\n",
              "      <th>source</th>\n",
              "      <th>news_type</th>\n",
              "    </tr>\n",
              "  </thead>\n",
              "  <tbody>\n",
              "    <tr>\n",
              "      <th>0</th>\n",
              "      <td>Another Terrorist Attack in NYCâ¦Why Are we S...</td>\n",
              "      <td>On Saturday, September 17 at 8:30 pm EST, an e...</td>\n",
              "      <td>http://eaglerising.com</td>\n",
              "      <td>Real</td>\n",
              "    </tr>\n",
              "    <tr>\n",
              "      <th>1</th>\n",
              "      <td>Donald Trump: Drugs a 'Very, Very Big Factor' ...</td>\n",
              "      <td>Less than a day after protests over the police...</td>\n",
              "      <td>http://abcn.ws</td>\n",
              "      <td>Real</td>\n",
              "    </tr>\n",
              "    <tr>\n",
              "      <th>2</th>\n",
              "      <td>Obama To UN: âGiving Up Liberty, Enhances Se...</td>\n",
              "      <td>Obama To UN: âGiving Up Liberty, Enhances Se...</td>\n",
              "      <td>http://rightwingnews.com</td>\n",
              "      <td>Real</td>\n",
              "    </tr>\n",
              "    <tr>\n",
              "      <th>3</th>\n",
              "      <td>Trump vs. Clinton: A Fundamental Clash over Ho...</td>\n",
              "      <td>Getty Images Wealth Of Nations Trump vs. Clint...</td>\n",
              "      <td>http://politi.co</td>\n",
              "      <td>Real</td>\n",
              "    </tr>\n",
              "    <tr>\n",
              "      <th>4</th>\n",
              "      <td>President Obama Vetoes 9/11 Victims Bill, Sett...</td>\n",
              "      <td>President Obama today vetoed a bill that would...</td>\n",
              "      <td>http://abcn.ws</td>\n",
              "      <td>Real</td>\n",
              "    </tr>\n",
              "    <tr>\n",
              "      <th>...</th>\n",
              "      <td>...</td>\n",
              "      <td>...</td>\n",
              "      <td>...</td>\n",
              "      <td>...</td>\n",
              "    </tr>\n",
              "    <tr>\n",
              "      <th>86</th>\n",
              "      <td>Hillaryâs TOP Donor Country Just Auctioned O...</td>\n",
              "      <td>Hillaryâs TOP Donor Country Just Auctioned O...</td>\n",
              "      <td>http://rightwingnews.com</td>\n",
              "      <td>Fake</td>\n",
              "    </tr>\n",
              "    <tr>\n",
              "      <th>87</th>\n",
              "      <td>Cavuto Just Exposed Lester Holt's Lies During ...</td>\n",
              "      <td>Advertisement - story continues below\\n\\nThe f...</td>\n",
              "      <td>http://conservativetribune.com</td>\n",
              "      <td>Fake</td>\n",
              "    </tr>\n",
              "    <tr>\n",
              "      <th>88</th>\n",
              "      <td>The AP, In 2004, Said Your Boy Obama Was BORN ...</td>\n",
              "      <td>Well THATâS Weird. If the Birther movement i...</td>\n",
              "      <td>http://clashdaily.com</td>\n",
              "      <td>Fake</td>\n",
              "    </tr>\n",
              "    <tr>\n",
              "      <th>89</th>\n",
              "      <td>People Noticed Something Odd About Hillary's O...</td>\n",
              "      <td>\\n\\nThereâs a lot to be discussed about last...</td>\n",
              "      <td>http://www.thepoliticalinsider.com</td>\n",
              "      <td>Fake</td>\n",
              "    </tr>\n",
              "    <tr>\n",
              "      <th>90</th>\n",
              "      <td>People Noticed Something Odd About Hillaryâs...</td>\n",
              "      <td>People Noticed Something Odd About Hillaryâs...</td>\n",
              "      <td>http://rightwingnews.com</td>\n",
              "      <td>Fake</td>\n",
              "    </tr>\n",
              "  </tbody>\n",
              "</table>\n",
              "<p>182 rows × 4 columns</p>\n",
              "</div>\n",
              "    <div class=\"colab-df-buttons\">\n",
              "\n",
              "  <div class=\"colab-df-container\">\n",
              "    <button class=\"colab-df-convert\" onclick=\"convertToInteractive('df-04fd7848-7b89-4a16-b6a9-4b8b557e552e')\"\n",
              "            title=\"Convert this dataframe to an interactive table.\"\n",
              "            style=\"display:none;\">\n",
              "\n",
              "  <svg xmlns=\"http://www.w3.org/2000/svg\" height=\"24px\" viewBox=\"0 -960 960 960\">\n",
              "    <path d=\"M120-120v-720h720v720H120Zm60-500h600v-160H180v160Zm220 220h160v-160H400v160Zm0 220h160v-160H400v160ZM180-400h160v-160H180v160Zm440 0h160v-160H620v160ZM180-180h160v-160H180v160Zm440 0h160v-160H620v160Z\"/>\n",
              "  </svg>\n",
              "    </button>\n",
              "\n",
              "  <style>\n",
              "    .colab-df-container {\n",
              "      display:flex;\n",
              "      gap: 12px;\n",
              "    }\n",
              "\n",
              "    .colab-df-convert {\n",
              "      background-color: #E8F0FE;\n",
              "      border: none;\n",
              "      border-radius: 50%;\n",
              "      cursor: pointer;\n",
              "      display: none;\n",
              "      fill: #1967D2;\n",
              "      height: 32px;\n",
              "      padding: 0 0 0 0;\n",
              "      width: 32px;\n",
              "    }\n",
              "\n",
              "    .colab-df-convert:hover {\n",
              "      background-color: #E2EBFA;\n",
              "      box-shadow: 0px 1px 2px rgba(60, 64, 67, 0.3), 0px 1px 3px 1px rgba(60, 64, 67, 0.15);\n",
              "      fill: #174EA6;\n",
              "    }\n",
              "\n",
              "    .colab-df-buttons div {\n",
              "      margin-bottom: 4px;\n",
              "    }\n",
              "\n",
              "    [theme=dark] .colab-df-convert {\n",
              "      background-color: #3B4455;\n",
              "      fill: #D2E3FC;\n",
              "    }\n",
              "\n",
              "    [theme=dark] .colab-df-convert:hover {\n",
              "      background-color: #434B5C;\n",
              "      box-shadow: 0px 1px 3px 1px rgba(0, 0, 0, 0.15);\n",
              "      filter: drop-shadow(0px 1px 2px rgba(0, 0, 0, 0.3));\n",
              "      fill: #FFFFFF;\n",
              "    }\n",
              "  </style>\n",
              "\n",
              "    <script>\n",
              "      const buttonEl =\n",
              "        document.querySelector('#df-04fd7848-7b89-4a16-b6a9-4b8b557e552e button.colab-df-convert');\n",
              "      buttonEl.style.display =\n",
              "        google.colab.kernel.accessAllowed ? 'block' : 'none';\n",
              "\n",
              "      async function convertToInteractive(key) {\n",
              "        const element = document.querySelector('#df-04fd7848-7b89-4a16-b6a9-4b8b557e552e');\n",
              "        const dataTable =\n",
              "          await google.colab.kernel.invokeFunction('convertToInteractive',\n",
              "                                                    [key], {});\n",
              "        if (!dataTable) return;\n",
              "\n",
              "        const docLinkHtml = 'Like what you see? Visit the ' +\n",
              "          '<a target=\"_blank\" href=https://colab.research.google.com/notebooks/data_table.ipynb>data table notebook</a>'\n",
              "          + ' to learn more about interactive tables.';\n",
              "        element.innerHTML = '';\n",
              "        dataTable['output_type'] = 'display_data';\n",
              "        await google.colab.output.renderOutput(dataTable, element);\n",
              "        const docLink = document.createElement('div');\n",
              "        docLink.innerHTML = docLinkHtml;\n",
              "        element.appendChild(docLink);\n",
              "      }\n",
              "    </script>\n",
              "  </div>\n",
              "\n",
              "\n",
              "<div id=\"df-07abde21-fc08-4fc0-8294-b99335504d06\">\n",
              "  <button class=\"colab-df-quickchart\" onclick=\"quickchart('df-07abde21-fc08-4fc0-8294-b99335504d06')\"\n",
              "            title=\"Suggest charts\"\n",
              "            style=\"display:none;\">\n",
              "\n",
              "<svg xmlns=\"http://www.w3.org/2000/svg\" height=\"24px\"viewBox=\"0 0 24 24\"\n",
              "     width=\"24px\">\n",
              "    <g>\n",
              "        <path d=\"M19 3H5c-1.1 0-2 .9-2 2v14c0 1.1.9 2 2 2h14c1.1 0 2-.9 2-2V5c0-1.1-.9-2-2-2zM9 17H7v-7h2v7zm4 0h-2V7h2v10zm4 0h-2v-4h2v4z\"/>\n",
              "    </g>\n",
              "</svg>\n",
              "  </button>\n",
              "\n",
              "<style>\n",
              "  .colab-df-quickchart {\n",
              "      --bg-color: #E8F0FE;\n",
              "      --fill-color: #1967D2;\n",
              "      --hover-bg-color: #E2EBFA;\n",
              "      --hover-fill-color: #174EA6;\n",
              "      --disabled-fill-color: #AAA;\n",
              "      --disabled-bg-color: #DDD;\n",
              "  }\n",
              "\n",
              "  [theme=dark] .colab-df-quickchart {\n",
              "      --bg-color: #3B4455;\n",
              "      --fill-color: #D2E3FC;\n",
              "      --hover-bg-color: #434B5C;\n",
              "      --hover-fill-color: #FFFFFF;\n",
              "      --disabled-bg-color: #3B4455;\n",
              "      --disabled-fill-color: #666;\n",
              "  }\n",
              "\n",
              "  .colab-df-quickchart {\n",
              "    background-color: var(--bg-color);\n",
              "    border: none;\n",
              "    border-radius: 50%;\n",
              "    cursor: pointer;\n",
              "    display: none;\n",
              "    fill: var(--fill-color);\n",
              "    height: 32px;\n",
              "    padding: 0;\n",
              "    width: 32px;\n",
              "  }\n",
              "\n",
              "  .colab-df-quickchart:hover {\n",
              "    background-color: var(--hover-bg-color);\n",
              "    box-shadow: 0 1px 2px rgba(60, 64, 67, 0.3), 0 1px 3px 1px rgba(60, 64, 67, 0.15);\n",
              "    fill: var(--button-hover-fill-color);\n",
              "  }\n",
              "\n",
              "  .colab-df-quickchart-complete:disabled,\n",
              "  .colab-df-quickchart-complete:disabled:hover {\n",
              "    background-color: var(--disabled-bg-color);\n",
              "    fill: var(--disabled-fill-color);\n",
              "    box-shadow: none;\n",
              "  }\n",
              "\n",
              "  .colab-df-spinner {\n",
              "    border: 2px solid var(--fill-color);\n",
              "    border-color: transparent;\n",
              "    border-bottom-color: var(--fill-color);\n",
              "    animation:\n",
              "      spin 1s steps(1) infinite;\n",
              "  }\n",
              "\n",
              "  @keyframes spin {\n",
              "    0% {\n",
              "      border-color: transparent;\n",
              "      border-bottom-color: var(--fill-color);\n",
              "      border-left-color: var(--fill-color);\n",
              "    }\n",
              "    20% {\n",
              "      border-color: transparent;\n",
              "      border-left-color: var(--fill-color);\n",
              "      border-top-color: var(--fill-color);\n",
              "    }\n",
              "    30% {\n",
              "      border-color: transparent;\n",
              "      border-left-color: var(--fill-color);\n",
              "      border-top-color: var(--fill-color);\n",
              "      border-right-color: var(--fill-color);\n",
              "    }\n",
              "    40% {\n",
              "      border-color: transparent;\n",
              "      border-right-color: var(--fill-color);\n",
              "      border-top-color: var(--fill-color);\n",
              "    }\n",
              "    60% {\n",
              "      border-color: transparent;\n",
              "      border-right-color: var(--fill-color);\n",
              "    }\n",
              "    80% {\n",
              "      border-color: transparent;\n",
              "      border-right-color: var(--fill-color);\n",
              "      border-bottom-color: var(--fill-color);\n",
              "    }\n",
              "    90% {\n",
              "      border-color: transparent;\n",
              "      border-bottom-color: var(--fill-color);\n",
              "    }\n",
              "  }\n",
              "</style>\n",
              "\n",
              "  <script>\n",
              "    async function quickchart(key) {\n",
              "      const quickchartButtonEl =\n",
              "        document.querySelector('#' + key + ' button');\n",
              "      quickchartButtonEl.disabled = true;  // To prevent multiple clicks.\n",
              "      quickchartButtonEl.classList.add('colab-df-spinner');\n",
              "      try {\n",
              "        const charts = await google.colab.kernel.invokeFunction(\n",
              "            'suggestCharts', [key], {});\n",
              "      } catch (error) {\n",
              "        console.error('Error during call to suggestCharts:', error);\n",
              "      }\n",
              "      quickchartButtonEl.classList.remove('colab-df-spinner');\n",
              "      quickchartButtonEl.classList.add('colab-df-quickchart-complete');\n",
              "    }\n",
              "    (() => {\n",
              "      let quickchartButtonEl =\n",
              "        document.querySelector('#df-07abde21-fc08-4fc0-8294-b99335504d06 button');\n",
              "      quickchartButtonEl.style.display =\n",
              "        google.colab.kernel.accessAllowed ? 'block' : 'none';\n",
              "    })();\n",
              "  </script>\n",
              "</div>\n",
              "\n",
              "    </div>\n",
              "  </div>\n"
            ],
            "application/vnd.google.colaboratory.intrinsic+json": {
              "type": "dataframe",
              "variable_name": "df",
              "summary": "{\n  \"name\": \"df\",\n  \"rows\": 182,\n  \"fields\": [\n    {\n      \"column\": \"title\",\n      \"properties\": {\n        \"dtype\": \"string\",\n        \"num_unique_values\": 178,\n        \"samples\": [\n          \"Rouhani: Iran deal able to weather the election\",\n          \"Obama: Refugee crisis is test of our humanity\",\n          \"Hillary Thought She Won The Debate. Didn\\u00e2\\u0080\\u0099t Expect This To Happen To Prove Her Wrong.\"\n        ],\n        \"semantic_type\": \"\",\n        \"description\": \"\"\n      }\n    },\n    {\n      \"column\": \"text\",\n      \"properties\": {\n        \"dtype\": \"string\",\n        \"num_unique_values\": 178,\n        \"samples\": [\n          \"Rouhani: Iran deal able to weather the election\\n\\nIranian President Hassan Rouhani on Wednesday expressed confidence that the landmark nuclear deal between his country and a group of world powers will be able to weather the volatile U.S. election season.\\n\\nMSNBC's Chuck Todd asked Rouhani whether he'd rather work with Hillary Clinton or Donald Trump, citing comments they've made on the nuclear deal. Rouhani said, \\\"Of course, throughout the atmosphere of presidential elections in the United States, candidates can bring up any topic that they see best suits the needs of their campaigns. But the reality remains that when the joint comprehensive plan of action was passed based on the United Nations Security Council resolution 2231, and it was approved unanimously, that became an international agreement.\\\"\\n\\nStory Continued Below\\n\\nTrump has repeatedly criticized the Iran nuclear deal, calling it a \\\"bad deal\\\" and previously said he would tear it up. He's also called the Obama administration incompetent over it.\\n\\nClinton, on the other hand, has said she would respect the deal, yet be cautious in dealing with Iran, in what's come to be known as her \\\"distrust and verify\\\" strategy.\\n\\n\\\"No one can say here or there that I don't accept this agreement, I want to renegotiate it. This has purely an electoral effect for some,\\\" Rouhani said.\\n\\nAuthors:\",\n          \"United Nations (CNN) President Barack Obama made an impassioned plea Tuesday for countries to fulfill a moral obligation to alleviate a global refugee crisis \\\"of epic proportions,\\\" despite a political backlash in the US against absorbing those fleeing Middle East violence.\\n\\nThe President's interest in calling attention to the tens of millions of displaced people around the world, and pushing back against the anti-refugee tenor, was underscored by his decision to convene a Leaders' Summit on Refugees at the United Nations Tuesday.\\n\\nAt the summit, he also rejected another aspect of the American political debate swirling around accepting foreigners -- GOP presidential nominee Donald Trump's call to build a wall along the US-Mexico border.\\n\\n\\\"This crisis is a test of our common humanity. Whether we give into suspicion and fear and build walls, or whether we see ourselves in another,\\\" Obama said, though he didn't mention Trump by name.\\n\\nObama singled out the situation in Syria, which has displaced 4.8 million people so far, as particularly \\\"unacceptable.\\\"\\n\\nJUST WATCHED President Obama at the UN: Then and now Replay More Videos ... MUST WATCH President Obama at the UN: Then and now 01:45\\n\\n\\\"We are not as unified as we should be in pushing to make it stop,\\\" he said, describing the global refugee crisis as both a humanitarian and security challenge that tests countries' ability to take collective action.\\n\\n\\\"I called this summit because this crisis is one of the most urgent tests of our time,\\\" he said. \\\"Just as failure to act in the past -- for example, by turning away Jews fleeing Nazi Germany -- is a stain on our collective conscience, I believe history will judge us harshly if we do not rise to this moment.\\\"\\n\\nThe refugee issue is one that's captured the world's attention more in the past two years than at perhaps any time since World War II, seared into the public's consciousness by photos like that of a 3-year-old Syrian boy who drowned in the Mediterranean and the flood of migrants into Europe.\\n\\nA recent study by from the UN's refugee agency estimated 65.3 million people were displaced from their homes by conflict or persecution in 2015, up by over five million from the prior year. Many are internally displaced within the borders of their own countries, but about 21.3 million are classified as refugees.\\n\\nObama's summit follows a similar UN-led meeting on the issue Monday, which drew attention to the crisis but offered little in the way of binding commitments.\\n\\n\\\"Make no mistake,\\\" US Secretary of State John Kerry said at the UN meeting, \\\"additional efforts are urgently needed.\\\"\\n\\nLeaders also called for a more orderly and equitable system to manage refugee flows -- acknowledging the burden is shouldered disproportionally by certain regions.\\n\\n\\\"You have to know that today the European Union has a clear objective to restore order on its external borders,\\\" European Council President Donald Tusk said in his remarks, signaling a growing sense that patience in Europe with the migrant flow is wearing thin.\\n\\n\\\"There will be no repeat of the year 2015 with more than one and a half million irregular migrants,\\\" he added.\\n\\nThe Obama administration is hopeful the Leader's Summit on Tuesday afternoon can build momentum for more action.\\n\\nNational Security Advisor Susan Rice in June announced that the gathering -- co-hosted along with the US by Canada, Ethiopia, Germany, Jordan, Mexico, Sweden and the UN Secretary General -- would seek an increase in funding of at least 30%, a doubling of permanent resettlement, and expanded access to education and work rights for refugees.\\n\\n\\\"Reaching these ambitious objectives will be challenging, yet the level of need demands no less,\\\" Rice said in a statement.\\n\\nBut aid groups are skeptical the summit will prompt the kind of action they say is desperately needed.\\n\\n\\\"We have to be optimistic that we'll see some real concrete commitments,\\\" said Amnesty International's Interim Executive Director Margaret Huang. \\\"But the truth is, even if those numbers are hit, it's nowhere near what's actually needed.\\\"\\n\\nThe US is a major contributor of humanitarian aid for countries that host large numbers of refugees -- particularly Syria's neighbors -- and plans to increase the number of refugees it will take in to America from 85,000 in 2016 to 110,000 next year.\\n\\nThe President's chief spokesman last week conceded that even as the administration calls for greater global action, it is limited in what it can do.\\n\\n\\\"The President's commitment to ensuring that the United States plays a leading role on this issue is not shared by a lot of people in Congress, including by a lot of people in the Republican majority in Congress,\\\" Press Secretary Josh Earnest told reporters. \\\"And that has an impact in terms of the resources that are dedicated to this effort.\\\"\\n\\nVetting efforts to screen refugees, he noted, \\\"are not cheap.\\\"\\n\\nDavid Miliband, president of the International Rescue Committee and a former British Foreign Secretary, said he's hopeful but waiting to see whether any agreements are backed up with action.\\n\\n\\\"The scale of the global refugee problem demands an appropriate scale of response,\\\" Miliband told CNN. \\\"Governments around the world haven't, in the main, been responding with the right degree of compassion or competence up to now.\\\"\\n\\nBut the co-hosts of the Leaders' Summit said in a statement they were pleased with \\\"new and significant humanitarian contributions\\\" from world leaders.\\n\\n\\\"We sought a $3 billion increase in global humanitarian financing and commitments to maintain funding in future years,\\\" they said. \\\"Through our mutual efforts, over the course of 2016, the 32 donors participating today have contributed this year roughly 4.5 billion additional dollars to UN appeals and international humanitarian organizations than in 2015.\\\"\\n\\nAs they await action from world leaders in New York, a group of volunteers in London laid out a \\\"life jacket graveyard\\\" Monday to draw attention to the plight of thousands of migrants who've lost their lives attempting hazardous boat crossings in the Mediterranean.\\n\\nThe conflict in Syria and resulting migrant crisis in the Middle East and Europe have dominated headlines over the past 18 months, but refugees are a global problem.\\n\\nPerhaps nowhere are they more prevalent than in the so-called \\\"global south\\\" -- the developing countries of the southern hemisphere. Last week, South Sudan joined the ranks of Syria, Afghanistan, and Somalia -- countries with over 1 million of their citizens living as refugees abroad.\\n\\nAnd protracted conflict in places like Somalia have led to a generation of lifelong refugees -- men and women in their twenties who've never known life outside of a camp.\\n\\n\\\"These are not people who can envision what life would be like if they were returned to their home countries,\\\" Huang said.\",\n          \"Oh Hillary, when will you learn? You never count your chickens before they\\u00e2\\u0080\\u0099re hatched. Also, don\\u00e2\\u0080\\u0099t say you\\u00e2\\u0080\\u0099ve won when you clearly didn\\u00e2\\u0080\\u0099t.\\n\\nThe polls are in from last night\\u00e2\\u0080\\u0099s debate. At first glance they do not look good for Donald Trump. According to focus groups from Fox News and CNN, both had Hillary winning last night\\u00e2\\u0080\\u0099s debate.\\n\\nBut were those true tests of the voting pool on the whole?\\n\\nAccording to focus groups at both Fox News and CNN, Democratic presidential nominee Hillary Clinton handily defeated Republican Donald Trump in Monday\\u00e2\\u0080\\u0099s presidential debate. At CNN, the focus group went 18-2 in favor of Clinton. And at Fox, pollster Frank Luntz\\u00e2\\u0080\\u0099s group went 16-6 in favor of the former secretary of state. CNN\\u00e2\\u0080\\u0099s group was a group of voters from Florida, while Luntz\\u00e2\\u0080\\u0099s group was comprised of Pennsylvanians. Luntz, who tweeted frequently throughout the debate, said that Trump didn\\u00e2\\u0080\\u0099t do well when he talked about his taxes but began to rebound when he knocked Clinton over her email scandal. However, Trump \\u00e2\\u0080\\u009ctanked\\u00e2\\u0080\\u009d when \\u00e2\\u0080\\u009ctrying to explain why he questioned Obama\\u00e2\\u0080\\u0099s birthplace for so long.\\u00e2\\u0080\\u009d\\n\\nBut what no one is telling you is that another poll had Trump winning 92% to 8%.\\n\\nDrudge poll\\u00e2\\u0080\\u00a6 pic.twitter.com/UTCpTmMRbi \\u00e2\\u0080\\u0094 Greg Pollowitz (@GPollowitz) September 27, 2016\\n\\nAfter Hillary\\u00e2\\u0080\\u0099s tweet that said she won, America shot her down FAST.\\n\\n@HillaryClinton The number one trending hashtag in the world is #TrumpWon. You can't delete it like its your damn e-mails. \\u00e2\\u0080\\u0094 Anthony Einzig (@AnthonyEinzig) September 27, 2016\\n\\n@HillaryClinton \\u00e2\\u0080\\u00a6you run and hide from media afterwards. \\u00e2\\u0080\\u0094 Honky Cartel (@ScottInSC) September 27, 2016\\n\\nLooks like Hillary has some explaining to do. Some things you just can\\u00e2\\u0080\\u0099t delete.\\n\\n(Source: Twitter)\\n\\n\\n\\n\"\n        ],\n        \"semantic_type\": \"\",\n        \"description\": \"\"\n      }\n    },\n    {\n      \"column\": \"source\",\n      \"properties\": {\n        \"dtype\": \"category\",\n        \"num_unique_values\": 28,\n        \"samples\": [\n          \"http://freedomdaily.com\",\n          \"http://www.chicksontheright.com\",\n          \"http://conservativebyte.com\"\n        ],\n        \"semantic_type\": \"\",\n        \"description\": \"\"\n      }\n    },\n    {\n      \"column\": \"news_type\",\n      \"properties\": {\n        \"dtype\": \"category\",\n        \"num_unique_values\": 2,\n        \"samples\": [\n          \"Fake\",\n          \"Real\"\n        ],\n        \"semantic_type\": \"\",\n        \"description\": \"\"\n      }\n    }\n  ]\n}"
            }
          },
          "metadata": {},
          "execution_count": 29
        }
      ]
    },
    {
      "cell_type": "markdown",
      "source": [
        "#EDA\n",
        "#Real Versus Fake News Source Analysis"
      ],
      "metadata": {
        "id": "VOoHCoA2Acru"
      }
    },
    {
      "cell_type": "markdown",
      "source": [
        "#Sources of Publising Real News"
      ],
      "metadata": {
        "id": "DSU9jVtwAhGl"
      }
    },
    {
      "cell_type": "code",
      "source": [
        "real_order=df[df['news_type']=='Real']['source'].value_counts().sort_values(ascending=False).index"
      ],
      "metadata": {
        "id": "AnHvcgqlAl_2"
      },
      "execution_count": null,
      "outputs": []
    },
    {
      "cell_type": "code",
      "source": [
        "plt.figure(figsize=(10,6))\n",
        "sns.countplot(y='source', data=df[df['news_type']=='Real'],order=real_order,palette='CMRmap')\n",
        "plt.xlabel('Count',fontsize=12)\n",
        "plt.ylabel('Source',fontsize=12)\n",
        "plt.title('Sources of Real News',fontsize=15)\n",
        "plt.show()"
      ],
      "metadata": {
        "colab": {
          "base_uri": "https://localhost:8080/",
          "height": 657
        },
        "id": "4deUtwbZAoPn",
        "outputId": "dfea9774-7ae2-4ec8-c640-5377a98047cc"
      },
      "execution_count": null,
      "outputs": [
        {
          "output_type": "stream",
          "name": "stderr",
          "text": [
            "<ipython-input-25-62ae47f72381>:2: FutureWarning: \n",
            "\n",
            "Passing `palette` without assigning `hue` is deprecated and will be removed in v0.14.0. Assign the `y` variable to `hue` and set `legend=False` for the same effect.\n",
            "\n",
            "  sns.countplot(y='source', data=df[df['news_type']=='Real'],order=real_order,palette='CMRmap')\n"
          ]
        },
        {
          "output_type": "display_data",
          "data": {
            "text/plain": [
              "<Figure size 1000x600 with 1 Axes>"
            ],
            "image/png": "[encoded data removed]"
          },
          "metadata": {}
        }
      ]
    },
    {
      "cell_type": "markdown",
      "source": [
        "#From the above plot we observe that the politi.com reports maximum real news followed by cnn.it with a count of 32 and 23, respectively."
      ],
      "metadata": {
        "id": "4ZjSG1lPAkYd"
      }
    },
    {
      "cell_type": "markdown",
      "source": [
        "#Sources of Publishing Maximum Fake News"
      ],
      "metadata": {
        "id": "hk43BzxLA75k"
      }
    },
    {
      "cell_type": "code",
      "source": [
        "fake_order=df[df['news_type']=='Fake']['source'].value_counts().sort_values(ascending=False).index"
      ],
      "metadata": {
        "id": "DLcJsp3BA-U2"
      },
      "execution_count": null,
      "outputs": []
    },
    {
      "cell_type": "code",
      "source": [
        "plt.figure(figsize=(10,6))\n",
        "sns.countplot(y='source',data=df[df['news_type']=='Fake'],order=fake_order,palette='Dark2')\n",
        "plt.xlabel('Count',fontsize=12)\n",
        "plt.ylabel('Source',fontsize=12)\n",
        "plt.title('Sources of Fake News',fontsize=20)\n",
        "plt.show()"
      ],
      "metadata": {
        "colab": {
          "base_uri": "https://localhost:8080/",
          "height": 663
        },
        "id": "5b3Tqco3BAP4",
        "outputId": "13f3686b-19a9-4c7d-9b9b-b72589c5dc52"
      },
      "execution_count": null,
      "outputs": [
        {
          "output_type": "stream",
          "name": "stderr",
          "text": [
            "<ipython-input-27-36e9d65bad77>:2: FutureWarning: \n",
            "\n",
            "Passing `palette` without assigning `hue` is deprecated and will be removed in v0.14.0. Assign the `y` variable to `hue` and set `legend=False` for the same effect.\n",
            "\n",
            "  sns.countplot(y='source',data=df[df['news_type']=='Fake'],order=fake_order,palette='Dark2')\n"
          ]
        },
        {
          "output_type": "display_data",
          "data": {
            "text/plain": [
              "<Figure size 1000x600 with 1 Axes>"
            ],
            "image/png": "[encoded data removed]"
          },
          "metadata": {}
        }
      ]
    },
    {
      "cell_type": "markdown",
      "source": [
        "#Above plot shows that the rightwingsnews reports maximum fakenews with a count of 17. Also, the number of fake news sources are more than the number of real news sources."
      ],
      "metadata": {
        "id": "2ncTc25OBDGV"
      }
    },
    {
      "cell_type": "markdown",
      "source": [
        "#Common Sources of Publishing Both Real and Fake News"
      ],
      "metadata": {
        "id": "jZAwMVC5BFkH"
      }
    },
    {
      "cell_type": "code",
      "source": [
        "new=[]\n",
        "for x in df[df['news_type']=='Fake']['source'].unique():\n",
        "    if x in df[df['news_type']=='Real']['source'].unique():\n",
        "        new.append(x)\n",
        "print(new)"
      ],
      "metadata": {
        "colab": {
          "base_uri": "https://localhost:8080/"
        },
        "id": "sI2Nf_ZWBH8d",
        "outputId": "684906de-26a1-4c96-978d-c1ad4e181aef"
      },
      "execution_count": null,
      "outputs": [
        {
          "output_type": "stream",
          "name": "stdout",
          "text": [
            "['http://www.addictinginfo.org', 'http://eaglerising.com', 'http://conservativebyte.com', 'http://winningdemocrats.com', 'http://freedomdaily.com', 'http://occupydemocrats.com', 'http://rightwingnews.com', 'http://addictinginfo.org']\n"
          ]
        }
      ]
    },
    {
      "cell_type": "code",
      "source": [
        "df['common']=df['source'].apply(lambda x: x if x in new else 0)"
      ],
      "metadata": {
        "id": "55O3AbLnBM6k"
      },
      "execution_count": null,
      "outputs": []
    },
    {
      "cell_type": "code",
      "source": [
        "df1=df[df['common']!=0]"
      ],
      "metadata": {
        "id": "l7Y9y-GnBPUG"
      },
      "execution_count": null,
      "outputs": []
    },
    {
      "cell_type": "code",
      "source": [
        "plt.figure(figsize=(10,6))\n",
        "sns.countplot(y='common',data=df1,hue='news_type',palette='Dark2')\n",
        "plt.xlabel('Count',fontsize=12)\n",
        "plt.ylabel('Source',fontsize=12)\n",
        "plt.legend(loc='best', title='News Type',fontsize=10)\n",
        "plt.title('Common Sources of Real and Fake News',fontsize=20)\n",
        "plt.show()"
      ],
      "metadata": {
        "colab": {
          "base_uri": "https://localhost:8080/",
          "height": 576
        },
        "id": "o-u0HY_7BRYc",
        "outputId": "d26c69da-3926-4c94-c68d-2370a71cf4e7"
      },
      "execution_count": null,
      "outputs": [
        {
          "output_type": "display_data",
          "data": {
            "text/plain": [
              "<Figure size 1000x600 with 1 Axes>"
            ],
            "image/png": "[encoded data removed]"
          },
          "metadata": {}
        }
      ]
    },
    {
      "cell_type": "markdown",
      "source": [
        "#There are 7 common sources of real and fake news. This is interesting that the fake news are more reported by these sources as compared to real news. The rightwingnews reports maximum fake news but it also reports some real news. Approximaltely, two third of total news reported by rightwings are fake. On the other hand, the freedomdaily which is the second largest fake news reporting source, barely reports the real news. addictinginfo.org is the only single common source which reports real news more than fake news but the total number of the news it reports is very low."
      ],
      "metadata": {
        "id": "hrmznOY_BVPF"
      }
    },
    {
      "cell_type": "markdown",
      "source": [
        "#Analysis of Title and Body of News Articles\n",
        "#Preprocessing Function¶\n",
        "#We define a preprocessing function that performs the following operations:\n",
        "#Converting text to lower case\n",
        "#Removing numbers from the text corpus\n",
        "#Removing punctuation from the text corpus\n",
        "#Removing special characters such as ‘<’, ‘…’ from the text corpus\n",
        "#Removing english stopwords\n",
        "#Stemming words to root words\n",
        "#Removing extra whitespaces from the text corpus"
      ],
      "metadata": {
        "id": "xvRx3LcQBagW"
      }
    },
    {
      "cell_type": "code",
      "source": [
        "nltk.download('stopwords')\n",
        "nltk.download('punkt')\n"
      ],
      "metadata": {
        "colab": {
          "base_uri": "https://localhost:8080/"
        },
        "id": "NBcf_rWgBtsY",
        "outputId": "921a87f2-4ffa-45ef-9e97-e4f0e8ee18c1"
      },
      "execution_count": null,
      "outputs": [
        {
          "output_type": "stream",
          "name": "stderr",
          "text": [
            "[nltk_data] Downloading package stopwords to /root/nltk_data...\n",
            "[nltk_data]   Unzipping corpora/stopwords.zip.\n",
            "[nltk_data] Downloading package punkt to /root/nltk_data...\n",
            "[nltk_data]   Unzipping tokenizers/punkt.zip.\n"
          ]
        },
        {
          "output_type": "execute_result",
          "data": {
            "text/plain": [
              "True"
            ]
          },
          "metadata": {},
          "execution_count": 32
        }
      ]
    },
    {
      "cell_type": "code",
      "source": [
        "from nltk import WhitespaceTokenizer\n",
        "from nltk import WordPunctTokenizer\n",
        "from nltk.corpus import stopwords"
      ],
      "metadata": {
        "id": "ooLIdG5kCsX9"
      },
      "execution_count": null,
      "outputs": []
    },
    {
      "cell_type": "code",
      "source": [
        "ps=PorterStemmer()\n",
        "wst= WhitespaceTokenizer()\n",
        "\n",
        "##### 1. Converting text to lower case\n",
        "def lower_func (x):\n",
        "    return x.lower()\n",
        "\n",
        "\n",
        "##### 2. Removing Numbers from the text corpus\n",
        "def remove_number_func (x):\n",
        "    new=\"\"\n",
        "    for a in x:\n",
        "        if a.isdigit()==False:\n",
        "            new=new+a\n",
        "    return new\n",
        "\n",
        "\n",
        "##### 3. Removing punctuation\n",
        "def remove_punc_func(x):\n",
        "    new=''\n",
        "    for a in x:\n",
        "        if a not in string.punctuation:\n",
        "            new=new+a\n",
        "    return new\n",
        "\n",
        "##### 4. Removing special characters\n",
        "def remove_spec_char_func(x):\n",
        "    new=''\n",
        "    for a in x:\n",
        "        if (a.isalnum()==True) or (a==' '):\n",
        "            new=new+a\n",
        "    return(new)\n",
        "\n",
        "##### 5. Removing english stopwords\n",
        "def remove_stopwords(x):\n",
        "    new=[]\n",
        "    for a in x.split():\n",
        "        if a not in stopwords.words('english'):\n",
        "            new.append(a)\n",
        "    return \" \".join(new)\n",
        "\n",
        "##### 6. Stemming words to root words\n",
        "def stem_func(x):\n",
        "    wordlist = word_tokenize(x)\n",
        "    psstem = [ps.stem(a) for a in wordlist]\n",
        "    return ' '.join(psstem)\n",
        "\n",
        "##### 7. Removing extra whitespaces\n",
        "def remove_whitespace_func(x):\n",
        "    return(wst.tokenize(x))\n",
        "\n",
        "def compose(f, g):\n",
        "    return lambda x: f(g(x))\n",
        "\n",
        "final=compose(compose(compose(compose(compose(compose(remove_whitespace_func,stem_func),remove_stopwords),remove_spec_char_func),remove_punc_func),remove_number_func),lower_func)"
      ],
      "metadata": {
        "id": "XuxDzG6sBoHd"
      },
      "execution_count": null,
      "outputs": []
    },
    {
      "cell_type": "markdown",
      "source": [
        "#Fake/Real News Detection Based on News Body\n",
        "#Splitting Data into Train and Test Datasets"
      ],
      "metadata": {
        "id": "uMNxsmJQQSRW"
      }
    },
    {
      "cell_type": "code",
      "source": [
        "X1=df['text']\n",
        "y1=df['news_type']"
      ],
      "metadata": {
        "id": "hqrN_Sh5QV5J"
      },
      "execution_count": null,
      "outputs": []
    },
    {
      "cell_type": "code",
      "source": [
        "X1_train, X1_test, y1_train, y1_test = train_test_split(X1, y1, test_size=0.3, random_state=42)"
      ],
      "metadata": {
        "id": "oiBi4fTdQX7H"
      },
      "execution_count": null,
      "outputs": []
    },
    {
      "cell_type": "markdown",
      "source": [
        "#Random Forest Classifier"
      ],
      "metadata": {
        "id": "zuysBQAxQdRZ"
      }
    },
    {
      "cell_type": "code",
      "source": [
        "pp=Pipeline([\n",
        "    ('bow',CountVectorizer(analyzer=final)),\n",
        "    ('tfidf',TfidfTransformer()),\n",
        "    ('classifier',RandomForestClassifier())\n",
        "    ])"
      ],
      "metadata": {
        "id": "DzNKFI9TQaIv"
      },
      "execution_count": null,
      "outputs": []
    },
    {
      "cell_type": "code",
      "source": [
        "pp.fit(X1_train,y1_train)"
      ],
      "metadata": {
        "colab": {
          "base_uri": "https://localhost:8080/",
          "height": 161
        },
        "id": "6StxywaCQi1b",
        "outputId": "9bb8f435-7cc0-4bd9-c4b5-1630949ebd13"
      },
      "execution_count": null,
      "outputs": [
        {
          "output_type": "execute_result",
          "data": {
            "text/plain": [
              "Pipeline(steps=[('bow',\n",
              "                 CountVectorizer(analyzer=<function compose.<locals>.<lambda> at 0x792384f185e0>)),\n",
              "                ('tfidf', TfidfTransformer()),\n",
              "                ('classifier', RandomForestClassifier())])"
            ],
            "text/html": [
              "<style>#sk-container-id-1 {color: black;background-color: white;}#sk-container-id-1 pre{padding: 0;}#sk-container-id-1 div.sk-toggleable {background-color: white;}#sk-container-id-1 label.sk-toggleable__label {cursor: pointer;display: block;width: 100%;margin-bottom: 0;padding: 0.3em;box-sizing: border-box;text-align: center;}#sk-container-id-1 label.sk-toggleable__label-arrow:before {content: \"▸\";float: left;margin-right: 0.25em;color: #696969;}#sk-container-id-1 label.sk-toggleable__label-arrow:hover:before {color: black;}#sk-container-id-1 div.sk-estimator:hover label.sk-toggleable__label-arrow:before {color: black;}#sk-container-id-1 div.sk-toggleable__content {max-height: 0;max-width: 0;overflow: hidden;text-align: left;background-color: #f0f8ff;}#sk-container-id-1 div.sk-toggleable__content pre {margin: 0.2em;color: black;border-radius: 0.25em;background-color: #f0f8ff;}#sk-container-id-1 input.sk-toggleable__control:checked~div.sk-toggleable__content {max-height: 200px;max-width: 100%;overflow: auto;}#sk-container-id-1 input.sk-toggleable__control:checked~label.sk-toggleable__label-arrow:before {content: \"▾\";}#sk-container-id-1 div.sk-estimator input.sk-toggleable__control:checked~label.sk-toggleable__label {background-color: #d4ebff;}#sk-container-id-1 div.sk-label input.sk-toggleable__control:checked~label.sk-toggleable__label {background-color: #d4ebff;}#sk-container-id-1 input.sk-hidden--visually {border: 0;clip: rect(1px 1px 1px 1px);clip: rect(1px, 1px, 1px, 1px);height: 1px;margin: -1px;overflow: hidden;padding: 0;position: absolute;width: 1px;}#sk-container-id-1 div.sk-estimator {font-family: monospace;background-color: #f0f8ff;border: 1px dotted black;border-radius: 0.25em;box-sizing: border-box;margin-bottom: 0.5em;}#sk-container-id-1 div.sk-estimator:hover {background-color: #d4ebff;}#sk-container-id-1 div.sk-parallel-item::after {content: \"\";width: 100%;border-bottom: 1px solid gray;flex-grow: 1;}#sk-container-id-1 div.sk-label:hover label.sk-toggleable__label {background-color: #d4ebff;}#sk-container-id-1 div.sk-serial::before {content: \"\";position: absolute;border-left: 1px solid gray;box-sizing: border-box;top: 0;bottom: 0;left: 50%;z-index: 0;}#sk-container-id-1 div.sk-serial {display: flex;flex-direction: column;align-items: center;background-color: white;padding-right: 0.2em;padding-left: 0.2em;position: relative;}#sk-container-id-1 div.sk-item {position: relative;z-index: 1;}#sk-container-id-1 div.sk-parallel {display: flex;align-items: stretch;justify-content: center;background-color: white;position: relative;}#sk-container-id-1 div.sk-item::before, #sk-container-id-1 div.sk-parallel-item::before {content: \"\";position: absolute;border-left: 1px solid gray;box-sizing: border-box;top: 0;bottom: 0;left: 50%;z-index: -1;}#sk-container-id-1 div.sk-parallel-item {display: flex;flex-direction: column;z-index: 1;position: relative;background-color: white;}#sk-container-id-1 div.sk-parallel-item:first-child::after {align-self: flex-end;width: 50%;}#sk-container-id-1 div.sk-parallel-item:last-child::after {align-self: flex-start;width: 50%;}#sk-container-id-1 div.sk-parallel-item:only-child::after {width: 0;}#sk-container-id-1 div.sk-dashed-wrapped {border: 1px dashed gray;margin: 0 0.4em 0.5em 0.4em;box-sizing: border-box;padding-bottom: 0.4em;background-color: white;}#sk-container-id-1 div.sk-label label {font-family: monospace;font-weight: bold;display: inline-block;line-height: 1.2em;}#sk-container-id-1 div.sk-label-container {text-align: center;}#sk-container-id-1 div.sk-container {/* jupyter's `normalize.less` sets `[hidden] { display: none; }` but bootstrap.min.css set `[hidden] { display: none !important; }` so we also need the `!important` here to be able to override the default hidden behavior on the sphinx rendered scikit-learn.org. See: https://github.com/scikit-learn/scikit-learn/issues/21755 */display: inline-block !important;position: relative;}#sk-container-id-1 div.sk-text-repr-fallback {display: none;}</style><div id=\"sk-container-id-1\" class=\"sk-top-container\"><div class=\"sk-text-repr-fallback\"><pre>Pipeline(steps=[(&#x27;bow&#x27;,\n",
              "                 CountVectorizer(analyzer=&lt;function compose.&lt;locals&gt;.&lt;lambda&gt; at 0x792384f185e0&gt;)),\n",
              "                (&#x27;tfidf&#x27;, TfidfTransformer()),\n",
              "                (&#x27;classifier&#x27;, RandomForestClassifier())])</pre><b>In a Jupyter environment, please rerun this cell to show the HTML representation or trust the notebook. <br />On GitHub, the HTML representation is unable to render, please try loading this page with nbviewer.org.</b></div><div class=\"sk-container\" hidden><div class=\"sk-item sk-dashed-wrapped\"><div class=\"sk-label-container\"><div class=\"sk-label sk-toggleable\"><input class=\"sk-toggleable__control sk-hidden--visually\" id=\"sk-estimator-id-1\" type=\"checkbox\" ><label for=\"sk-estimator-id-1\" class=\"sk-toggleable__label sk-toggleable__label-arrow\">Pipeline</label><div class=\"sk-toggleable__content\"><pre>Pipeline(steps=[(&#x27;bow&#x27;,\n",
              "                 CountVectorizer(analyzer=&lt;function compose.&lt;locals&gt;.&lt;lambda&gt; at 0x792384f185e0&gt;)),\n",
              "                (&#x27;tfidf&#x27;, TfidfTransformer()),\n",
              "                (&#x27;classifier&#x27;, RandomForestClassifier())])</pre></div></div></div><div class=\"sk-serial\"><div class=\"sk-item\"><div class=\"sk-estimator sk-toggleable\"><input class=\"sk-toggleable__control sk-hidden--visually\" id=\"sk-estimator-id-2\" type=\"checkbox\" ><label for=\"sk-estimator-id-2\" class=\"sk-toggleable__label sk-toggleable__label-arrow\">CountVectorizer</label><div class=\"sk-toggleable__content\"><pre>CountVectorizer(analyzer=&lt;function compose.&lt;locals&gt;.&lt;lambda&gt; at 0x792384f185e0&gt;)</pre></div></div></div><div class=\"sk-item\"><div class=\"sk-estimator sk-toggleable\"><input class=\"sk-toggleable__control sk-hidden--visually\" id=\"sk-estimator-id-3\" type=\"checkbox\" ><label for=\"sk-estimator-id-3\" class=\"sk-toggleable__label sk-toggleable__label-arrow\">TfidfTransformer</label><div class=\"sk-toggleable__content\"><pre>TfidfTransformer()</pre></div></div></div><div class=\"sk-item\"><div class=\"sk-estimator sk-toggleable\"><input class=\"sk-toggleable__control sk-hidden--visually\" id=\"sk-estimator-id-4\" type=\"checkbox\" ><label for=\"sk-estimator-id-4\" class=\"sk-toggleable__label sk-toggleable__label-arrow\">RandomForestClassifier</label><div class=\"sk-toggleable__content\"><pre>RandomForestClassifier()</pre></div></div></div></div></div></div></div>"
            ]
          },
          "metadata": {},
          "execution_count": 45
        }
      ]
    },
    {
      "cell_type": "code",
      "source": [
        "predictions1=pp.predict(X1_test)"
      ],
      "metadata": {
        "id": "FSfCuR3uQk9H",
        "colab": {
          "base_uri": "https://localhost:8080/",
          "height": 287
        },
        "outputId": "d62d06cc-1363-4a27-c9ab-f3a6f08acc17"
      },
      "execution_count": null,
      "outputs": [
        {
          "output_type": "error",
          "ename": "NotFittedError",
          "evalue": "Vocabulary not fitted or provided",
          "traceback": [
            "\u001b[0;31m---------------------------------------------------------------------------\u001b[0m",
            "\u001b[0;31mNotFittedError\u001b[0m                            Traceback (most recent call last)",
            "\u001b[0;32m<ipython-input-38-7e8e27b60328>\u001b[0m in \u001b[0;36m<cell line: 1>\u001b[0;34m()\u001b[0m\n\u001b[0;32m----> 1\u001b[0;31m \u001b[0mpredictions1\u001b[0m\u001b[0;34m=\u001b[0m\u001b[0mpp\u001b[0m\u001b[0;34m.\u001b[0m\u001b[0mpredict\u001b[0m\u001b[0;34m(\u001b[0m\u001b[0mX1_test\u001b[0m\u001b[0;34m)\u001b[0m\u001b[0;34m\u001b[0m\u001b[0;34m\u001b[0m\u001b[0m\n\u001b[0m",
            "\u001b[0;32m/usr/local/lib/python3.10/dist-packages/sklearn/pipeline.py\u001b[0m in \u001b[0;36mpredict\u001b[0;34m(self, X, **predict_params)\u001b[0m\n\u001b[1;32m    478\u001b[0m         \u001b[0mXt\u001b[0m \u001b[0;34m=\u001b[0m \u001b[0mX\u001b[0m\u001b[0;34m\u001b[0m\u001b[0;34m\u001b[0m\u001b[0m\n\u001b[1;32m    479\u001b[0m         \u001b[0;32mfor\u001b[0m \u001b[0m_\u001b[0m\u001b[0;34m,\u001b[0m \u001b[0mname\u001b[0m\u001b[0;34m,\u001b[0m \u001b[0mtransform\u001b[0m \u001b[0;32min\u001b[0m \u001b[0mself\u001b[0m\u001b[0;34m.\u001b[0m\u001b[0m_iter\u001b[0m\u001b[0;34m(\u001b[0m\u001b[0mwith_final\u001b[0m\u001b[0;34m=\u001b[0m\u001b[0;32mFalse\u001b[0m\u001b[0;34m)\u001b[0m\u001b[0;34m:\u001b[0m\u001b[0;34m\u001b[0m\u001b[0;34m\u001b[0m\u001b[0m\n\u001b[0;32m--> 480\u001b[0;31m             \u001b[0mXt\u001b[0m \u001b[0;34m=\u001b[0m \u001b[0mtransform\u001b[0m\u001b[0;34m.\u001b[0m\u001b[0mtransform\u001b[0m\u001b[0;34m(\u001b[0m\u001b[0mXt\u001b[0m\u001b[0;34m)\u001b[0m\u001b[0;34m\u001b[0m\u001b[0;34m\u001b[0m\u001b[0m\n\u001b[0m\u001b[1;32m    481\u001b[0m         \u001b[0;32mreturn\u001b[0m \u001b[0mself\u001b[0m\u001b[0;34m.\u001b[0m\u001b[0msteps\u001b[0m\u001b[0;34m[\u001b[0m\u001b[0;34m-\u001b[0m\u001b[0;36m1\u001b[0m\u001b[0;34m]\u001b[0m\u001b[0;34m[\u001b[0m\u001b[0;36m1\u001b[0m\u001b[0;34m]\u001b[0m\u001b[0;34m.\u001b[0m\u001b[0mpredict\u001b[0m\u001b[0;34m(\u001b[0m\u001b[0mXt\u001b[0m\u001b[0;34m,\u001b[0m \u001b[0;34m**\u001b[0m\u001b[0mpredict_params\u001b[0m\u001b[0;34m)\u001b[0m\u001b[0;34m\u001b[0m\u001b[0;34m\u001b[0m\u001b[0m\n\u001b[1;32m    482\u001b[0m \u001b[0;34m\u001b[0m\u001b[0m\n",
            "\u001b[0;32m/usr/local/lib/python3.10/dist-packages/sklearn/feature_extraction/text.py\u001b[0m in \u001b[0;36mtransform\u001b[0;34m(self, raw_documents)\u001b[0m\n\u001b[1;32m   1428\u001b[0m                 \u001b[0;34m\"Iterable over raw text documents expected, string object received.\"\u001b[0m\u001b[0;34m\u001b[0m\u001b[0;34m\u001b[0m\u001b[0m\n\u001b[1;32m   1429\u001b[0m             )\n\u001b[0;32m-> 1430\u001b[0;31m         \u001b[0mself\u001b[0m\u001b[0;34m.\u001b[0m\u001b[0m_check_vocabulary\u001b[0m\u001b[0;34m(\u001b[0m\u001b[0;34m)\u001b[0m\u001b[0;34m\u001b[0m\u001b[0;34m\u001b[0m\u001b[0m\n\u001b[0m\u001b[1;32m   1431\u001b[0m \u001b[0;34m\u001b[0m\u001b[0m\n\u001b[1;32m   1432\u001b[0m         \u001b[0;31m# use the same matrix-building strategy as fit_transform\u001b[0m\u001b[0;34m\u001b[0m\u001b[0;34m\u001b[0m\u001b[0m\n",
            "\u001b[0;32m/usr/local/lib/python3.10/dist-packages/sklearn/feature_extraction/text.py\u001b[0m in \u001b[0;36m_check_vocabulary\u001b[0;34m(self)\u001b[0m\n\u001b[1;32m    508\u001b[0m             \u001b[0mself\u001b[0m\u001b[0;34m.\u001b[0m\u001b[0m_validate_vocabulary\u001b[0m\u001b[0;34m(\u001b[0m\u001b[0;34m)\u001b[0m\u001b[0;34m\u001b[0m\u001b[0;34m\u001b[0m\u001b[0m\n\u001b[1;32m    509\u001b[0m             \u001b[0;32mif\u001b[0m \u001b[0;32mnot\u001b[0m \u001b[0mself\u001b[0m\u001b[0;34m.\u001b[0m\u001b[0mfixed_vocabulary_\u001b[0m\u001b[0;34m:\u001b[0m\u001b[0;34m\u001b[0m\u001b[0;34m\u001b[0m\u001b[0m\n\u001b[0;32m--> 510\u001b[0;31m                 \u001b[0;32mraise\u001b[0m \u001b[0mNotFittedError\u001b[0m\u001b[0;34m(\u001b[0m\u001b[0;34m\"Vocabulary not fitted or provided\"\u001b[0m\u001b[0;34m)\u001b[0m\u001b[0;34m\u001b[0m\u001b[0;34m\u001b[0m\u001b[0m\n\u001b[0m\u001b[1;32m    511\u001b[0m \u001b[0;34m\u001b[0m\u001b[0m\n\u001b[1;32m    512\u001b[0m         \u001b[0;32mif\u001b[0m \u001b[0mlen\u001b[0m\u001b[0;34m(\u001b[0m\u001b[0mself\u001b[0m\u001b[0;34m.\u001b[0m\u001b[0mvocabulary_\u001b[0m\u001b[0;34m)\u001b[0m \u001b[0;34m==\u001b[0m \u001b[0;36m0\u001b[0m\u001b[0;34m:\u001b[0m\u001b[0;34m\u001b[0m\u001b[0;34m\u001b[0m\u001b[0m\n",
            "\u001b[0;31mNotFittedError\u001b[0m: Vocabulary not fitted or provided"
          ]
        }
      ]
    },
    {
      "cell_type": "code",
      "source": [
        "print(confusion_matrix(y1_test, predictions1))\n",
        "print('\\n')\n",
        "print(classification_report(y1_test, predictions1))"
      ],
      "metadata": {
        "colab": {
          "base_uri": "https://localhost:8080/"
        },
        "id": "evSWy687QpFI",
        "outputId": "7d93bbed-46bf-4ebb-94a3-8b73268b5d47"
      },
      "execution_count": null,
      "outputs": [
        {
          "output_type": "stream",
          "name": "stdout",
          "text": [
            "[[20  6]\n",
            " [ 5 24]]\n",
            "\n",
            "\n",
            "              precision    recall  f1-score   support\n",
            "\n",
            "        Fake       0.80      0.77      0.78        26\n",
            "        Real       0.80      0.83      0.81        29\n",
            "\n",
            "    accuracy                           0.80        55\n",
            "   macro avg       0.80      0.80      0.80        55\n",
            "weighted avg       0.80      0.80      0.80        55\n",
            "\n"
          ]
        }
      ]
    },
    {
      "cell_type": "markdown",
      "source": [
        "#Implemenation Using Gossipcop"
      ],
      "metadata": {
        "id": "h-5tr_qvQy4v"
      }
    },
    {
      "cell_type": "markdown",
      "source": [],
      "metadata": {
        "id": "8GiPCi_YRRe2"
      }
    },
    {
      "cell_type": "code",
      "source": [
        "Df_gossipcop_fake= pd.read_csv(\"/content/drive/My Drive/Colab Notebooks/Fake_dataset/Existing Dataset/gossipcop_fake.csv\",encoding= 'unicode_escape')\n",
        "Df_gossipcop_real=pd.read_csv(\"/content/drive/My Drive/Colab Notebooks/Fake_dataset/Existing Dataset/gossipcop_real.csv\",encoding= 'unicode_escape')"
      ],
      "metadata": {
        "id": "gstv_IdkRRti"
      },
      "execution_count": null,
      "outputs": []
    },
    {
      "cell_type": "code",
      "source": [],
      "metadata": {
        "colab": {
          "base_uri": "https://localhost:8080/"
        },
        "id": "Jy_3Cx18SmTx",
        "outputId": "b621da1c-86ef-4531-9f37-61294e04e156"
      },
      "execution_count": null,
      "outputs": [
        {
          "output_type": "execute_result",
          "data": {
            "text/plain": [
              "(1999, 4)"
            ]
          },
          "metadata": {},
          "execution_count": 50
        }
      ]
    },
    {
      "cell_type": "code",
      "source": [
        "df=pd.concat([Df_gossipcop_real,Df_gossipcop_fake],axis=0)\n",
        "df.shape"
      ],
      "metadata": {
        "colab": {
          "base_uri": "https://localhost:8080/"
        },
        "id": "FD6s915zSxPg",
        "outputId": "7b5ab04d-6c37-4337-b311-82f0c25c4601"
      },
      "execution_count": null,
      "outputs": [
        {
          "output_type": "execute_result",
          "data": {
            "text/plain": [
              "(3998, 4)"
            ]
          },
          "metadata": {},
          "execution_count": 40
        }
      ]
    },
    {
      "cell_type": "code",
      "source": [
        "df.head(1000)"
      ],
      "metadata": {
        "colab": {
          "base_uri": "https://localhost:8080/",
          "height": 146
        },
        "id": "gH6FLG1PS49B",
        "outputId": "5784257f-c372-4dd5-dc0e-ab7e34d4ff5a"
      },
      "execution_count": null,
      "outputs": [
        {
          "output_type": "error",
          "ename": "NameError",
          "evalue": "name 'df' is not defined",
          "traceback": [
            "\u001b[0;31m---------------------------------------------------------------------------\u001b[0m",
            "\u001b[0;31mNameError\u001b[0m                                 Traceback (most recent call last)",
            "\u001b[0;32m<ipython-input-1-05240dc4a143>\u001b[0m in \u001b[0;36m<cell line: 1>\u001b[0;34m()\u001b[0m\n\u001b[0;32m----> 1\u001b[0;31m \u001b[0mdf\u001b[0m\u001b[0;34m.\u001b[0m\u001b[0mhead\u001b[0m\u001b[0;34m(\u001b[0m\u001b[0;36m1000\u001b[0m\u001b[0;34m)\u001b[0m\u001b[0;34m\u001b[0m\u001b[0;34m\u001b[0m\u001b[0m\n\u001b[0m",
            "\u001b[0;31mNameError\u001b[0m: name 'df' is not defined"
          ]
        }
      ]
    },
    {
      "cell_type": "markdown",
      "source": [
        "#Data Cleaning and Feature Engineering\n",
        "#We select variables of our interest only for analysis, including title, text, source, movies, images and news_type, and remove other columns."
      ],
      "metadata": {
        "id": "RvqFX5LaWMX9"
      }
    },
    {
      "cell_type": "code",
      "source": [
        "df.drop(['id','news_url'],axis=1, inplace=True)"
      ],
      "metadata": {
        "id": "Gp4_IRF0WLgH"
      },
      "execution_count": null,
      "outputs": []
    },
    {
      "cell_type": "markdown",
      "source": [
        "#We will create a Series that displays the total count of missing values per column."
      ],
      "metadata": {
        "id": "4UiIIedsWwHs"
      }
    },
    {
      "cell_type": "code",
      "source": [
        "df.isnull().sum()"
      ],
      "metadata": {
        "colab": {
          "base_uri": "https://localhost:8080/"
        },
        "id": "ax61qUBiWtz7",
        "outputId": "826e1402-3186-434c-8550-4313c43e5681"
      },
      "execution_count": null,
      "outputs": [
        {
          "output_type": "execute_result",
          "data": {
            "text/plain": [
              "title    6\n",
              "type     0\n",
              "dtype: int64"
            ]
          },
          "metadata": {},
          "execution_count": 43
        }
      ]
    },
    {
      "cell_type": "markdown",
      "source": [
        "We will convert this Series to be in term of percentage of the total DataFrame.\n",
        "\n"
      ],
      "metadata": {
        "id": "15YbUGgtW-hT"
      }
    },
    {
      "cell_type": "code",
      "source": [
        "(df.isnull().sum())/(df.shape[0])*100"
      ],
      "metadata": {
        "colab": {
          "base_uri": "https://localhost:8080/"
        },
        "id": "Fyr-26fTXAKE",
        "outputId": "69e2bd4c-ccac-4f52-8454-5d88fb58bc38"
      },
      "execution_count": null,
      "outputs": [
        {
          "output_type": "execute_result",
          "data": {
            "text/plain": [
              "title    0.150075\n",
              "type     0.000000\n",
              "dtype: float64"
            ]
          },
          "metadata": {},
          "execution_count": 55
        }
      ]
    },
    {
      "cell_type": "code",
      "source": [
        "dfresult = df.dropna()"
      ],
      "metadata": {
        "id": "VuyhPz_ikHs8"
      },
      "execution_count": null,
      "outputs": []
    },
    {
      "cell_type": "markdown",
      "source": [
        "#The datset does not contain null values in title and news_type columns which are the most important columns for us."
      ],
      "metadata": {
        "id": "E4M7tpZzXMPC"
      }
    },
    {
      "cell_type": "markdown",
      "source": [
        "#Analysis of Title and Body of News Articles\n",
        "#Preprocessing Function¶\n",
        "#We define a preprocessing function that performs the following operations:\n",
        "#Converting text to lower case\n",
        "#Removing numbers from the text corpus\n",
        "#Removing punctuation from the text corpus\n",
        "#Removing special characters such as ‘<’, ‘…’ from the text corpus\n",
        "#Removing english stopwords\n",
        "#Stemming words to root words\n",
        "#Removing extra whitespaces from the text corpus"
      ],
      "metadata": {
        "id": "oUmp_sFVXmN7"
      }
    },
    {
      "cell_type": "markdown",
      "source": [
        "#Fake/Real News Detection Based on News Body"
      ],
      "metadata": {
        "id": "wI5Qsn9cibqF"
      }
    },
    {
      "cell_type": "markdown",
      "source": [
        "#Splitting Data into Train and Test Datasets"
      ],
      "metadata": {
        "id": "JBHSfBG-ihsn"
      }
    },
    {
      "cell_type": "code",
      "source": [
        "X2=dfresult ['title']\n",
        "y2=dfresult ['type']"
      ],
      "metadata": {
        "id": "gHvcZRyCimTU"
      },
      "execution_count": null,
      "outputs": []
    },
    {
      "cell_type": "markdown",
      "source": [],
      "metadata": {
        "id": "uABIyFIDivTT"
      }
    },
    {
      "cell_type": "code",
      "source": [
        "X2_train, X2_test, y2_train, y2_test = train_test_split(X2, y2, test_size=0.3, random_state=42)"
      ],
      "metadata": {
        "id": "E-RZudhbiwnn"
      },
      "execution_count": null,
      "outputs": []
    },
    {
      "cell_type": "markdown",
      "source": [
        "#Random Forest Classifier"
      ],
      "metadata": {
        "id": "MWBpDTbxi1CI"
      }
    },
    {
      "cell_type": "code",
      "source": [
        "pp=Pipeline([\n",
        "    ('bow',CountVectorizer(analyzer=final)),\n",
        "    ('tfidf',TfidfTransformer()),\n",
        "    ('classifier',RandomForestClassifier())\n",
        "    ])"
      ],
      "metadata": {
        "id": "ZjRN7TaUi6bQ"
      },
      "execution_count": null,
      "outputs": []
    },
    {
      "cell_type": "code",
      "source": [
        "pp.fit(X2_train,y2_train)"
      ],
      "metadata": {
        "colab": {
          "base_uri": "https://localhost:8080/",
          "height": 164
        },
        "id": "ZENsqp-3jNb8",
        "outputId": "9f2597d3-c69c-4399-a7fb-28bd50633e2a"
      },
      "execution_count": null,
      "outputs": [
        {
          "output_type": "execute_result",
          "data": {
            "text/plain": [
              "Pipeline(steps=[('bow',\n",
              "                 CountVectorizer(analyzer=<function compose.<locals>.<lambda> at 0x7f064807c4c0>)),\n",
              "                ('tfidf', TfidfTransformer()),\n",
              "                ('classifier', RandomForestClassifier())])"
            ],
            "text/html": [
              "<style>#sk-container-id-1 {color: black;background-color: white;}#sk-container-id-1 pre{padding: 0;}#sk-container-id-1 div.sk-toggleable {background-color: white;}#sk-container-id-1 label.sk-toggleable__label {cursor: pointer;display: block;width: 100%;margin-bottom: 0;padding: 0.3em;box-sizing: border-box;text-align: center;}#sk-container-id-1 label.sk-toggleable__label-arrow:before {content: \"▸\";float: left;margin-right: 0.25em;color: #696969;}#sk-container-id-1 label.sk-toggleable__label-arrow:hover:before {color: black;}#sk-container-id-1 div.sk-estimator:hover label.sk-toggleable__label-arrow:before {color: black;}#sk-container-id-1 div.sk-toggleable__content {max-height: 0;max-width: 0;overflow: hidden;text-align: left;background-color: #f0f8ff;}#sk-container-id-1 div.sk-toggleable__content pre {margin: 0.2em;color: black;border-radius: 0.25em;background-color: #f0f8ff;}#sk-container-id-1 input.sk-toggleable__control:checked~div.sk-toggleable__content {max-height: 200px;max-width: 100%;overflow: auto;}#sk-container-id-1 input.sk-toggleable__control:checked~label.sk-toggleable__label-arrow:before {content: \"▾\";}#sk-container-id-1 div.sk-estimator input.sk-toggleable__control:checked~label.sk-toggleable__label {background-color: #d4ebff;}#sk-container-id-1 div.sk-label input.sk-toggleable__control:checked~label.sk-toggleable__label {background-color: #d4ebff;}#sk-container-id-1 input.sk-hidden--visually {border: 0;clip: rect(1px 1px 1px 1px);clip: rect(1px, 1px, 1px, 1px);height: 1px;margin: -1px;overflow: hidden;padding: 0;position: absolute;width: 1px;}#sk-container-id-1 div.sk-estimator {font-family: monospace;background-color: #f0f8ff;border: 1px dotted black;border-radius: 0.25em;box-sizing: border-box;margin-bottom: 0.5em;}#sk-container-id-1 div.sk-estimator:hover {background-color: #d4ebff;}#sk-container-id-1 div.sk-parallel-item::after {content: \"\";width: 100%;border-bottom: 1px solid gray;flex-grow: 1;}#sk-container-id-1 div.sk-label:hover label.sk-toggleable__label {background-color: #d4ebff;}#sk-container-id-1 div.sk-serial::before {content: \"\";position: absolute;border-left: 1px solid gray;box-sizing: border-box;top: 0;bottom: 0;left: 50%;z-index: 0;}#sk-container-id-1 div.sk-serial {display: flex;flex-direction: column;align-items: center;background-color: white;padding-right: 0.2em;padding-left: 0.2em;position: relative;}#sk-container-id-1 div.sk-item {position: relative;z-index: 1;}#sk-container-id-1 div.sk-parallel {display: flex;align-items: stretch;justify-content: center;background-color: white;position: relative;}#sk-container-id-1 div.sk-item::before, #sk-container-id-1 div.sk-parallel-item::before {content: \"\";position: absolute;border-left: 1px solid gray;box-sizing: border-box;top: 0;bottom: 0;left: 50%;z-index: -1;}#sk-container-id-1 div.sk-parallel-item {display: flex;flex-direction: column;z-index: 1;position: relative;background-color: white;}#sk-container-id-1 div.sk-parallel-item:first-child::after {align-self: flex-end;width: 50%;}#sk-container-id-1 div.sk-parallel-item:last-child::after {align-self: flex-start;width: 50%;}#sk-container-id-1 div.sk-parallel-item:only-child::after {width: 0;}#sk-container-id-1 div.sk-dashed-wrapped {border: 1px dashed gray;margin: 0 0.4em 0.5em 0.4em;box-sizing: border-box;padding-bottom: 0.4em;background-color: white;}#sk-container-id-1 div.sk-label label {font-family: monospace;font-weight: bold;display: inline-block;line-height: 1.2em;}#sk-container-id-1 div.sk-label-container {text-align: center;}#sk-container-id-1 div.sk-container {/* jupyter's `normalize.less` sets `[hidden] { display: none; }` but bootstrap.min.css set `[hidden] { display: none !important; }` so we also need the `!important` here to be able to override the default hidden behavior on the sphinx rendered scikit-learn.org. See: https://github.com/scikit-learn/scikit-learn/issues/21755 */display: inline-block !important;position: relative;}#sk-container-id-1 div.sk-text-repr-fallback {display: none;}</style><div id=\"sk-container-id-1\" class=\"sk-top-container\"><div class=\"sk-text-repr-fallback\"><pre>Pipeline(steps=[(&#x27;bow&#x27;,\n",
              "                 CountVectorizer(analyzer=&lt;function compose.&lt;locals&gt;.&lt;lambda&gt; at 0x7f064807c4c0&gt;)),\n",
              "                (&#x27;tfidf&#x27;, TfidfTransformer()),\n",
              "                (&#x27;classifier&#x27;, RandomForestClassifier())])</pre><b>In a Jupyter environment, please rerun this cell to show the HTML representation or trust the notebook. <br />On GitHub, the HTML representation is unable to render, please try loading this page with nbviewer.org.</b></div><div class=\"sk-container\" hidden><div class=\"sk-item sk-dashed-wrapped\"><div class=\"sk-label-container\"><div class=\"sk-label sk-toggleable\"><input class=\"sk-toggleable__control sk-hidden--visually\" id=\"sk-estimator-id-1\" type=\"checkbox\" ><label for=\"sk-estimator-id-1\" class=\"sk-toggleable__label sk-toggleable__label-arrow\">Pipeline</label><div class=\"sk-toggleable__content\"><pre>Pipeline(steps=[(&#x27;bow&#x27;,\n",
              "                 CountVectorizer(analyzer=&lt;function compose.&lt;locals&gt;.&lt;lambda&gt; at 0x7f064807c4c0&gt;)),\n",
              "                (&#x27;tfidf&#x27;, TfidfTransformer()),\n",
              "                (&#x27;classifier&#x27;, RandomForestClassifier())])</pre></div></div></div><div class=\"sk-serial\"><div class=\"sk-item\"><div class=\"sk-estimator sk-toggleable\"><input class=\"sk-toggleable__control sk-hidden--visually\" id=\"sk-estimator-id-2\" type=\"checkbox\" ><label for=\"sk-estimator-id-2\" class=\"sk-toggleable__label sk-toggleable__label-arrow\">CountVectorizer</label><div class=\"sk-toggleable__content\"><pre>CountVectorizer(analyzer=&lt;function compose.&lt;locals&gt;.&lt;lambda&gt; at 0x7f064807c4c0&gt;)</pre></div></div></div><div class=\"sk-item\"><div class=\"sk-estimator sk-toggleable\"><input class=\"sk-toggleable__control sk-hidden--visually\" id=\"sk-estimator-id-3\" type=\"checkbox\" ><label for=\"sk-estimator-id-3\" class=\"sk-toggleable__label sk-toggleable__label-arrow\">TfidfTransformer</label><div class=\"sk-toggleable__content\"><pre>TfidfTransformer()</pre></div></div></div><div class=\"sk-item\"><div class=\"sk-estimator sk-toggleable\"><input class=\"sk-toggleable__control sk-hidden--visually\" id=\"sk-estimator-id-4\" type=\"checkbox\" ><label for=\"sk-estimator-id-4\" class=\"sk-toggleable__label sk-toggleable__label-arrow\">RandomForestClassifier</label><div class=\"sk-toggleable__content\"><pre>RandomForestClassifier()</pre></div></div></div></div></div></div></div>"
            ]
          },
          "metadata": {},
          "execution_count": 48
        }
      ]
    },
    {
      "cell_type": "code",
      "source": [
        "predictions2=pp.predict(X2_test)"
      ],
      "metadata": {
        "id": "zA0RIl1wi_9s"
      },
      "execution_count": null,
      "outputs": []
    },
    {
      "cell_type": "code",
      "source": [
        "print(confusion_matrix(y2_test, predictions2))\n",
        "print('\\n')\n",
        "print(classification_report(y2_test, predictions2))"
      ],
      "metadata": {
        "colab": {
          "base_uri": "https://localhost:8080/"
        },
        "id": "4MCN0oclkWQX",
        "outputId": "3f385aac-fa5b-4ad4-a9c9-262d331dc095"
      },
      "execution_count": null,
      "outputs": [
        {
          "output_type": "stream",
          "name": "stdout",
          "text": [
            "[[439 145]\n",
            " [154 460]]\n",
            "\n",
            "\n",
            "              precision    recall  f1-score   support\n",
            "\n",
            "        fake       0.74      0.75      0.75       584\n",
            "        real       0.76      0.75      0.75       614\n",
            "\n",
            "    accuracy                           0.75      1198\n",
            "   macro avg       0.75      0.75      0.75      1198\n",
            "weighted avg       0.75      0.75      0.75      1198\n",
            "\n"
          ]
        }
      ]
    },
    {
      "cell_type": "markdown",
      "source": [
        "#implementation of ISOT dataset"
      ],
      "metadata": {
        "id": "CVGWnweJmMa0"
      }
    },
    {
      "cell_type": "code",
      "source": [
        "Df_ISOT_fake= pd.read_csv(\"/content/drive/My Drive/Colab Notebooks/Fake_dataset/Existing Dataset/Isot_fake1.csv\",encoding= 'unicode_escape')\n",
        "Df_ISOT_real=pd.read_csv(\"/content/drive/My Drive/Colab Notebooks/Fake_dataset/Existing Dataset/Isot_real2.csv\",encoding= 'unicode_escape')"
      ],
      "metadata": {
        "colab": {
          "base_uri": "https://localhost:8080/"
        },
        "id": "OQR3fWTWmRQ8",
        "outputId": "e59a8bf1-a34d-43d1-8f25-dd578bbefabb"
      },
      "execution_count": null,
      "outputs": [
        {
          "output_type": "stream",
          "name": "stderr",
          "text": [
            "<ipython-input-51-d3fb64b8954c>:1: DtypeWarning: Columns (0,1,2,3,4,5,6,7,8,9,10,11,12,13,14,15,16,17,18,19,20,21,22,23,24,25,26,27,28,29,30,31,32,33,34,35,36,37,38,39,40,41,42,43,44,45,46,47,48,49,50,51,52,53,54,55,56,57,58,59,60,61,62,63,64,65,66,67,68,69,70,71,72,73,74,75,76,77,78,79,80,81,82,83,84,85,86,87,88,89,90,91,92,93,94,95,96,97,98,99,100,101,102,103,104,105,106,107,108,109,110,111,112,113,114,115,116,117,118,119,120,121,122,123,124,125,126,127,128,129,130,131,132,133,134,135,136,137,138,139,140,141,142,143,144,145,146,147,148,149,150,151,152,153,154,155,156,157,158,159,160,161,162,163,164,165,166,167,168,169,170,171) have mixed types. Specify dtype option on import or set low_memory=False.\n",
            "  Df_ISOT_fake= pd.read_csv(\"/content/drive/My Drive/Colab Notebooks/Fake_dataset/Existing Dataset/Isot_fake1.csv\",encoding= 'unicode_escape')\n"
          ]
        }
      ]
    },
    {
      "cell_type": "code",
      "source": [
        "Df_ISOT_fake.shape\n",
        "Df_ISOT_real.shape"
      ],
      "metadata": {
        "colab": {
          "base_uri": "https://localhost:8080/"
        },
        "id": "W_kFVn9RnEvX",
        "outputId": "62b9fbd2-30a6-45af-ab12-022d7819480f"
      },
      "execution_count": null,
      "outputs": [
        {
          "output_type": "execute_result",
          "data": {
            "text/plain": [
              "(1999, 5)"
            ]
          },
          "metadata": {},
          "execution_count": 52
        }
      ]
    },
    {
      "cell_type": "code",
      "source": [
        "df=pd.concat([Df_ISOT_fake,Df_ISOT_real],axis=0)\n",
        "df.shape"
      ],
      "metadata": {
        "colab": {
          "base_uri": "https://localhost:8080/"
        },
        "id": "81SVMwUFnQUj",
        "outputId": "6dfd9971-6658-46e0-dd68-f72f3a0ffb19"
      },
      "execution_count": null,
      "outputs": [
        {
          "output_type": "execute_result",
          "data": {
            "text/plain": [
              "(25310, 172)"
            ]
          },
          "metadata": {},
          "execution_count": 53
        }
      ]
    },
    {
      "cell_type": "code",
      "source": [
        "df.info()"
      ],
      "metadata": {
        "colab": {
          "base_uri": "https://localhost:8080/"
        },
        "id": "Z9FfWKL_ngFz",
        "outputId": "db8244d6-d95c-4bc2-d03c-52d772541e3b"
      },
      "execution_count": null,
      "outputs": [
        {
          "output_type": "stream",
          "name": "stdout",
          "text": [
            "<class 'pandas.core.frame.DataFrame'>\n",
            "Index: 25310 entries, 0 to 1998\n",
            "Columns: 172 entries, title to Unnamed: 171\n",
            "dtypes: object(172)\n",
            "memory usage: 33.4+ MB\n"
          ]
        }
      ]
    },
    {
      "cell_type": "code",
      "source": [
        "df.head(5)"
      ],
      "metadata": {
        "colab": {
          "base_uri": "https://localhost:8080/",
          "height": 340
        },
        "id": "eiYvjgOTnzDL",
        "outputId": "62687423-601f-4689-c57c-1163420c9014"
      },
      "execution_count": null,
      "outputs": [
        {
          "output_type": "execute_result",
          "data": {
            "text/plain": [
              "                                               title  \\\n",
              "0   Donald Trump Sends Out Embarrassing New Yearâ...   \n",
              "1   Drunk Bragging Trump Staffer Started Russian ...   \n",
              "2   Sheriff David Clarke Becomes An Internet Joke...   \n",
              "3   Trump Is So Obsessed He Even Has Obamaâs Na...   \n",
              "4   Pope Francis Just Called Out Donald Trump Dur...   \n",
              "\n",
              "                                                text subject  \\\n",
              "0  Donald Trump just couldn t wish all Americans ...    News   \n",
              "1  House Intelligence Committee Chairman Devin Nu...    News   \n",
              "2  On Friday, it was revealed that former Milwauk...    News   \n",
              "3  On Christmas day, Donald Trump announced that ...    News   \n",
              "4  Pope Francis used his annual Christmas Day mes...    News   \n",
              "\n",
              "                date  type Unnamed: 5 Unnamed: 6 Unnamed: 7 Unnamed: 8  \\\n",
              "0  December 31, 2017  fake        NaN        NaN        NaN        NaN   \n",
              "1  December 31, 2017  fake        NaN        NaN        NaN        NaN   \n",
              "2  December 30, 2017  fake        NaN        NaN        NaN        NaN   \n",
              "3  December 29, 2017  fake        NaN        NaN        NaN        NaN   \n",
              "4  December 25, 2017  fake        NaN        NaN        NaN        NaN   \n",
              "\n",
              "  Unnamed: 9  ... Unnamed: 162 Unnamed: 163 Unnamed: 164 Unnamed: 165  \\\n",
              "0        NaN  ...          NaN          NaN          NaN          NaN   \n",
              "1        NaN  ...          NaN          NaN          NaN          NaN   \n",
              "2        NaN  ...          NaN          NaN          NaN          NaN   \n",
              "3        NaN  ...          NaN          NaN          NaN          NaN   \n",
              "4        NaN  ...          NaN          NaN          NaN          NaN   \n",
              "\n",
              "  Unnamed: 166 Unnamed: 167 Unnamed: 168 Unnamed: 169 Unnamed: 170  \\\n",
              "0          NaN          NaN          NaN          NaN          NaN   \n",
              "1          NaN          NaN          NaN          NaN          NaN   \n",
              "2          NaN          NaN          NaN          NaN          NaN   \n",
              "3          NaN          NaN          NaN          NaN          NaN   \n",
              "4          NaN          NaN          NaN          NaN          NaN   \n",
              "\n",
              "  Unnamed: 171  \n",
              "0          NaN  \n",
              "1          NaN  \n",
              "2          NaN  \n",
              "3          NaN  \n",
              "4          NaN  \n",
              "\n",
              "[5 rows x 172 columns]"
            ],
            "text/html": [
              "\n",
              "  <div id=\"df-7541530c-1d5b-425b-9dc1-a27a1eb2002a\" class=\"colab-df-container\">\n",
              "    <div>\n",
              "<style scoped>\n",
              "    .dataframe tbody tr th:only-of-type {\n",
              "        vertical-align: middle;\n",
              "    }\n",
              "\n",
              "    .dataframe tbody tr th {\n",
              "        vertical-align: top;\n",
              "    }\n",
              "\n",
              "    .dataframe thead th {\n",
              "        text-align: right;\n",
              "    }\n",
              "</style>\n",
              "<table border=\"1\" class=\"dataframe\">\n",
              "  <thead>\n",
              "    <tr style=\"text-align: right;\">\n",
              "      <th></th>\n",
              "      <th>title</th>\n",
              "      <th>text</th>\n",
              "      <th>subject</th>\n",
              "      <th>date</th>\n",
              "      <th>type</th>\n",
              "      <th>Unnamed: 5</th>\n",
              "      <th>Unnamed: 6</th>\n",
              "      <th>Unnamed: 7</th>\n",
              "      <th>Unnamed: 8</th>\n",
              "      <th>Unnamed: 9</th>\n",
              "      <th>...</th>\n",
              "      <th>Unnamed: 162</th>\n",
              "      <th>Unnamed: 163</th>\n",
              "      <th>Unnamed: 164</th>\n",
              "      <th>Unnamed: 165</th>\n",
              "      <th>Unnamed: 166</th>\n",
              "      <th>Unnamed: 167</th>\n",
              "      <th>Unnamed: 168</th>\n",
              "      <th>Unnamed: 169</th>\n",
              "      <th>Unnamed: 170</th>\n",
              "      <th>Unnamed: 171</th>\n",
              "    </tr>\n",
              "  </thead>\n",
              "  <tbody>\n",
              "    <tr>\n",
              "      <th>0</th>\n",
              "      <td>Donald Trump Sends Out Embarrassing New Yearâ...</td>\n",
              "      <td>Donald Trump just couldn t wish all Americans ...</td>\n",
              "      <td>News</td>\n",
              "      <td>December 31, 2017</td>\n",
              "      <td>fake</td>\n",
              "      <td>NaN</td>\n",
              "      <td>NaN</td>\n",
              "      <td>NaN</td>\n",
              "      <td>NaN</td>\n",
              "      <td>NaN</td>\n",
              "      <td>...</td>\n",
              "      <td>NaN</td>\n",
              "      <td>NaN</td>\n",
              "      <td>NaN</td>\n",
              "      <td>NaN</td>\n",
              "      <td>NaN</td>\n",
              "      <td>NaN</td>\n",
              "      <td>NaN</td>\n",
              "      <td>NaN</td>\n",
              "      <td>NaN</td>\n",
              "      <td>NaN</td>\n",
              "    </tr>\n",
              "    <tr>\n",
              "      <th>1</th>\n",
              "      <td>Drunk Bragging Trump Staffer Started Russian ...</td>\n",
              "      <td>House Intelligence Committee Chairman Devin Nu...</td>\n",
              "      <td>News</td>\n",
              "      <td>December 31, 2017</td>\n",
              "      <td>fake</td>\n",
              "      <td>NaN</td>\n",
              "      <td>NaN</td>\n",
              "      <td>NaN</td>\n",
              "      <td>NaN</td>\n",
              "      <td>NaN</td>\n",
              "      <td>...</td>\n",
              "      <td>NaN</td>\n",
              "      <td>NaN</td>\n",
              "      <td>NaN</td>\n",
              "      <td>NaN</td>\n",
              "      <td>NaN</td>\n",
              "      <td>NaN</td>\n",
              "      <td>NaN</td>\n",
              "      <td>NaN</td>\n",
              "      <td>NaN</td>\n",
              "      <td>NaN</td>\n",
              "    </tr>\n",
              "    <tr>\n",
              "      <th>2</th>\n",
              "      <td>Sheriff David Clarke Becomes An Internet Joke...</td>\n",
              "      <td>On Friday, it was revealed that former Milwauk...</td>\n",
              "      <td>News</td>\n",
              "      <td>December 30, 2017</td>\n",
              "      <td>fake</td>\n",
              "      <td>NaN</td>\n",
              "      <td>NaN</td>\n",
              "      <td>NaN</td>\n",
              "      <td>NaN</td>\n",
              "      <td>NaN</td>\n",
              "      <td>...</td>\n",
              "      <td>NaN</td>\n",
              "      <td>NaN</td>\n",
              "      <td>NaN</td>\n",
              "      <td>NaN</td>\n",
              "      <td>NaN</td>\n",
              "      <td>NaN</td>\n",
              "      <td>NaN</td>\n",
              "      <td>NaN</td>\n",
              "      <td>NaN</td>\n",
              "      <td>NaN</td>\n",
              "    </tr>\n",
              "    <tr>\n",
              "      <th>3</th>\n",
              "      <td>Trump Is So Obsessed He Even Has Obamaâs Na...</td>\n",
              "      <td>On Christmas day, Donald Trump announced that ...</td>\n",
              "      <td>News</td>\n",
              "      <td>December 29, 2017</td>\n",
              "      <td>fake</td>\n",
              "      <td>NaN</td>\n",
              "      <td>NaN</td>\n",
              "      <td>NaN</td>\n",
              "      <td>NaN</td>\n",
              "      <td>NaN</td>\n",
              "      <td>...</td>\n",
              "      <td>NaN</td>\n",
              "      <td>NaN</td>\n",
              "      <td>NaN</td>\n",
              "      <td>NaN</td>\n",
              "      <td>NaN</td>\n",
              "      <td>NaN</td>\n",
              "      <td>NaN</td>\n",
              "      <td>NaN</td>\n",
              "      <td>NaN</td>\n",
              "      <td>NaN</td>\n",
              "    </tr>\n",
              "    <tr>\n",
              "      <th>4</th>\n",
              "      <td>Pope Francis Just Called Out Donald Trump Dur...</td>\n",
              "      <td>Pope Francis used his annual Christmas Day mes...</td>\n",
              "      <td>News</td>\n",
              "      <td>December 25, 2017</td>\n",
              "      <td>fake</td>\n",
              "      <td>NaN</td>\n",
              "      <td>NaN</td>\n",
              "      <td>NaN</td>\n",
              "      <td>NaN</td>\n",
              "      <td>NaN</td>\n",
              "      <td>...</td>\n",
              "      <td>NaN</td>\n",
              "      <td>NaN</td>\n",
              "      <td>NaN</td>\n",
              "      <td>NaN</td>\n",
              "      <td>NaN</td>\n",
              "      <td>NaN</td>\n",
              "      <td>NaN</td>\n",
              "      <td>NaN</td>\n",
              "      <td>NaN</td>\n",
              "      <td>NaN</td>\n",
              "    </tr>\n",
              "  </tbody>\n",
              "</table>\n",
              "<p>5 rows × 172 columns</p>\n",
              "</div>\n",
              "    <div class=\"colab-df-buttons\">\n",
              "\n",
              "  <div class=\"colab-df-container\">\n",
              "    <button class=\"colab-df-convert\" onclick=\"convertToInteractive('df-7541530c-1d5b-425b-9dc1-a27a1eb2002a')\"\n",
              "            title=\"Convert this dataframe to an interactive table.\"\n",
              "            style=\"display:none;\">\n",
              "\n",
              "  <svg xmlns=\"http://www.w3.org/2000/svg\" height=\"24px\" viewBox=\"0 -960 960 960\">\n",
              "    <path d=\"M120-120v-720h720v720H120Zm60-500h600v-160H180v160Zm220 220h160v-160H400v160Zm0 220h160v-160H400v160ZM180-400h160v-160H180v160Zm440 0h160v-160H620v160ZM180-180h160v-160H180v160Zm440 0h160v-160H620v160Z\"/>\n",
              "  </svg>\n",
              "    </button>\n",
              "\n",
              "  <style>\n",
              "    .colab-df-container {\n",
              "      display:flex;\n",
              "      gap: 12px;\n",
              "    }\n",
              "\n",
              "    .colab-df-convert {\n",
              "      background-color: #E8F0FE;\n",
              "      border: none;\n",
              "      border-radius: 50%;\n",
              "      cursor: pointer;\n",
              "      display: none;\n",
              "      fill: #1967D2;\n",
              "      height: 32px;\n",
              "      padding: 0 0 0 0;\n",
              "      width: 32px;\n",
              "    }\n",
              "\n",
              "    .colab-df-convert:hover {\n",
              "      background-color: #E2EBFA;\n",
              "      box-shadow: 0px 1px 2px rgba(60, 64, 67, 0.3), 0px 1px 3px 1px rgba(60, 64, 67, 0.15);\n",
              "      fill: #174EA6;\n",
              "    }\n",
              "\n",
              "    .colab-df-buttons div {\n",
              "      margin-bottom: 4px;\n",
              "    }\n",
              "\n",
              "    [theme=dark] .colab-df-convert {\n",
              "      background-color: #3B4455;\n",
              "      fill: #D2E3FC;\n",
              "    }\n",
              "\n",
              "    [theme=dark] .colab-df-convert:hover {\n",
              "      background-color: #434B5C;\n",
              "      box-shadow: 0px 1px 3px 1px rgba(0, 0, 0, 0.15);\n",
              "      filter: drop-shadow(0px 1px 2px rgba(0, 0, 0, 0.3));\n",
              "      fill: #FFFFFF;\n",
              "    }\n",
              "  </style>\n",
              "\n",
              "    <script>\n",
              "      const buttonEl =\n",
              "        document.querySelector('#df-7541530c-1d5b-425b-9dc1-a27a1eb2002a button.colab-df-convert');\n",
              "      buttonEl.style.display =\n",
              "        google.colab.kernel.accessAllowed ? 'block' : 'none';\n",
              "\n",
              "      async function convertToInteractive(key) {\n",
              "        const element = document.querySelector('#df-7541530c-1d5b-425b-9dc1-a27a1eb2002a');\n",
              "        const dataTable =\n",
              "          await google.colab.kernel.invokeFunction('convertToInteractive',\n",
              "                                                    [key], {});\n",
              "        if (!dataTable) return;\n",
              "\n",
              "        const docLinkHtml = 'Like what you see? Visit the ' +\n",
              "          '<a target=\"_blank\" href=https://colab.research.google.com/notebooks/data_table.ipynb>data table notebook</a>'\n",
              "          + ' to learn more about interactive tables.';\n",
              "        element.innerHTML = '';\n",
              "        dataTable['output_type'] = 'display_data';\n",
              "        await google.colab.output.renderOutput(dataTable, element);\n",
              "        const docLink = document.createElement('div');\n",
              "        docLink.innerHTML = docLinkHtml;\n",
              "        element.appendChild(docLink);\n",
              "      }\n",
              "    </script>\n",
              "  </div>\n",
              "\n",
              "\n",
              "<div id=\"df-f94a978b-00f4-44b5-9b21-4718669f2272\">\n",
              "  <button class=\"colab-df-quickchart\" onclick=\"quickchart('df-f94a978b-00f4-44b5-9b21-4718669f2272')\"\n",
              "            title=\"Suggest charts\"\n",
              "            style=\"display:none;\">\n",
              "\n",
              "<svg xmlns=\"http://www.w3.org/2000/svg\" height=\"24px\"viewBox=\"0 0 24 24\"\n",
              "     width=\"24px\">\n",
              "    <g>\n",
              "        <path d=\"M19 3H5c-1.1 0-2 .9-2 2v14c0 1.1.9 2 2 2h14c1.1 0 2-.9 2-2V5c0-1.1-.9-2-2-2zM9 17H7v-7h2v7zm4 0h-2V7h2v10zm4 0h-2v-4h2v4z\"/>\n",
              "    </g>\n",
              "</svg>\n",
              "  </button>\n",
              "\n",
              "<style>\n",
              "  .colab-df-quickchart {\n",
              "      --bg-color: #E8F0FE;\n",
              "      --fill-color: #1967D2;\n",
              "      --hover-bg-color: #E2EBFA;\n",
              "      --hover-fill-color: #174EA6;\n",
              "      --disabled-fill-color: #AAA;\n",
              "      --disabled-bg-color: #DDD;\n",
              "  }\n",
              "\n",
              "  [theme=dark] .colab-df-quickchart {\n",
              "      --bg-color: #3B4455;\n",
              "      --fill-color: #D2E3FC;\n",
              "      --hover-bg-color: #434B5C;\n",
              "      --hover-fill-color: #FFFFFF;\n",
              "      --disabled-bg-color: #3B4455;\n",
              "      --disabled-fill-color: #666;\n",
              "  }\n",
              "\n",
              "  .colab-df-quickchart {\n",
              "    background-color: var(--bg-color);\n",
              "    border: none;\n",
              "    border-radius: 50%;\n",
              "    cursor: pointer;\n",
              "    display: none;\n",
              "    fill: var(--fill-color);\n",
              "    height: 32px;\n",
              "    padding: 0;\n",
              "    width: 32px;\n",
              "  }\n",
              "\n",
              "  .colab-df-quickchart:hover {\n",
              "    background-color: var(--hover-bg-color);\n",
              "    box-shadow: 0 1px 2px rgba(60, 64, 67, 0.3), 0 1px 3px 1px rgba(60, 64, 67, 0.15);\n",
              "    fill: var(--button-hover-fill-color);\n",
              "  }\n",
              "\n",
              "  .colab-df-quickchart-complete:disabled,\n",
              "  .colab-df-quickchart-complete:disabled:hover {\n",
              "    background-color: var(--disabled-bg-color);\n",
              "    fill: var(--disabled-fill-color);\n",
              "    box-shadow: none;\n",
              "  }\n",
              "\n",
              "  .colab-df-spinner {\n",
              "    border: 2px solid var(--fill-color);\n",
              "    border-color: transparent;\n",
              "    border-bottom-color: var(--fill-color);\n",
              "    animation:\n",
              "      spin 1s steps(1) infinite;\n",
              "  }\n",
              "\n",
              "  @keyframes spin {\n",
              "    0% {\n",
              "      border-color: transparent;\n",
              "      border-bottom-color: var(--fill-color);\n",
              "      border-left-color: var(--fill-color);\n",
              "    }\n",
              "    20% {\n",
              "      border-color: transparent;\n",
              "      border-left-color: var(--fill-color);\n",
              "      border-top-color: var(--fill-color);\n",
              "    }\n",
              "    30% {\n",
              "      border-color: transparent;\n",
              "      border-left-color: var(--fill-color);\n",
              "      border-top-color: var(--fill-color);\n",
              "      border-right-color: var(--fill-color);\n",
              "    }\n",
              "    40% {\n",
              "      border-color: transparent;\n",
              "      border-right-color: var(--fill-color);\n",
              "      border-top-color: var(--fill-color);\n",
              "    }\n",
              "    60% {\n",
              "      border-color: transparent;\n",
              "      border-right-color: var(--fill-color);\n",
              "    }\n",
              "    80% {\n",
              "      border-color: transparent;\n",
              "      border-right-color: var(--fill-color);\n",
              "      border-bottom-color: var(--fill-color);\n",
              "    }\n",
              "    90% {\n",
              "      border-color: transparent;\n",
              "      border-bottom-color: var(--fill-color);\n",
              "    }\n",
              "  }\n",
              "</style>\n",
              "\n",
              "  <script>\n",
              "    async function quickchart(key) {\n",
              "      const quickchartButtonEl =\n",
              "        document.querySelector('#' + key + ' button');\n",
              "      quickchartButtonEl.disabled = true;  // To prevent multiple clicks.\n",
              "      quickchartButtonEl.classList.add('colab-df-spinner');\n",
              "      try {\n",
              "        const charts = await google.colab.kernel.invokeFunction(\n",
              "            'suggestCharts', [key], {});\n",
              "      } catch (error) {\n",
              "        console.error('Error during call to suggestCharts:', error);\n",
              "      }\n",
              "      quickchartButtonEl.classList.remove('colab-df-spinner');\n",
              "      quickchartButtonEl.classList.add('colab-df-quickchart-complete');\n",
              "    }\n",
              "    (() => {\n",
              "      let quickchartButtonEl =\n",
              "        document.querySelector('#df-f94a978b-00f4-44b5-9b21-4718669f2272 button');\n",
              "      quickchartButtonEl.style.display =\n",
              "        google.colab.kernel.accessAllowed ? 'block' : 'none';\n",
              "    })();\n",
              "  </script>\n",
              "</div>\n",
              "\n",
              "    </div>\n",
              "  </div>\n"
            ],
            "application/vnd.google.colaboratory.intrinsic+json": {
              "type": "dataframe",
              "variable_name": "df"
            }
          },
          "metadata": {},
          "execution_count": 55
        }
      ]
    },
    {
      "cell_type": "code",
      "source": [
        "df = df.loc[:, ~df.columns.str.contains('^Unnamed')]"
      ],
      "metadata": {
        "id": "AwK9LRq_oBwx"
      },
      "execution_count": null,
      "outputs": []
    },
    {
      "cell_type": "code",
      "source": [
        "df"
      ],
      "metadata": {
        "colab": {
          "base_uri": "https://localhost:8080/",
          "height": 424
        },
        "id": "NwA0RffdoDkJ",
        "outputId": "65ae5df9-0c9d-4112-a1d5-f379ac5de05e"
      },
      "execution_count": null,
      "outputs": [
        {
          "output_type": "execute_result",
          "data": {
            "text/plain": [
              "                                                  title  \\\n",
              "0      Donald Trump Sends Out Embarrassing New Yearâ...   \n",
              "1      Drunk Bragging Trump Staffer Started Russian ...   \n",
              "2      Sheriff David Clarke Becomes An Internet Joke...   \n",
              "3      Trump Is So Obsessed He Even Has Obamaâs Na...   \n",
              "4      Pope Francis Just Called Out Donald Trump Dur...   \n",
              "...                                                 ...   \n",
              "1994  Pentagon notified U.S. Congress of $593 millio...   \n",
              "1995  Trump rescinds Obama limits on transfer of mil...   \n",
              "1996  Lawmakers should OK relief for Harvey victims:...   \n",
              "1997  Energy Secretary Perry cancels Kazakhstan visi...   \n",
              "1998  Trump's firm sought Moscow real estate deal du...   \n",
              "\n",
              "                                                   text       subject  \\\n",
              "0     Donald Trump just couldn t wish all Americans ...          News   \n",
              "1     House Intelligence Committee Chairman Devin Nu...          News   \n",
              "2     On Friday, it was revealed that former Milwauk...          News   \n",
              "3     On Christmas day, Donald Trump announced that ...          News   \n",
              "4     Pope Francis used his annual Christmas Day mes...          News   \n",
              "...                                                 ...           ...   \n",
              "1994  WASHINGTON (Reuters) - The Pentagon has notifi...  politicsNews   \n",
              "1995  WASHINGTON (Reuters) - U.S. President Donald T...  politicsNews   \n",
              "1996  WASHINGTON (Reuters) - U.S. House of Represent...  politicsNews   \n",
              "1997  ALMATY (Reuters) - United States Energy Secret...  politicsNews   \n",
              "1998  WASHINGTON (Reuters) - Donald Trumpâs compan...  politicsNews   \n",
              "\n",
              "                   date  type  \n",
              "0     December 31, 2017  fake  \n",
              "1     December 31, 2017  fake  \n",
              "2     December 30, 2017  fake  \n",
              "3     December 29, 2017  fake  \n",
              "4     December 25, 2017  fake  \n",
              "...                 ...   ...  \n",
              "1994   August 30, 2017   real  \n",
              "1995   August 28, 2017   real  \n",
              "1996   August 28, 2017   real  \n",
              "1997   August 28, 2017   real  \n",
              "1998   August 28, 2017   real  \n",
              "\n",
              "[25310 rows x 5 columns]"
            ],
            "text/html": [
              "\n",
              "  <div id=\"df-bbd392ba-9704-4e0c-b2b4-c484ee9cabd8\" class=\"colab-df-container\">\n",
              "    <div>\n",
              "<style scoped>\n",
              "    .dataframe tbody tr th:only-of-type {\n",
              "        vertical-align: middle;\n",
              "    }\n",
              "\n",
              "    .dataframe tbody tr th {\n",
              "        vertical-align: top;\n",
              "    }\n",
              "\n",
              "    .dataframe thead th {\n",
              "        text-align: right;\n",
              "    }\n",
              "</style>\n",
              "<table border=\"1\" class=\"dataframe\">\n",
              "  <thead>\n",
              "    <tr style=\"text-align: right;\">\n",
              "      <th></th>\n",
              "      <th>title</th>\n",
              "      <th>text</th>\n",
              "      <th>subject</th>\n",
              "      <th>date</th>\n",
              "      <th>type</th>\n",
              "    </tr>\n",
              "  </thead>\n",
              "  <tbody>\n",
              "    <tr>\n",
              "      <th>0</th>\n",
              "      <td>Donald Trump Sends Out Embarrassing New Yearâ...</td>\n",
              "      <td>Donald Trump just couldn t wish all Americans ...</td>\n",
              "      <td>News</td>\n",
              "      <td>December 31, 2017</td>\n",
              "      <td>fake</td>\n",
              "    </tr>\n",
              "    <tr>\n",
              "      <th>1</th>\n",
              "      <td>Drunk Bragging Trump Staffer Started Russian ...</td>\n",
              "      <td>House Intelligence Committee Chairman Devin Nu...</td>\n",
              "      <td>News</td>\n",
              "      <td>December 31, 2017</td>\n",
              "      <td>fake</td>\n",
              "    </tr>\n",
              "    <tr>\n",
              "      <th>2</th>\n",
              "      <td>Sheriff David Clarke Becomes An Internet Joke...</td>\n",
              "      <td>On Friday, it was revealed that former Milwauk...</td>\n",
              "      <td>News</td>\n",
              "      <td>December 30, 2017</td>\n",
              "      <td>fake</td>\n",
              "    </tr>\n",
              "    <tr>\n",
              "      <th>3</th>\n",
              "      <td>Trump Is So Obsessed He Even Has Obamaâs Na...</td>\n",
              "      <td>On Christmas day, Donald Trump announced that ...</td>\n",
              "      <td>News</td>\n",
              "      <td>December 29, 2017</td>\n",
              "      <td>fake</td>\n",
              "    </tr>\n",
              "    <tr>\n",
              "      <th>4</th>\n",
              "      <td>Pope Francis Just Called Out Donald Trump Dur...</td>\n",
              "      <td>Pope Francis used his annual Christmas Day mes...</td>\n",
              "      <td>News</td>\n",
              "      <td>December 25, 2017</td>\n",
              "      <td>fake</td>\n",
              "    </tr>\n",
              "    <tr>\n",
              "      <th>...</th>\n",
              "      <td>...</td>\n",
              "      <td>...</td>\n",
              "      <td>...</td>\n",
              "      <td>...</td>\n",
              "      <td>...</td>\n",
              "    </tr>\n",
              "    <tr>\n",
              "      <th>1994</th>\n",
              "      <td>Pentagon notified U.S. Congress of $593 millio...</td>\n",
              "      <td>WASHINGTON (Reuters) - The Pentagon has notifi...</td>\n",
              "      <td>politicsNews</td>\n",
              "      <td>August 30, 2017</td>\n",
              "      <td>real</td>\n",
              "    </tr>\n",
              "    <tr>\n",
              "      <th>1995</th>\n",
              "      <td>Trump rescinds Obama limits on transfer of mil...</td>\n",
              "      <td>WASHINGTON (Reuters) - U.S. President Donald T...</td>\n",
              "      <td>politicsNews</td>\n",
              "      <td>August 28, 2017</td>\n",
              "      <td>real</td>\n",
              "    </tr>\n",
              "    <tr>\n",
              "      <th>1996</th>\n",
              "      <td>Lawmakers should OK relief for Harvey victims:...</td>\n",
              "      <td>WASHINGTON (Reuters) - U.S. House of Represent...</td>\n",
              "      <td>politicsNews</td>\n",
              "      <td>August 28, 2017</td>\n",
              "      <td>real</td>\n",
              "    </tr>\n",
              "    <tr>\n",
              "      <th>1997</th>\n",
              "      <td>Energy Secretary Perry cancels Kazakhstan visi...</td>\n",
              "      <td>ALMATY (Reuters) - United States Energy Secret...</td>\n",
              "      <td>politicsNews</td>\n",
              "      <td>August 28, 2017</td>\n",
              "      <td>real</td>\n",
              "    </tr>\n",
              "    <tr>\n",
              "      <th>1998</th>\n",
              "      <td>Trump's firm sought Moscow real estate deal du...</td>\n",
              "      <td>WASHINGTON (Reuters) - Donald Trumpâs compan...</td>\n",
              "      <td>politicsNews</td>\n",
              "      <td>August 28, 2017</td>\n",
              "      <td>real</td>\n",
              "    </tr>\n",
              "  </tbody>\n",
              "</table>\n",
              "<p>25310 rows × 5 columns</p>\n",
              "</div>\n",
              "    <div class=\"colab-df-buttons\">\n",
              "\n",
              "  <div class=\"colab-df-container\">\n",
              "    <button class=\"colab-df-convert\" onclick=\"convertToInteractive('df-bbd392ba-9704-4e0c-b2b4-c484ee9cabd8')\"\n",
              "            title=\"Convert this dataframe to an interactive table.\"\n",
              "            style=\"display:none;\">\n",
              "\n",
              "  <svg xmlns=\"http://www.w3.org/2000/svg\" height=\"24px\" viewBox=\"0 -960 960 960\">\n",
              "    <path d=\"M120-120v-720h720v720H120Zm60-500h600v-160H180v160Zm220 220h160v-160H400v160Zm0 220h160v-160H400v160ZM180-400h160v-160H180v160Zm440 0h160v-160H620v160ZM180-180h160v-160H180v160Zm440 0h160v-160H620v160Z\"/>\n",
              "  </svg>\n",
              "    </button>\n",
              "\n",
              "  <style>\n",
              "    .colab-df-container {\n",
              "      display:flex;\n",
              "      gap: 12px;\n",
              "    }\n",
              "\n",
              "    .colab-df-convert {\n",
              "      background-color: #E8F0FE;\n",
              "      border: none;\n",
              "      border-radius: 50%;\n",
              "      cursor: pointer;\n",
              "      display: none;\n",
              "      fill: #1967D2;\n",
              "      height: 32px;\n",
              "      padding: 0 0 0 0;\n",
              "      width: 32px;\n",
              "    }\n",
              "\n",
              "    .colab-df-convert:hover {\n",
              "      background-color: #E2EBFA;\n",
              "      box-shadow: 0px 1px 2px rgba(60, 64, 67, 0.3), 0px 1px 3px 1px rgba(60, 64, 67, 0.15);\n",
              "      fill: #174EA6;\n",
              "    }\n",
              "\n",
              "    .colab-df-buttons div {\n",
              "      margin-bottom: 4px;\n",
              "    }\n",
              "\n",
              "    [theme=dark] .colab-df-convert {\n",
              "      background-color: #3B4455;\n",
              "      fill: #D2E3FC;\n",
              "    }\n",
              "\n",
              "    [theme=dark] .colab-df-convert:hover {\n",
              "      background-color: #434B5C;\n",
              "      box-shadow: 0px 1px 3px 1px rgba(0, 0, 0, 0.15);\n",
              "      filter: drop-shadow(0px 1px 2px rgba(0, 0, 0, 0.3));\n",
              "      fill: #FFFFFF;\n",
              "    }\n",
              "  </style>\n",
              "\n",
              "    <script>\n",
              "      const buttonEl =\n",
              "        document.querySelector('#df-bbd392ba-9704-4e0c-b2b4-c484ee9cabd8 button.colab-df-convert');\n",
              "      buttonEl.style.display =\n",
              "        google.colab.kernel.accessAllowed ? 'block' : 'none';\n",
              "\n",
              "      async function convertToInteractive(key) {\n",
              "        const element = document.querySelector('#df-bbd392ba-9704-4e0c-b2b4-c484ee9cabd8');\n",
              "        const dataTable =\n",
              "          await google.colab.kernel.invokeFunction('convertToInteractive',\n",
              "                                                    [key], {});\n",
              "        if (!dataTable) return;\n",
              "\n",
              "        const docLinkHtml = 'Like what you see? Visit the ' +\n",
              "          '<a target=\"_blank\" href=https://colab.research.google.com/notebooks/data_table.ipynb>data table notebook</a>'\n",
              "          + ' to learn more about interactive tables.';\n",
              "        element.innerHTML = '';\n",
              "        dataTable['output_type'] = 'display_data';\n",
              "        await google.colab.output.renderOutput(dataTable, element);\n",
              "        const docLink = document.createElement('div');\n",
              "        docLink.innerHTML = docLinkHtml;\n",
              "        element.appendChild(docLink);\n",
              "      }\n",
              "    </script>\n",
              "  </div>\n",
              "\n",
              "\n",
              "<div id=\"df-0aa8c0b6-ebae-4122-a2e2-e2ed30d7cc41\">\n",
              "  <button class=\"colab-df-quickchart\" onclick=\"quickchart('df-0aa8c0b6-ebae-4122-a2e2-e2ed30d7cc41')\"\n",
              "            title=\"Suggest charts\"\n",
              "            style=\"display:none;\">\n",
              "\n",
              "<svg xmlns=\"http://www.w3.org/2000/svg\" height=\"24px\"viewBox=\"0 0 24 24\"\n",
              "     width=\"24px\">\n",
              "    <g>\n",
              "        <path d=\"M19 3H5c-1.1 0-2 .9-2 2v14c0 1.1.9 2 2 2h14c1.1 0 2-.9 2-2V5c0-1.1-.9-2-2-2zM9 17H7v-7h2v7zm4 0h-2V7h2v10zm4 0h-2v-4h2v4z\"/>\n",
              "    </g>\n",
              "</svg>\n",
              "  </button>\n",
              "\n",
              "<style>\n",
              "  .colab-df-quickchart {\n",
              "      --bg-color: #E8F0FE;\n",
              "      --fill-color: #1967D2;\n",
              "      --hover-bg-color: #E2EBFA;\n",
              "      --hover-fill-color: #174EA6;\n",
              "      --disabled-fill-color: #AAA;\n",
              "      --disabled-bg-color: #DDD;\n",
              "  }\n",
              "\n",
              "  [theme=dark] .colab-df-quickchart {\n",
              "      --bg-color: #3B4455;\n",
              "      --fill-color: #D2E3FC;\n",
              "      --hover-bg-color: #434B5C;\n",
              "      --hover-fill-color: #FFFFFF;\n",
              "      --disabled-bg-color: #3B4455;\n",
              "      --disabled-fill-color: #666;\n",
              "  }\n",
              "\n",
              "  .colab-df-quickchart {\n",
              "    background-color: var(--bg-color);\n",
              "    border: none;\n",
              "    border-radius: 50%;\n",
              "    cursor: pointer;\n",
              "    display: none;\n",
              "    fill: var(--fill-color);\n",
              "    height: 32px;\n",
              "    padding: 0;\n",
              "    width: 32px;\n",
              "  }\n",
              "\n",
              "  .colab-df-quickchart:hover {\n",
              "    background-color: var(--hover-bg-color);\n",
              "    box-shadow: 0 1px 2px rgba(60, 64, 67, 0.3), 0 1px 3px 1px rgba(60, 64, 67, 0.15);\n",
              "    fill: var(--button-hover-fill-color);\n",
              "  }\n",
              "\n",
              "  .colab-df-quickchart-complete:disabled,\n",
              "  .colab-df-quickchart-complete:disabled:hover {\n",
              "    background-color: var(--disabled-bg-color);\n",
              "    fill: var(--disabled-fill-color);\n",
              "    box-shadow: none;\n",
              "  }\n",
              "\n",
              "  .colab-df-spinner {\n",
              "    border: 2px solid var(--fill-color);\n",
              "    border-color: transparent;\n",
              "    border-bottom-color: var(--fill-color);\n",
              "    animation:\n",
              "      spin 1s steps(1) infinite;\n",
              "  }\n",
              "\n",
              "  @keyframes spin {\n",
              "    0% {\n",
              "      border-color: transparent;\n",
              "      border-bottom-color: var(--fill-color);\n",
              "      border-left-color: var(--fill-color);\n",
              "    }\n",
              "    20% {\n",
              "      border-color: transparent;\n",
              "      border-left-color: var(--fill-color);\n",
              "      border-top-color: var(--fill-color);\n",
              "    }\n",
              "    30% {\n",
              "      border-color: transparent;\n",
              "      border-left-color: var(--fill-color);\n",
              "      border-top-color: var(--fill-color);\n",
              "      border-right-color: var(--fill-color);\n",
              "    }\n",
              "    40% {\n",
              "      border-color: transparent;\n",
              "      border-right-color: var(--fill-color);\n",
              "      border-top-color: var(--fill-color);\n",
              "    }\n",
              "    60% {\n",
              "      border-color: transparent;\n",
              "      border-right-color: var(--fill-color);\n",
              "    }\n",
              "    80% {\n",
              "      border-color: transparent;\n",
              "      border-right-color: var(--fill-color);\n",
              "      border-bottom-color: var(--fill-color);\n",
              "    }\n",
              "    90% {\n",
              "      border-color: transparent;\n",
              "      border-bottom-color: var(--fill-color);\n",
              "    }\n",
              "  }\n",
              "</style>\n",
              "\n",
              "  <script>\n",
              "    async function quickchart(key) {\n",
              "      const quickchartButtonEl =\n",
              "        document.querySelector('#' + key + ' button');\n",
              "      quickchartButtonEl.disabled = true;  // To prevent multiple clicks.\n",
              "      quickchartButtonEl.classList.add('colab-df-spinner');\n",
              "      try {\n",
              "        const charts = await google.colab.kernel.invokeFunction(\n",
              "            'suggestCharts', [key], {});\n",
              "      } catch (error) {\n",
              "        console.error('Error during call to suggestCharts:', error);\n",
              "      }\n",
              "      quickchartButtonEl.classList.remove('colab-df-spinner');\n",
              "      quickchartButtonEl.classList.add('colab-df-quickchart-complete');\n",
              "    }\n",
              "    (() => {\n",
              "      let quickchartButtonEl =\n",
              "        document.querySelector('#df-0aa8c0b6-ebae-4122-a2e2-e2ed30d7cc41 button');\n",
              "      quickchartButtonEl.style.display =\n",
              "        google.colab.kernel.accessAllowed ? 'block' : 'none';\n",
              "    })();\n",
              "  </script>\n",
              "</div>\n",
              "\n",
              "  <div id=\"id_362a9943-2fa1-4f11-89dc-dbda9eb9b740\">\n",
              "    <style>\n",
              "      .colab-df-generate {\n",
              "        background-color: #E8F0FE;\n",
              "        border: none;\n",
              "        border-radius: 50%;\n",
              "        cursor: pointer;\n",
              "        display: none;\n",
              "        fill: #1967D2;\n",
              "        height: 32px;\n",
              "        padding: 0 0 0 0;\n",
              "        width: 32px;\n",
              "      }\n",
              "\n",
              "      .colab-df-generate:hover {\n",
              "        background-color: #E2EBFA;\n",
              "        box-shadow: 0px 1px 2px rgba(60, 64, 67, 0.3), 0px 1px 3px 1px rgba(60, 64, 67, 0.15);\n",
              "        fill: #174EA6;\n",
              "      }\n",
              "\n",
              "      [theme=dark] .colab-df-generate {\n",
              "        background-color: #3B4455;\n",
              "        fill: #D2E3FC;\n",
              "      }\n",
              "\n",
              "      [theme=dark] .colab-df-generate:hover {\n",
              "        background-color: #434B5C;\n",
              "        box-shadow: 0px 1px 3px 1px rgba(0, 0, 0, 0.15);\n",
              "        filter: drop-shadow(0px 1px 2px rgba(0, 0, 0, 0.3));\n",
              "        fill: #FFFFFF;\n",
              "      }\n",
              "    </style>\n",
              "    <button class=\"colab-df-generate\" onclick=\"generateWithVariable('df')\"\n",
              "            title=\"Generate code using this dataframe.\"\n",
              "            style=\"display:none;\">\n",
              "\n",
              "  <svg xmlns=\"http://www.w3.org/2000/svg\" height=\"24px\"viewBox=\"0 0 24 24\"\n",
              "       width=\"24px\">\n",
              "    <path d=\"M7,19H8.4L18.45,9,17,7.55,7,17.6ZM5,21V16.75L18.45,3.32a2,2,0,0,1,2.83,0l1.4,1.43a1.91,1.91,0,0,1,.58,1.4,1.91,1.91,0,0,1-.58,1.4L9.25,21ZM18.45,9,17,7.55Zm-12,3A5.31,5.31,0,0,0,4.9,8.1,5.31,5.31,0,0,0,1,6.5,5.31,5.31,0,0,0,4.9,4.9,5.31,5.31,0,0,0,6.5,1,5.31,5.31,0,0,0,8.1,4.9,5.31,5.31,0,0,0,12,6.5,5.46,5.46,0,0,0,6.5,12Z\"/>\n",
              "  </svg>\n",
              "    </button>\n",
              "    <script>\n",
              "      (() => {\n",
              "      const buttonEl =\n",
              "        document.querySelector('#id_362a9943-2fa1-4f11-89dc-dbda9eb9b740 button.colab-df-generate');\n",
              "      buttonEl.style.display =\n",
              "        google.colab.kernel.accessAllowed ? 'block' : 'none';\n",
              "\n",
              "      buttonEl.onclick = () => {\n",
              "        google.colab.notebook.generateWithVariable('df');\n",
              "      }\n",
              "      })();\n",
              "    </script>\n",
              "  </div>\n",
              "\n",
              "    </div>\n",
              "  </div>\n"
            ],
            "application/vnd.google.colaboratory.intrinsic+json": {
              "type": "dataframe",
              "variable_name": "df",
              "summary": "{\n  \"name\": \"df\",\n  \"rows\": 25310,\n  \"fields\": [\n    {\n      \"column\": \"title\",\n      \"properties\": {\n        \"dtype\": \"category\",\n        \"num_unique_values\": 3985,\n        \"samples\": [\n          \" Another Pervert Out At Fox News Over Allegations Of Sexual Harassment\",\n          \"Sign-up pace slows in third week of 2018 Obamacare enrollment\",\n          \" Trump Got Another Totally Real Letter From A Not Fake Kid Who Loves Him And No One\\u00e2\\u0080\\u0099s Buying It\"\n        ],\n        \"semantic_type\": \"\",\n        \"description\": \"\"\n      }\n    },\n    {\n      \"column\": \"text\",\n      \"properties\": {\n        \"dtype\": \"category\",\n        \"num_unique_values\": 3985,\n        \"samples\": [\n          \"Fox News has a problem with sexual predators in its ranks. Their gross corporate rape culture is costing them television personalities left and right. First, it was the now-deceased mastermind behind the network, Roger Ailes. Then it was Bill O Reilly (who was, by all accounts, their main star) who had to be canned to save the network s brand after millions were paid to his victims. Now, it is happening again   only this time it is Eric Bolling.Bolling had his own program, called The Specialists, which was relatively new, but he had been with the network for a decade. Fox News released a curt statement that read: Fox News Channel is canceling The Specialists, and Eric Bolling and Fox have agreed to part ways amicably. We thank Eric for his ten years of service to our loyal viewers and wish him the best of luck. There was no mention of the sexual harassment charges, but that was clearly the reason. Bolling has been accused of sending lewd photos of penises to female Fox News employees. Bolling, for his part, is, of course, denying the allegations. His lawyer released a statement that reads: Mr. Bolling recalls no such inappropriate communications, does not believe he sent any such communications, and will vigorously pursue his legal remedies for any false and defamatory accusations that are made. This all comes on the heels of Bolling being suspended after Yashar Ali of the Huffington Post came out with an explosive report regarding Bolling s conduct in the workplace. Bolling is filing a $50 million lawsuit against Yashar for character defamation. It likely won t go anywhere as no one in their right mind would write such a story without concrete evidence.That network of right-wing propaganda needs to go down the toilet with the rest of the sewage. They are misogynistic, racist, and all around bigoted to their core. They are also pathological liars who should not be allowed to call themselves  news. So long, Bolling. Hopefully the rest of that vile network follows.Featured image via Logopedia\",\n          \"WASHINGTON (Reuters) - The United States hopes its determination that ethnic cleansing  occurred against the Rohingya will raise pressure on Myanmar\\u00e2\\u0080\\u0099s military and civilian leadership to respond to the crisis and allow displaced people to return home, a U.S. official said on Wednesday. \\u00e2\\u0080\\u009cThe determination does indicate we feel it was ... organized planned and systematic,\\u00e2\\u0080\\u009d a senior U.S. official told reporters on a conference call. \\u00e2\\u0080\\u009cIt does not point the finger at any specific group, but there is a limited number of groups that can be involved in that planning and organization.\\u00e2\\u0080\\u009d \",\n          \"Sarah Huckabee Sanders decided to once again show everyone how much people love Donald Trump by reading a suspicious letter allegedly sent this time from a child in Falls Church, Virginia.This letter come from  Frank,  who is 10 or 11 years old (Sanders could not exactly decide, later amending his age because Frank had a  birthday ) and wants to mow the White House lawn for free (which is good because Trump doesn t exactly pay his contractors).Sanders invited  Frank  to work in the Rose Garden with the groundskeeper for a morning, then did something that is more disgusting if he is actually real than if he is not: she used  Frank s  letter to support the administration s new racist immigration agenda that will prioritize people who  speak English  over those who do not: It s our responsibility to keep the American dream alive for kids like Frank, immigrants who are already here and those who dream of immigrating here in the future. Recently, Sanders read a letter from a child called  Pickle  that was allegedly mailed unfolded to the White House.Dylan aka Pickle thank you for your letter and hope to meet you soon! pic.twitter.com/XZlJARZ9cs  Sarah Huckabee (@SarahHuckabee) July 26, 2017When the letter failed to prove that Pickle was real, it seems that a casting call for the role was successful complete with a photo of  Pickle  wearing a suit in front of (as the letter says) a Donald Trump-themed birthday cake. The photo included no other people. It is still unclear if  Pickle  actually wrote the unfolded-yet- mailed  letter, but a little boy allegedly named Dylan Harbin will be touring the White House soon.Unlike  Pickle s  letter, which appears to be a terrible mockup of what an idiot would assume is age-appropriate writing and spelling for a 10-year-old, Frank s is typed (but, as with the last one, it appears to have never been folded). Though Frank was able to type a letter, he appears incapable of signing his own name:.@SHSanders45: \\\"It is our duty to keep the American dream alive for kids like Frank.\\\" pic.twitter.com/kaUMlgHn75  The White House (@WhiteHouse) August 2, 2017Let s say  Frank  and  Pickle  actually exist and were not in any way manufactured. We have a  President  who is attempting to use children to salvage his abysmal reputation and support his hateful agenda.Naturally, people are both skeptical of and sickened by this:It s your duty to keep the dream of child labor alive? Interesting.  Eric Rosso (@ericopinion) August 2, 2017Lol  please see attached flier   I admire your business background  sounds like a 10 yr old to me ?  Nancy ???  (@rinaldo_nancy) August 2, 2017Propaganda party again? ?Y all are some sick people.  Susan   (@susanmitch7) August 2, 2017Is that crossout on the signature where the president started to write  Donnie ?  Steven Dupler (@stevendupler) August 2, 2017Authenticity is highly doubted, but nice try Sarah. Next time how about we talk Russia policy?  J.A. Meyer (@JenniferMeyer6) August 2, 2017Oh my Gosh .a ten year old can t sign his name. You really want me to believe this?!  John connolly (@Johnthecon216) August 2, 2017Ya  That was totally penned by a 10yo.  Ben Weston (@psiphyr) August 2, 2017Frank is 10 and scribbles like he s 3?! My granddaughter is 6 and writes in full cursive! #TrumpLies #WHLies  lisa! Lisa! LISA! (@lisapalermo_) August 2, 2017Any kid that sounds that sophisticated in his verbiage would be able to sign his name more skillfully We think youre lying even if youre not  Donna Neal (@MizNeal67) August 2, 2017He writes so well but signs his name as if he were 5 years old? Looks like #FakeNews  Flor de Calabaza (@Zucchiniblute) August 2, 2017These bullshit fake ass kid letters are just ridiculous. Frank just started learning to write. I doubt he has started business or he exists  maatkare (@Maatkare) August 2, 2017Frank must be attending a Betsy DeVos accredited school. 10 years old and he can t sign or spell his own name. Fake Frank.  Jane Leamy (@parkcityjanie) August 2, 2017Frank can t sign his name at 10 but can write this type of letter? Lol! Which WH intern wrote it and signed it with their non-dominant hand?  Cubbybear1714 (@Cubbybear1744) August 2, 2017A 10 year old who signs his name like that wouldn t know how to make a plural into a possessive. This teacher isn t believing these.  GingeRoots17 (@GingeRoots17) August 2, 2017This was not written by a child. GTFOH. I hate how many people will believe this. 10 year olds don t write like that. America is losing it  Josiah Beamish (@josiahbeamish) August 2, 2017Frank is not real.  Johnnto (@johnnto) August 2, 2017If it seems like Trump wouldn t just make this up, keep in mind that he recently got busted hanging a fake Time Magazine cover in his establishments and making up a fake friend named  Jim. Wonder if Trump told  Frank  what a  dump  the White House is. Watch Sanders read this totally not fake letter below:Here's Sarah Huckabee Sanders reading a letter from 10-year-old Frank from Virginia https://t.co/0TCpj3P2xE  Meg Wagner (@megwagner) August 2, 2017Featured image via screengrab\"\n        ],\n        \"semantic_type\": \"\",\n        \"description\": \"\"\n      }\n    },\n    {\n      \"column\": \"subject\",\n      \"properties\": {\n        \"dtype\": \"category\",\n        \"num_unique_values\": 2,\n        \"samples\": [\n          \"politicsNews\",\n          \"News\"\n        ],\n        \"semantic_type\": \"\",\n        \"description\": \"\"\n      }\n    },\n    {\n      \"column\": \"date\",\n      \"properties\": {\n        \"dtype\": \"category\",\n        \"num_unique_values\": 399,\n        \"samples\": [\n          \"June 8, 2017\",\n          \"October 16, 2017 \"\n        ],\n        \"semantic_type\": \"\",\n        \"description\": \"\"\n      }\n    },\n    {\n      \"column\": \"type\",\n      \"properties\": {\n        \"dtype\": \"category\",\n        \"num_unique_values\": 13,\n        \"samples\": [\n          \" transformed by the death of American culture. This is something which is echoed by Leonard Cohen s song The Future at the end of the film.  PRISON BREAK    Mickey waxes poetic until a prison riot is sparked after talking to Gale. During the prison scene\",\n          \" but also its corporate share prices\"\n        ],\n        \"semantic_type\": \"\",\n        \"description\": \"\"\n      }\n    }\n  ]\n}"
            }
          },
          "metadata": {},
          "execution_count": 57
        }
      ]
    },
    {
      "cell_type": "code",
      "source": [
        "dfresult = df.dropna()"
      ],
      "metadata": {
        "id": "pRmozXTHoNrg"
      },
      "execution_count": null,
      "outputs": []
    },
    {
      "cell_type": "code",
      "source": [
        "dfresult"
      ],
      "metadata": {
        "colab": {
          "base_uri": "https://localhost:8080/",
          "height": 424
        },
        "id": "R05Zj8EToPXK",
        "outputId": "7f39d833-91d9-4c9d-c2fd-379f53554462"
      },
      "execution_count": null,
      "outputs": [
        {
          "output_type": "execute_result",
          "data": {
            "text/plain": [
              "                                                  title  \\\n",
              "0      Donald Trump Sends Out Embarrassing New Yearâ...   \n",
              "1      Drunk Bragging Trump Staffer Started Russian ...   \n",
              "2      Sheriff David Clarke Becomes An Internet Joke...   \n",
              "3      Trump Is So Obsessed He Even Has Obamaâs Na...   \n",
              "4      Pope Francis Just Called Out Donald Trump Dur...   \n",
              "...                                                 ...   \n",
              "1994  Pentagon notified U.S. Congress of $593 millio...   \n",
              "1995  Trump rescinds Obama limits on transfer of mil...   \n",
              "1996  Lawmakers should OK relief for Harvey victims:...   \n",
              "1997  Energy Secretary Perry cancels Kazakhstan visi...   \n",
              "1998  Trump's firm sought Moscow real estate deal du...   \n",
              "\n",
              "                                                   text       subject  \\\n",
              "0     Donald Trump just couldn t wish all Americans ...          News   \n",
              "1     House Intelligence Committee Chairman Devin Nu...          News   \n",
              "2     On Friday, it was revealed that former Milwauk...          News   \n",
              "3     On Christmas day, Donald Trump announced that ...          News   \n",
              "4     Pope Francis used his annual Christmas Day mes...          News   \n",
              "...                                                 ...           ...   \n",
              "1994  WASHINGTON (Reuters) - The Pentagon has notifi...  politicsNews   \n",
              "1995  WASHINGTON (Reuters) - U.S. President Donald T...  politicsNews   \n",
              "1996  WASHINGTON (Reuters) - U.S. House of Represent...  politicsNews   \n",
              "1997  ALMATY (Reuters) - United States Energy Secret...  politicsNews   \n",
              "1998  WASHINGTON (Reuters) - Donald Trumpâs compan...  politicsNews   \n",
              "\n",
              "                   date  type  \n",
              "0     December 31, 2017  fake  \n",
              "1     December 31, 2017  fake  \n",
              "2     December 30, 2017  fake  \n",
              "3     December 29, 2017  fake  \n",
              "4     December 25, 2017  fake  \n",
              "...                 ...   ...  \n",
              "1994   August 30, 2017   real  \n",
              "1995   August 28, 2017   real  \n",
              "1996   August 28, 2017   real  \n",
              "1997   August 28, 2017   real  \n",
              "1998   August 28, 2017   real  \n",
              "\n",
              "[3998 rows x 5 columns]"
            ],
            "text/html": [
              "\n",
              "  <div id=\"df-e96f7ce5-5fb3-4f90-ba20-e436a0df2d1d\" class=\"colab-df-container\">\n",
              "    <div>\n",
              "<style scoped>\n",
              "    .dataframe tbody tr th:only-of-type {\n",
              "        vertical-align: middle;\n",
              "    }\n",
              "\n",
              "    .dataframe tbody tr th {\n",
              "        vertical-align: top;\n",
              "    }\n",
              "\n",
              "    .dataframe thead th {\n",
              "        text-align: right;\n",
              "    }\n",
              "</style>\n",
              "<table border=\"1\" class=\"dataframe\">\n",
              "  <thead>\n",
              "    <tr style=\"text-align: right;\">\n",
              "      <th></th>\n",
              "      <th>title</th>\n",
              "      <th>text</th>\n",
              "      <th>subject</th>\n",
              "      <th>date</th>\n",
              "      <th>type</th>\n",
              "    </tr>\n",
              "  </thead>\n",
              "  <tbody>\n",
              "    <tr>\n",
              "      <th>0</th>\n",
              "      <td>Donald Trump Sends Out Embarrassing New Yearâ...</td>\n",
              "      <td>Donald Trump just couldn t wish all Americans ...</td>\n",
              "      <td>News</td>\n",
              "      <td>December 31, 2017</td>\n",
              "      <td>fake</td>\n",
              "    </tr>\n",
              "    <tr>\n",
              "      <th>1</th>\n",
              "      <td>Drunk Bragging Trump Staffer Started Russian ...</td>\n",
              "      <td>House Intelligence Committee Chairman Devin Nu...</td>\n",
              "      <td>News</td>\n",
              "      <td>December 31, 2017</td>\n",
              "      <td>fake</td>\n",
              "    </tr>\n",
              "    <tr>\n",
              "      <th>2</th>\n",
              "      <td>Sheriff David Clarke Becomes An Internet Joke...</td>\n",
              "      <td>On Friday, it was revealed that former Milwauk...</td>\n",
              "      <td>News</td>\n",
              "      <td>December 30, 2017</td>\n",
              "      <td>fake</td>\n",
              "    </tr>\n",
              "    <tr>\n",
              "      <th>3</th>\n",
              "      <td>Trump Is So Obsessed He Even Has Obamaâs Na...</td>\n",
              "      <td>On Christmas day, Donald Trump announced that ...</td>\n",
              "      <td>News</td>\n",
              "      <td>December 29, 2017</td>\n",
              "      <td>fake</td>\n",
              "    </tr>\n",
              "    <tr>\n",
              "      <th>4</th>\n",
              "      <td>Pope Francis Just Called Out Donald Trump Dur...</td>\n",
              "      <td>Pope Francis used his annual Christmas Day mes...</td>\n",
              "      <td>News</td>\n",
              "      <td>December 25, 2017</td>\n",
              "      <td>fake</td>\n",
              "    </tr>\n",
              "    <tr>\n",
              "      <th>...</th>\n",
              "      <td>...</td>\n",
              "      <td>...</td>\n",
              "      <td>...</td>\n",
              "      <td>...</td>\n",
              "      <td>...</td>\n",
              "    </tr>\n",
              "    <tr>\n",
              "      <th>1994</th>\n",
              "      <td>Pentagon notified U.S. Congress of $593 millio...</td>\n",
              "      <td>WASHINGTON (Reuters) - The Pentagon has notifi...</td>\n",
              "      <td>politicsNews</td>\n",
              "      <td>August 30, 2017</td>\n",
              "      <td>real</td>\n",
              "    </tr>\n",
              "    <tr>\n",
              "      <th>1995</th>\n",
              "      <td>Trump rescinds Obama limits on transfer of mil...</td>\n",
              "      <td>WASHINGTON (Reuters) - U.S. President Donald T...</td>\n",
              "      <td>politicsNews</td>\n",
              "      <td>August 28, 2017</td>\n",
              "      <td>real</td>\n",
              "    </tr>\n",
              "    <tr>\n",
              "      <th>1996</th>\n",
              "      <td>Lawmakers should OK relief for Harvey victims:...</td>\n",
              "      <td>WASHINGTON (Reuters) - U.S. House of Represent...</td>\n",
              "      <td>politicsNews</td>\n",
              "      <td>August 28, 2017</td>\n",
              "      <td>real</td>\n",
              "    </tr>\n",
              "    <tr>\n",
              "      <th>1997</th>\n",
              "      <td>Energy Secretary Perry cancels Kazakhstan visi...</td>\n",
              "      <td>ALMATY (Reuters) - United States Energy Secret...</td>\n",
              "      <td>politicsNews</td>\n",
              "      <td>August 28, 2017</td>\n",
              "      <td>real</td>\n",
              "    </tr>\n",
              "    <tr>\n",
              "      <th>1998</th>\n",
              "      <td>Trump's firm sought Moscow real estate deal du...</td>\n",
              "      <td>WASHINGTON (Reuters) - Donald Trumpâs compan...</td>\n",
              "      <td>politicsNews</td>\n",
              "      <td>August 28, 2017</td>\n",
              "      <td>real</td>\n",
              "    </tr>\n",
              "  </tbody>\n",
              "</table>\n",
              "<p>3998 rows × 5 columns</p>\n",
              "</div>\n",
              "    <div class=\"colab-df-buttons\">\n",
              "\n",
              "  <div class=\"colab-df-container\">\n",
              "    <button class=\"colab-df-convert\" onclick=\"convertToInteractive('df-e96f7ce5-5fb3-4f90-ba20-e436a0df2d1d')\"\n",
              "            title=\"Convert this dataframe to an interactive table.\"\n",
              "            style=\"display:none;\">\n",
              "\n",
              "  <svg xmlns=\"http://www.w3.org/2000/svg\" height=\"24px\" viewBox=\"0 -960 960 960\">\n",
              "    <path d=\"M120-120v-720h720v720H120Zm60-500h600v-160H180v160Zm220 220h160v-160H400v160Zm0 220h160v-160H400v160ZM180-400h160v-160H180v160Zm440 0h160v-160H620v160ZM180-180h160v-160H180v160Zm440 0h160v-160H620v160Z\"/>\n",
              "  </svg>\n",
              "    </button>\n",
              "\n",
              "  <style>\n",
              "    .colab-df-container {\n",
              "      display:flex;\n",
              "      gap: 12px;\n",
              "    }\n",
              "\n",
              "    .colab-df-convert {\n",
              "      background-color: #E8F0FE;\n",
              "      border: none;\n",
              "      border-radius: 50%;\n",
              "      cursor: pointer;\n",
              "      display: none;\n",
              "      fill: #1967D2;\n",
              "      height: 32px;\n",
              "      padding: 0 0 0 0;\n",
              "      width: 32px;\n",
              "    }\n",
              "\n",
              "    .colab-df-convert:hover {\n",
              "      background-color: #E2EBFA;\n",
              "      box-shadow: 0px 1px 2px rgba(60, 64, 67, 0.3), 0px 1px 3px 1px rgba(60, 64, 67, 0.15);\n",
              "      fill: #174EA6;\n",
              "    }\n",
              "\n",
              "    .colab-df-buttons div {\n",
              "      margin-bottom: 4px;\n",
              "    }\n",
              "\n",
              "    [theme=dark] .colab-df-convert {\n",
              "      background-color: #3B4455;\n",
              "      fill: #D2E3FC;\n",
              "    }\n",
              "\n",
              "    [theme=dark] .colab-df-convert:hover {\n",
              "      background-color: #434B5C;\n",
              "      box-shadow: 0px 1px 3px 1px rgba(0, 0, 0, 0.15);\n",
              "      filter: drop-shadow(0px 1px 2px rgba(0, 0, 0, 0.3));\n",
              "      fill: #FFFFFF;\n",
              "    }\n",
              "  </style>\n",
              "\n",
              "    <script>\n",
              "      const buttonEl =\n",
              "        document.querySelector('#df-e96f7ce5-5fb3-4f90-ba20-e436a0df2d1d button.colab-df-convert');\n",
              "      buttonEl.style.display =\n",
              "        google.colab.kernel.accessAllowed ? 'block' : 'none';\n",
              "\n",
              "      async function convertToInteractive(key) {\n",
              "        const element = document.querySelector('#df-e96f7ce5-5fb3-4f90-ba20-e436a0df2d1d');\n",
              "        const dataTable =\n",
              "          await google.colab.kernel.invokeFunction('convertToInteractive',\n",
              "                                                    [key], {});\n",
              "        if (!dataTable) return;\n",
              "\n",
              "        const docLinkHtml = 'Like what you see? Visit the ' +\n",
              "          '<a target=\"_blank\" href=https://colab.research.google.com/notebooks/data_table.ipynb>data table notebook</a>'\n",
              "          + ' to learn more about interactive tables.';\n",
              "        element.innerHTML = '';\n",
              "        dataTable['output_type'] = 'display_data';\n",
              "        await google.colab.output.renderOutput(dataTable, element);\n",
              "        const docLink = document.createElement('div');\n",
              "        docLink.innerHTML = docLinkHtml;\n",
              "        element.appendChild(docLink);\n",
              "      }\n",
              "    </script>\n",
              "  </div>\n",
              "\n",
              "\n",
              "<div id=\"df-2e9bb1ae-da81-404a-91c6-78fd3506b23f\">\n",
              "  <button class=\"colab-df-quickchart\" onclick=\"quickchart('df-2e9bb1ae-da81-404a-91c6-78fd3506b23f')\"\n",
              "            title=\"Suggest charts\"\n",
              "            style=\"display:none;\">\n",
              "\n",
              "<svg xmlns=\"http://www.w3.org/2000/svg\" height=\"24px\"viewBox=\"0 0 24 24\"\n",
              "     width=\"24px\">\n",
              "    <g>\n",
              "        <path d=\"M19 3H5c-1.1 0-2 .9-2 2v14c0 1.1.9 2 2 2h14c1.1 0 2-.9 2-2V5c0-1.1-.9-2-2-2zM9 17H7v-7h2v7zm4 0h-2V7h2v10zm4 0h-2v-4h2v4z\"/>\n",
              "    </g>\n",
              "</svg>\n",
              "  </button>\n",
              "\n",
              "<style>\n",
              "  .colab-df-quickchart {\n",
              "      --bg-color: #E8F0FE;\n",
              "      --fill-color: #1967D2;\n",
              "      --hover-bg-color: #E2EBFA;\n",
              "      --hover-fill-color: #174EA6;\n",
              "      --disabled-fill-color: #AAA;\n",
              "      --disabled-bg-color: #DDD;\n",
              "  }\n",
              "\n",
              "  [theme=dark] .colab-df-quickchart {\n",
              "      --bg-color: #3B4455;\n",
              "      --fill-color: #D2E3FC;\n",
              "      --hover-bg-color: #434B5C;\n",
              "      --hover-fill-color: #FFFFFF;\n",
              "      --disabled-bg-color: #3B4455;\n",
              "      --disabled-fill-color: #666;\n",
              "  }\n",
              "\n",
              "  .colab-df-quickchart {\n",
              "    background-color: var(--bg-color);\n",
              "    border: none;\n",
              "    border-radius: 50%;\n",
              "    cursor: pointer;\n",
              "    display: none;\n",
              "    fill: var(--fill-color);\n",
              "    height: 32px;\n",
              "    padding: 0;\n",
              "    width: 32px;\n",
              "  }\n",
              "\n",
              "  .colab-df-quickchart:hover {\n",
              "    background-color: var(--hover-bg-color);\n",
              "    box-shadow: 0 1px 2px rgba(60, 64, 67, 0.3), 0 1px 3px 1px rgba(60, 64, 67, 0.15);\n",
              "    fill: var(--button-hover-fill-color);\n",
              "  }\n",
              "\n",
              "  .colab-df-quickchart-complete:disabled,\n",
              "  .colab-df-quickchart-complete:disabled:hover {\n",
              "    background-color: var(--disabled-bg-color);\n",
              "    fill: var(--disabled-fill-color);\n",
              "    box-shadow: none;\n",
              "  }\n",
              "\n",
              "  .colab-df-spinner {\n",
              "    border: 2px solid var(--fill-color);\n",
              "    border-color: transparent;\n",
              "    border-bottom-color: var(--fill-color);\n",
              "    animation:\n",
              "      spin 1s steps(1) infinite;\n",
              "  }\n",
              "\n",
              "  @keyframes spin {\n",
              "    0% {\n",
              "      border-color: transparent;\n",
              "      border-bottom-color: var(--fill-color);\n",
              "      border-left-color: var(--fill-color);\n",
              "    }\n",
              "    20% {\n",
              "      border-color: transparent;\n",
              "      border-left-color: var(--fill-color);\n",
              "      border-top-color: var(--fill-color);\n",
              "    }\n",
              "    30% {\n",
              "      border-color: transparent;\n",
              "      border-left-color: var(--fill-color);\n",
              "      border-top-color: var(--fill-color);\n",
              "      border-right-color: var(--fill-color);\n",
              "    }\n",
              "    40% {\n",
              "      border-color: transparent;\n",
              "      border-right-color: var(--fill-color);\n",
              "      border-top-color: var(--fill-color);\n",
              "    }\n",
              "    60% {\n",
              "      border-color: transparent;\n",
              "      border-right-color: var(--fill-color);\n",
              "    }\n",
              "    80% {\n",
              "      border-color: transparent;\n",
              "      border-right-color: var(--fill-color);\n",
              "      border-bottom-color: var(--fill-color);\n",
              "    }\n",
              "    90% {\n",
              "      border-color: transparent;\n",
              "      border-bottom-color: var(--fill-color);\n",
              "    }\n",
              "  }\n",
              "</style>\n",
              "\n",
              "  <script>\n",
              "    async function quickchart(key) {\n",
              "      const quickchartButtonEl =\n",
              "        document.querySelector('#' + key + ' button');\n",
              "      quickchartButtonEl.disabled = true;  // To prevent multiple clicks.\n",
              "      quickchartButtonEl.classList.add('colab-df-spinner');\n",
              "      try {\n",
              "        const charts = await google.colab.kernel.invokeFunction(\n",
              "            'suggestCharts', [key], {});\n",
              "      } catch (error) {\n",
              "        console.error('Error during call to suggestCharts:', error);\n",
              "      }\n",
              "      quickchartButtonEl.classList.remove('colab-df-spinner');\n",
              "      quickchartButtonEl.classList.add('colab-df-quickchart-complete');\n",
              "    }\n",
              "    (() => {\n",
              "      let quickchartButtonEl =\n",
              "        document.querySelector('#df-2e9bb1ae-da81-404a-91c6-78fd3506b23f button');\n",
              "      quickchartButtonEl.style.display =\n",
              "        google.colab.kernel.accessAllowed ? 'block' : 'none';\n",
              "    })();\n",
              "  </script>\n",
              "</div>\n",
              "\n",
              "  <div id=\"id_9886d2a9-898a-474e-8516-f1fd38e4814c\">\n",
              "    <style>\n",
              "      .colab-df-generate {\n",
              "        background-color: #E8F0FE;\n",
              "        border: none;\n",
              "        border-radius: 50%;\n",
              "        cursor: pointer;\n",
              "        display: none;\n",
              "        fill: #1967D2;\n",
              "        height: 32px;\n",
              "        padding: 0 0 0 0;\n",
              "        width: 32px;\n",
              "      }\n",
              "\n",
              "      .colab-df-generate:hover {\n",
              "        background-color: #E2EBFA;\n",
              "        box-shadow: 0px 1px 2px rgba(60, 64, 67, 0.3), 0px 1px 3px 1px rgba(60, 64, 67, 0.15);\n",
              "        fill: #174EA6;\n",
              "      }\n",
              "\n",
              "      [theme=dark] .colab-df-generate {\n",
              "        background-color: #3B4455;\n",
              "        fill: #D2E3FC;\n",
              "      }\n",
              "\n",
              "      [theme=dark] .colab-df-generate:hover {\n",
              "        background-color: #434B5C;\n",
              "        box-shadow: 0px 1px 3px 1px rgba(0, 0, 0, 0.15);\n",
              "        filter: drop-shadow(0px 1px 2px rgba(0, 0, 0, 0.3));\n",
              "        fill: #FFFFFF;\n",
              "      }\n",
              "    </style>\n",
              "    <button class=\"colab-df-generate\" onclick=\"generateWithVariable('dfresult')\"\n",
              "            title=\"Generate code using this dataframe.\"\n",
              "            style=\"display:none;\">\n",
              "\n",
              "  <svg xmlns=\"http://www.w3.org/2000/svg\" height=\"24px\"viewBox=\"0 0 24 24\"\n",
              "       width=\"24px\">\n",
              "    <path d=\"M7,19H8.4L18.45,9,17,7.55,7,17.6ZM5,21V16.75L18.45,3.32a2,2,0,0,1,2.83,0l1.4,1.43a1.91,1.91,0,0,1,.58,1.4,1.91,1.91,0,0,1-.58,1.4L9.25,21ZM18.45,9,17,7.55Zm-12,3A5.31,5.31,0,0,0,4.9,8.1,5.31,5.31,0,0,0,1,6.5,5.31,5.31,0,0,0,4.9,4.9,5.31,5.31,0,0,0,6.5,1,5.31,5.31,0,0,0,8.1,4.9,5.31,5.31,0,0,0,12,6.5,5.46,5.46,0,0,0,6.5,12Z\"/>\n",
              "  </svg>\n",
              "    </button>\n",
              "    <script>\n",
              "      (() => {\n",
              "      const buttonEl =\n",
              "        document.querySelector('#id_9886d2a9-898a-474e-8516-f1fd38e4814c button.colab-df-generate');\n",
              "      buttonEl.style.display =\n",
              "        google.colab.kernel.accessAllowed ? 'block' : 'none';\n",
              "\n",
              "      buttonEl.onclick = () => {\n",
              "        google.colab.notebook.generateWithVariable('dfresult');\n",
              "      }\n",
              "      })();\n",
              "    </script>\n",
              "  </div>\n",
              "\n",
              "    </div>\n",
              "  </div>\n"
            ],
            "application/vnd.google.colaboratory.intrinsic+json": {
              "type": "dataframe",
              "variable_name": "dfresult",
              "summary": "{\n  \"name\": \"dfresult\",\n  \"rows\": 3998,\n  \"fields\": [\n    {\n      \"column\": \"title\",\n      \"properties\": {\n        \"dtype\": \"string\",\n        \"num_unique_values\": 3985,\n        \"samples\": [\n          \" Another Pervert Out At Fox News Over Allegations Of Sexual Harassment\",\n          \"Sign-up pace slows in third week of 2018 Obamacare enrollment\",\n          \" Trump Got Another Totally Real Letter From A Not Fake Kid Who Loves Him And No One\\u00e2\\u0080\\u0099s Buying It\"\n        ],\n        \"semantic_type\": \"\",\n        \"description\": \"\"\n      }\n    },\n    {\n      \"column\": \"text\",\n      \"properties\": {\n        \"dtype\": \"string\",\n        \"num_unique_values\": 3985,\n        \"samples\": [\n          \"Fox News has a problem with sexual predators in its ranks. Their gross corporate rape culture is costing them television personalities left and right. First, it was the now-deceased mastermind behind the network, Roger Ailes. Then it was Bill O Reilly (who was, by all accounts, their main star) who had to be canned to save the network s brand after millions were paid to his victims. Now, it is happening again   only this time it is Eric Bolling.Bolling had his own program, called The Specialists, which was relatively new, but he had been with the network for a decade. Fox News released a curt statement that read: Fox News Channel is canceling The Specialists, and Eric Bolling and Fox have agreed to part ways amicably. We thank Eric for his ten years of service to our loyal viewers and wish him the best of luck. There was no mention of the sexual harassment charges, but that was clearly the reason. Bolling has been accused of sending lewd photos of penises to female Fox News employees. Bolling, for his part, is, of course, denying the allegations. His lawyer released a statement that reads: Mr. Bolling recalls no such inappropriate communications, does not believe he sent any such communications, and will vigorously pursue his legal remedies for any false and defamatory accusations that are made. This all comes on the heels of Bolling being suspended after Yashar Ali of the Huffington Post came out with an explosive report regarding Bolling s conduct in the workplace. Bolling is filing a $50 million lawsuit against Yashar for character defamation. It likely won t go anywhere as no one in their right mind would write such a story without concrete evidence.That network of right-wing propaganda needs to go down the toilet with the rest of the sewage. They are misogynistic, racist, and all around bigoted to their core. They are also pathological liars who should not be allowed to call themselves  news. So long, Bolling. Hopefully the rest of that vile network follows.Featured image via Logopedia\",\n          \"WASHINGTON (Reuters) - The United States hopes its determination that ethnic cleansing  occurred against the Rohingya will raise pressure on Myanmar\\u00e2\\u0080\\u0099s military and civilian leadership to respond to the crisis and allow displaced people to return home, a U.S. official said on Wednesday. \\u00e2\\u0080\\u009cThe determination does indicate we feel it was ... organized planned and systematic,\\u00e2\\u0080\\u009d a senior U.S. official told reporters on a conference call. \\u00e2\\u0080\\u009cIt does not point the finger at any specific group, but there is a limited number of groups that can be involved in that planning and organization.\\u00e2\\u0080\\u009d \",\n          \"Sarah Huckabee Sanders decided to once again show everyone how much people love Donald Trump by reading a suspicious letter allegedly sent this time from a child in Falls Church, Virginia.This letter come from  Frank,  who is 10 or 11 years old (Sanders could not exactly decide, later amending his age because Frank had a  birthday ) and wants to mow the White House lawn for free (which is good because Trump doesn t exactly pay his contractors).Sanders invited  Frank  to work in the Rose Garden with the groundskeeper for a morning, then did something that is more disgusting if he is actually real than if he is not: she used  Frank s  letter to support the administration s new racist immigration agenda that will prioritize people who  speak English  over those who do not: It s our responsibility to keep the American dream alive for kids like Frank, immigrants who are already here and those who dream of immigrating here in the future. Recently, Sanders read a letter from a child called  Pickle  that was allegedly mailed unfolded to the White House.Dylan aka Pickle thank you for your letter and hope to meet you soon! pic.twitter.com/XZlJARZ9cs  Sarah Huckabee (@SarahHuckabee) July 26, 2017When the letter failed to prove that Pickle was real, it seems that a casting call for the role was successful complete with a photo of  Pickle  wearing a suit in front of (as the letter says) a Donald Trump-themed birthday cake. The photo included no other people. It is still unclear if  Pickle  actually wrote the unfolded-yet- mailed  letter, but a little boy allegedly named Dylan Harbin will be touring the White House soon.Unlike  Pickle s  letter, which appears to be a terrible mockup of what an idiot would assume is age-appropriate writing and spelling for a 10-year-old, Frank s is typed (but, as with the last one, it appears to have never been folded). Though Frank was able to type a letter, he appears incapable of signing his own name:.@SHSanders45: \\\"It is our duty to keep the American dream alive for kids like Frank.\\\" pic.twitter.com/kaUMlgHn75  The White House (@WhiteHouse) August 2, 2017Let s say  Frank  and  Pickle  actually exist and were not in any way manufactured. We have a  President  who is attempting to use children to salvage his abysmal reputation and support his hateful agenda.Naturally, people are both skeptical of and sickened by this:It s your duty to keep the dream of child labor alive? Interesting.  Eric Rosso (@ericopinion) August 2, 2017Lol  please see attached flier   I admire your business background  sounds like a 10 yr old to me ?  Nancy ???  (@rinaldo_nancy) August 2, 2017Propaganda party again? ?Y all are some sick people.  Susan   (@susanmitch7) August 2, 2017Is that crossout on the signature where the president started to write  Donnie ?  Steven Dupler (@stevendupler) August 2, 2017Authenticity is highly doubted, but nice try Sarah. Next time how about we talk Russia policy?  J.A. Meyer (@JenniferMeyer6) August 2, 2017Oh my Gosh .a ten year old can t sign his name. You really want me to believe this?!  John connolly (@Johnthecon216) August 2, 2017Ya  That was totally penned by a 10yo.  Ben Weston (@psiphyr) August 2, 2017Frank is 10 and scribbles like he s 3?! My granddaughter is 6 and writes in full cursive! #TrumpLies #WHLies  lisa! Lisa! LISA! (@lisapalermo_) August 2, 2017Any kid that sounds that sophisticated in his verbiage would be able to sign his name more skillfully We think youre lying even if youre not  Donna Neal (@MizNeal67) August 2, 2017He writes so well but signs his name as if he were 5 years old? Looks like #FakeNews  Flor de Calabaza (@Zucchiniblute) August 2, 2017These bullshit fake ass kid letters are just ridiculous. Frank just started learning to write. I doubt he has started business or he exists  maatkare (@Maatkare) August 2, 2017Frank must be attending a Betsy DeVos accredited school. 10 years old and he can t sign or spell his own name. Fake Frank.  Jane Leamy (@parkcityjanie) August 2, 2017Frank can t sign his name at 10 but can write this type of letter? Lol! Which WH intern wrote it and signed it with their non-dominant hand?  Cubbybear1714 (@Cubbybear1744) August 2, 2017A 10 year old who signs his name like that wouldn t know how to make a plural into a possessive. This teacher isn t believing these.  GingeRoots17 (@GingeRoots17) August 2, 2017This was not written by a child. GTFOH. I hate how many people will believe this. 10 year olds don t write like that. America is losing it  Josiah Beamish (@josiahbeamish) August 2, 2017Frank is not real.  Johnnto (@johnnto) August 2, 2017If it seems like Trump wouldn t just make this up, keep in mind that he recently got busted hanging a fake Time Magazine cover in his establishments and making up a fake friend named  Jim. Wonder if Trump told  Frank  what a  dump  the White House is. Watch Sanders read this totally not fake letter below:Here's Sarah Huckabee Sanders reading a letter from 10-year-old Frank from Virginia https://t.co/0TCpj3P2xE  Meg Wagner (@megwagner) August 2, 2017Featured image via screengrab\"\n        ],\n        \"semantic_type\": \"\",\n        \"description\": \"\"\n      }\n    },\n    {\n      \"column\": \"subject\",\n      \"properties\": {\n        \"dtype\": \"category\",\n        \"num_unique_values\": 2,\n        \"samples\": [\n          \"politicsNews\",\n          \"News\"\n        ],\n        \"semantic_type\": \"\",\n        \"description\": \"\"\n      }\n    },\n    {\n      \"column\": \"date\",\n      \"properties\": {\n        \"dtype\": \"category\",\n        \"num_unique_values\": 399,\n        \"samples\": [\n          \"June 8, 2017\",\n          \"October 16, 2017 \"\n        ],\n        \"semantic_type\": \"\",\n        \"description\": \"\"\n      }\n    },\n    {\n      \"column\": \"type\",\n      \"properties\": {\n        \"dtype\": \"category\",\n        \"num_unique_values\": 2,\n        \"samples\": [\n          \"real\",\n          \"fake\"\n        ],\n        \"semantic_type\": \"\",\n        \"description\": \"\"\n      }\n    }\n  ]\n}"
            }
          },
          "metadata": {},
          "execution_count": 59
        }
      ]
    },
    {
      "cell_type": "code",
      "source": [
        "ps=PorterStemmer()\n",
        "wst= WhitespaceTokenizer()\n",
        "\n",
        "##### 1. Converting text to lower case\n",
        "def lower_func (x):\n",
        "    return x.lower()\n",
        "\n",
        "\n",
        "##### 2. Removing Numbers from the text corpus\n",
        "def remove_number_func (x):\n",
        "    new=\"\"\n",
        "    for a in x:\n",
        "        if a.isdigit()==False:\n",
        "            new=new+a\n",
        "    return new\n",
        "\n",
        "\n",
        "##### 3. Removing punctuation\n",
        "def remove_punc_func(x):\n",
        "    new=''\n",
        "    for a in x:\n",
        "        if a not in string.punctuation:\n",
        "            new=new+a\n",
        "    return new\n",
        "\n",
        "##### 4. Removing special characters\n",
        "def remove_spec_char_func(x):\n",
        "    new=''\n",
        "    for a in x:\n",
        "        if (a.isalnum()==True) or (a==' '):\n",
        "            new=new+a\n",
        "    return(new)\n",
        "\n",
        "##### 5. Removing english stopwords\n",
        "def remove_stopwords(x):\n",
        "    new=[]\n",
        "    for a in x.split():\n",
        "        if a not in stopwords.words('english'):\n",
        "            new.append(a)\n",
        "    return \" \".join(new)\n",
        "\n",
        "##### 6. Stemming words to root words\n",
        "def stem_func(x):\n",
        "    wordlist = word_tokenize(x)\n",
        "    psstem = [ps.stem(a) for a in wordlist]\n",
        "    return ' '.join(psstem)\n",
        "\n",
        "##### 7. Removing extra whitespaces\n",
        "def remove_whitespace_func(x):\n",
        "    return(wst.tokenize(x))\n",
        "\n",
        "def compose(f, g):\n",
        "    return lambda x: f(g(x))\n",
        "\n",
        "final=compose(compose(compose(compose(compose(compose(remove_whitespace_func,stem_func),remove_stopwords),remove_spec_char_func),remove_punc_func),remove_number_func),lower_func)"
      ],
      "metadata": {
        "id": "AaZqvejeswPL"
      },
      "execution_count": null,
      "outputs": []
    },
    {
      "cell_type": "markdown",
      "source": [
        "#Fake/Real News Detection Based on News Body\n",
        "#Splitting Data into Train and Test Datasets"
      ],
      "metadata": {
        "id": "4O3TphlNoZlj"
      }
    },
    {
      "cell_type": "code",
      "source": [
        "X3=dfresult['text']\n",
        "y3=dfresult['type']"
      ],
      "metadata": {
        "id": "-bep4xh5oZDI"
      },
      "execution_count": null,
      "outputs": []
    },
    {
      "cell_type": "code",
      "source": [
        "X3_train, X3_test, y3_train, y3_test = train_test_split(X3, y3, test_size=0.3, random_state=42)"
      ],
      "metadata": {
        "id": "Ir6ZM4xSo6Ee"
      },
      "execution_count": null,
      "outputs": []
    },
    {
      "cell_type": "code",
      "source": [
        "pp=Pipeline([\n",
        "    ('bow',CountVectorizer(analyzer=final)),\n",
        "    ('tfidf',TfidfTransformer()),\n",
        "    ('classifier',RandomForestClassifier())\n",
        "    ])"
      ],
      "metadata": {
        "id": "NomyrAxSo8QJ"
      },
      "execution_count": null,
      "outputs": []
    },
    {
      "cell_type": "code",
      "source": [
        "pp.fit(X3_train,y3_train)"
      ],
      "metadata": {
        "colab": {
          "base_uri": "https://localhost:8080/",
          "height": 164
        },
        "id": "MQPwjkAapREg",
        "outputId": "331d8247-f4e6-42a7-f213-1001d54a6f2f"
      },
      "execution_count": null,
      "outputs": [
        {
          "output_type": "execute_result",
          "data": {
            "text/plain": [
              "Pipeline(steps=[('bow',\n",
              "                 CountVectorizer(analyzer=<function compose.<locals>.<lambda> at 0x7f063e8c85e0>)),\n",
              "                ('tfidf', TfidfTransformer()),\n",
              "                ('classifier', RandomForestClassifier())])"
            ],
            "text/html": [
              "<style>#sk-container-id-2 {color: black;background-color: white;}#sk-container-id-2 pre{padding: 0;}#sk-container-id-2 div.sk-toggleable {background-color: white;}#sk-container-id-2 label.sk-toggleable__label {cursor: pointer;display: block;width: 100%;margin-bottom: 0;padding: 0.3em;box-sizing: border-box;text-align: center;}#sk-container-id-2 label.sk-toggleable__label-arrow:before {content: \"▸\";float: left;margin-right: 0.25em;color: #696969;}#sk-container-id-2 label.sk-toggleable__label-arrow:hover:before {color: black;}#sk-container-id-2 div.sk-estimator:hover label.sk-toggleable__label-arrow:before {color: black;}#sk-container-id-2 div.sk-toggleable__content {max-height: 0;max-width: 0;overflow: hidden;text-align: left;background-color: #f0f8ff;}#sk-container-id-2 div.sk-toggleable__content pre {margin: 0.2em;color: black;border-radius: 0.25em;background-color: #f0f8ff;}#sk-container-id-2 input.sk-toggleable__control:checked~div.sk-toggleable__content {max-height: 200px;max-width: 100%;overflow: auto;}#sk-container-id-2 input.sk-toggleable__control:checked~label.sk-toggleable__label-arrow:before {content: \"▾\";}#sk-container-id-2 div.sk-estimator input.sk-toggleable__control:checked~label.sk-toggleable__label {background-color: #d4ebff;}#sk-container-id-2 div.sk-label input.sk-toggleable__control:checked~label.sk-toggleable__label {background-color: #d4ebff;}#sk-container-id-2 input.sk-hidden--visually {border: 0;clip: rect(1px 1px 1px 1px);clip: rect(1px, 1px, 1px, 1px);height: 1px;margin: -1px;overflow: hidden;padding: 0;position: absolute;width: 1px;}#sk-container-id-2 div.sk-estimator {font-family: monospace;background-color: #f0f8ff;border: 1px dotted black;border-radius: 0.25em;box-sizing: border-box;margin-bottom: 0.5em;}#sk-container-id-2 div.sk-estimator:hover {background-color: #d4ebff;}#sk-container-id-2 div.sk-parallel-item::after {content: \"\";width: 100%;border-bottom: 1px solid gray;flex-grow: 1;}#sk-container-id-2 div.sk-label:hover label.sk-toggleable__label {background-color: #d4ebff;}#sk-container-id-2 div.sk-serial::before {content: \"\";position: absolute;border-left: 1px solid gray;box-sizing: border-box;top: 0;bottom: 0;left: 50%;z-index: 0;}#sk-container-id-2 div.sk-serial {display: flex;flex-direction: column;align-items: center;background-color: white;padding-right: 0.2em;padding-left: 0.2em;position: relative;}#sk-container-id-2 div.sk-item {position: relative;z-index: 1;}#sk-container-id-2 div.sk-parallel {display: flex;align-items: stretch;justify-content: center;background-color: white;position: relative;}#sk-container-id-2 div.sk-item::before, #sk-container-id-2 div.sk-parallel-item::before {content: \"\";position: absolute;border-left: 1px solid gray;box-sizing: border-box;top: 0;bottom: 0;left: 50%;z-index: -1;}#sk-container-id-2 div.sk-parallel-item {display: flex;flex-direction: column;z-index: 1;position: relative;background-color: white;}#sk-container-id-2 div.sk-parallel-item:first-child::after {align-self: flex-end;width: 50%;}#sk-container-id-2 div.sk-parallel-item:last-child::after {align-self: flex-start;width: 50%;}#sk-container-id-2 div.sk-parallel-item:only-child::after {width: 0;}#sk-container-id-2 div.sk-dashed-wrapped {border: 1px dashed gray;margin: 0 0.4em 0.5em 0.4em;box-sizing: border-box;padding-bottom: 0.4em;background-color: white;}#sk-container-id-2 div.sk-label label {font-family: monospace;font-weight: bold;display: inline-block;line-height: 1.2em;}#sk-container-id-2 div.sk-label-container {text-align: center;}#sk-container-id-2 div.sk-container {/* jupyter's `normalize.less` sets `[hidden] { display: none; }` but bootstrap.min.css set `[hidden] { display: none !important; }` so we also need the `!important` here to be able to override the default hidden behavior on the sphinx rendered scikit-learn.org. See: https://github.com/scikit-learn/scikit-learn/issues/21755 */display: inline-block !important;position: relative;}#sk-container-id-2 div.sk-text-repr-fallback {display: none;}</style><div id=\"sk-container-id-2\" class=\"sk-top-container\"><div class=\"sk-text-repr-fallback\"><pre>Pipeline(steps=[(&#x27;bow&#x27;,\n",
              "                 CountVectorizer(analyzer=&lt;function compose.&lt;locals&gt;.&lt;lambda&gt; at 0x7f063e8c85e0&gt;)),\n",
              "                (&#x27;tfidf&#x27;, TfidfTransformer()),\n",
              "                (&#x27;classifier&#x27;, RandomForestClassifier())])</pre><b>In a Jupyter environment, please rerun this cell to show the HTML representation or trust the notebook. <br />On GitHub, the HTML representation is unable to render, please try loading this page with nbviewer.org.</b></div><div class=\"sk-container\" hidden><div class=\"sk-item sk-dashed-wrapped\"><div class=\"sk-label-container\"><div class=\"sk-label sk-toggleable\"><input class=\"sk-toggleable__control sk-hidden--visually\" id=\"sk-estimator-id-5\" type=\"checkbox\" ><label for=\"sk-estimator-id-5\" class=\"sk-toggleable__label sk-toggleable__label-arrow\">Pipeline</label><div class=\"sk-toggleable__content\"><pre>Pipeline(steps=[(&#x27;bow&#x27;,\n",
              "                 CountVectorizer(analyzer=&lt;function compose.&lt;locals&gt;.&lt;lambda&gt; at 0x7f063e8c85e0&gt;)),\n",
              "                (&#x27;tfidf&#x27;, TfidfTransformer()),\n",
              "                (&#x27;classifier&#x27;, RandomForestClassifier())])</pre></div></div></div><div class=\"sk-serial\"><div class=\"sk-item\"><div class=\"sk-estimator sk-toggleable\"><input class=\"sk-toggleable__control sk-hidden--visually\" id=\"sk-estimator-id-6\" type=\"checkbox\" ><label for=\"sk-estimator-id-6\" class=\"sk-toggleable__label sk-toggleable__label-arrow\">CountVectorizer</label><div class=\"sk-toggleable__content\"><pre>CountVectorizer(analyzer=&lt;function compose.&lt;locals&gt;.&lt;lambda&gt; at 0x7f063e8c85e0&gt;)</pre></div></div></div><div class=\"sk-item\"><div class=\"sk-estimator sk-toggleable\"><input class=\"sk-toggleable__control sk-hidden--visually\" id=\"sk-estimator-id-7\" type=\"checkbox\" ><label for=\"sk-estimator-id-7\" class=\"sk-toggleable__label sk-toggleable__label-arrow\">TfidfTransformer</label><div class=\"sk-toggleable__content\"><pre>TfidfTransformer()</pre></div></div></div><div class=\"sk-item\"><div class=\"sk-estimator sk-toggleable\"><input class=\"sk-toggleable__control sk-hidden--visually\" id=\"sk-estimator-id-8\" type=\"checkbox\" ><label for=\"sk-estimator-id-8\" class=\"sk-toggleable__label sk-toggleable__label-arrow\">RandomForestClassifier</label><div class=\"sk-toggleable__content\"><pre>RandomForestClassifier()</pre></div></div></div></div></div></div></div>"
            ]
          },
          "metadata": {},
          "execution_count": 66
        }
      ]
    },
    {
      "cell_type": "code",
      "source": [
        "predictions1=pp.predict(X1_test)"
      ],
      "metadata": {
        "id": "ImYEZCaZo-bL"
      },
      "execution_count": null,
      "outputs": []
    },
    {
      "cell_type": "code",
      "source": [
        "print(confusion_matrix(y1_test, predictions1))\n",
        "print('\\n')\n",
        "print(classification_report(y1_test, predictions1))"
      ],
      "metadata": {
        "colab": {
          "base_uri": "https://localhost:8080/"
        },
        "id": "5ii-gnchFMEU",
        "outputId": "5a331ecc-760f-4153-9662-8c77841e0620"
      },
      "execution_count": null,
      "outputs": [
        {
          "output_type": "stream",
          "name": "stdout",
          "text": [
            "[[ 0  0 21  5]\n",
            " [ 0  0 19 10]\n",
            " [ 0  0  0  0]\n",
            " [ 0  0  0  0]]\n",
            "\n",
            "\n",
            "              precision    recall  f1-score   support\n",
            "\n",
            "        Fake       0.00      0.00      0.00      26.0\n",
            "        Real       0.00      0.00      0.00      29.0\n",
            "        fake       0.00      0.00      0.00       0.0\n",
            "        real       0.00      0.00      0.00       0.0\n",
            "\n",
            "    accuracy                           0.00      55.0\n",
            "   macro avg       0.00      0.00      0.00      55.0\n",
            "weighted avg       0.00      0.00      0.00      55.0\n",
            "\n"
          ]
        },
        {
          "output_type": "stream",
          "name": "stderr",
          "text": [
            "/usr/local/lib/python3.10/dist-packages/sklearn/metrics/_classification.py:1344: UndefinedMetricWarning: Precision and F-score are ill-defined and being set to 0.0 in labels with no predicted samples. Use `zero_division` parameter to control this behavior.\n",
            "  _warn_prf(average, modifier, msg_start, len(result))\n",
            "/usr/local/lib/python3.10/dist-packages/sklearn/metrics/_classification.py:1344: UndefinedMetricWarning: Recall and F-score are ill-defined and being set to 0.0 in labels with no true samples. Use `zero_division` parameter to control this behavior.\n",
            "  _warn_prf(average, modifier, msg_start, len(result))\n",
            "/usr/local/lib/python3.10/dist-packages/sklearn/metrics/_classification.py:1344: UndefinedMetricWarning: Precision and F-score are ill-defined and being set to 0.0 in labels with no predicted samples. Use `zero_division` parameter to control this behavior.\n",
            "  _warn_prf(average, modifier, msg_start, len(result))\n",
            "/usr/local/lib/python3.10/dist-packages/sklearn/metrics/_classification.py:1344: UndefinedMetricWarning: Recall and F-score are ill-defined and being set to 0.0 in labels with no true samples. Use `zero_division` parameter to control this behavior.\n",
            "  _warn_prf(average, modifier, msg_start, len(result))\n",
            "/usr/local/lib/python3.10/dist-packages/sklearn/metrics/_classification.py:1344: UndefinedMetricWarning: Precision and F-score are ill-defined and being set to 0.0 in labels with no predicted samples. Use `zero_division` parameter to control this behavior.\n",
            "  _warn_prf(average, modifier, msg_start, len(result))\n",
            "/usr/local/lib/python3.10/dist-packages/sklearn/metrics/_classification.py:1344: UndefinedMetricWarning: Recall and F-score are ill-defined and being set to 0.0 in labels with no true samples. Use `zero_division` parameter to control this behavior.\n",
            "  _warn_prf(average, modifier, msg_start, len(result))\n"
          ]
        }
      ]
    },
    {
      "cell_type": "markdown",
      "source": [
        "#implementation of Kaggle dataset"
      ],
      "metadata": {
        "id": "CstvyDwUrV4u"
      }
    },
    {
      "cell_type": "code",
      "source": [],
      "metadata": {
        "id": "LQGpUjrsHTl7"
      },
      "execution_count": null,
      "outputs": []
    },
    {
      "cell_type": "code",
      "source": [
        "Df_Kaggle_fake= pd.read_csv(\"/content/drive/My Drive/Colab Notebooks/Fake_dataset/Existing Dataset/Kaggle_fake1.csv\",encoding= 'unicode_escape')\n",
        "Df_Kaggle_real=pd.read_csv(\"/content/drive/My Drive/Colab Notebooks/Fake_dataset/Existing Dataset/Kaggle_real1.csv\",encoding= 'unicode_escape')"
      ],
      "metadata": {
        "id": "m0XIWv6RGuKd"
      },
      "execution_count": null,
      "outputs": []
    },
    {
      "cell_type": "code",
      "source": [
        "df6=pd.concat([Df_Kaggle_fake,Df_Kaggle_real],axis=0)\n",
        "df6.shape"
      ],
      "metadata": {
        "colab": {
          "base_uri": "https://localhost:8080/"
        },
        "id": "TtvmQ28EG-5K",
        "outputId": "fa135bbb-06a8-4f0d-d54e-9b4b943e19eb"
      },
      "execution_count": null,
      "outputs": [
        {
          "output_type": "execute_result",
          "data": {
            "text/plain": [
              "(11085, 5)"
            ]
          },
          "metadata": {},
          "execution_count": 70
        }
      ]
    },
    {
      "cell_type": "markdown",
      "source": [
        "#Data Cleaning and Feature Engineering"
      ],
      "metadata": {
        "id": "qrVeOKD1IQME"
      }
    },
    {
      "cell_type": "code",
      "source": [
        "dfresult6 = df6.dropna()"
      ],
      "metadata": {
        "id": "BJbHVkRuIX2d"
      },
      "execution_count": null,
      "outputs": []
    },
    {
      "cell_type": "code",
      "source": [
        "dfresult6"
      ],
      "metadata": {
        "colab": {
          "base_uri": "https://localhost:8080/",
          "height": 424
        },
        "id": "61u0dt8eIZyI",
        "outputId": "0903ae30-5921-41a2-80b8-301bf6ceb971"
      },
      "execution_count": null,
      "outputs": [
        {
          "output_type": "execute_result",
          "data": {
            "text/plain": [
              "                                                  title  \\\n",
              "0      Donald Trump Sends Out Embarrassing New Yearâ...   \n",
              "1      Drunk Bragging Trump Staffer Started Russian ...   \n",
              "2      Sheriff David Clarke Becomes An Internet Joke...   \n",
              "3      Trump Is So Obsessed He Even Has Obamaâs Na...   \n",
              "4      Pope Francis Just Called Out Donald Trump Dur...   \n",
              "...                                                 ...   \n",
              "1995  Trump rescinds Obama limits on transfer of mil...   \n",
              "1996  Lawmakers should OK relief for Harvey victims:...   \n",
              "1997  Energy Secretary Perry cancels Kazakhstan visi...   \n",
              "1998  Trump's firm sought Moscow real estate deal du...   \n",
              "1999  Trump renews threat to scrap NAFTA going into ...   \n",
              "\n",
              "                                                   text       subject  \\\n",
              "0     Donald Trump just couldn t wish all Americans ...          News   \n",
              "1     House Intelligence Committee Chairman Devin Nu...          News   \n",
              "2     On Friday, it was revealed that former Milwauk...          News   \n",
              "3     On Christmas day, Donald Trump announced that ...          News   \n",
              "4     Pope Francis used his annual Christmas Day mes...          News   \n",
              "...                                                 ...           ...   \n",
              "1995  WASHINGTON (Reuters) - U.S. President Donald T...  politicsNews   \n",
              "1996  WASHINGTON (Reuters) - U.S. House of Represent...  politicsNews   \n",
              "1997  ALMATY (Reuters) - United States Energy Secret...  politicsNews   \n",
              "1998  WASHINGTON (Reuters) - Donald Trumpâs compan...  politicsNews   \n",
              "1999  WASHINGTON (Reuters) - U.S. President Donald T...  politicsNews   \n",
              "\n",
              "                   date  type  \n",
              "0     December 31, 2017  fake  \n",
              "1     December 31, 2017  fake  \n",
              "2     December 30, 2017  fake  \n",
              "3     December 29, 2017  fake  \n",
              "4     December 25, 2017  fake  \n",
              "...                 ...   ...  \n",
              "1995   August 28, 2017   real  \n",
              "1996   August 28, 2017   real  \n",
              "1997   August 28, 2017   real  \n",
              "1998   August 28, 2017   real  \n",
              "1999   August 27, 2017   real  \n",
              "\n",
              "[3999 rows x 5 columns]"
            ],
            "text/html": [
              "\n",
              "  <div id=\"df-3d85f8b0-8979-4360-b7b6-72e9db54de89\" class=\"colab-df-container\">\n",
              "    <div>\n",
              "<style scoped>\n",
              "    .dataframe tbody tr th:only-of-type {\n",
              "        vertical-align: middle;\n",
              "    }\n",
              "\n",
              "    .dataframe tbody tr th {\n",
              "        vertical-align: top;\n",
              "    }\n",
              "\n",
              "    .dataframe thead th {\n",
              "        text-align: right;\n",
              "    }\n",
              "</style>\n",
              "<table border=\"1\" class=\"dataframe\">\n",
              "  <thead>\n",
              "    <tr style=\"text-align: right;\">\n",
              "      <th></th>\n",
              "      <th>title</th>\n",
              "      <th>text</th>\n",
              "      <th>subject</th>\n",
              "      <th>date</th>\n",
              "      <th>type</th>\n",
              "    </tr>\n",
              "  </thead>\n",
              "  <tbody>\n",
              "    <tr>\n",
              "      <th>0</th>\n",
              "      <td>Donald Trump Sends Out Embarrassing New Yearâ...</td>\n",
              "      <td>Donald Trump just couldn t wish all Americans ...</td>\n",
              "      <td>News</td>\n",
              "      <td>December 31, 2017</td>\n",
              "      <td>fake</td>\n",
              "    </tr>\n",
              "    <tr>\n",
              "      <th>1</th>\n",
              "      <td>Drunk Bragging Trump Staffer Started Russian ...</td>\n",
              "      <td>House Intelligence Committee Chairman Devin Nu...</td>\n",
              "      <td>News</td>\n",
              "      <td>December 31, 2017</td>\n",
              "      <td>fake</td>\n",
              "    </tr>\n",
              "    <tr>\n",
              "      <th>2</th>\n",
              "      <td>Sheriff David Clarke Becomes An Internet Joke...</td>\n",
              "      <td>On Friday, it was revealed that former Milwauk...</td>\n",
              "      <td>News</td>\n",
              "      <td>December 30, 2017</td>\n",
              "      <td>fake</td>\n",
              "    </tr>\n",
              "    <tr>\n",
              "      <th>3</th>\n",
              "      <td>Trump Is So Obsessed He Even Has Obamaâs Na...</td>\n",
              "      <td>On Christmas day, Donald Trump announced that ...</td>\n",
              "      <td>News</td>\n",
              "      <td>December 29, 2017</td>\n",
              "      <td>fake</td>\n",
              "    </tr>\n",
              "    <tr>\n",
              "      <th>4</th>\n",
              "      <td>Pope Francis Just Called Out Donald Trump Dur...</td>\n",
              "      <td>Pope Francis used his annual Christmas Day mes...</td>\n",
              "      <td>News</td>\n",
              "      <td>December 25, 2017</td>\n",
              "      <td>fake</td>\n",
              "    </tr>\n",
              "    <tr>\n",
              "      <th>...</th>\n",
              "      <td>...</td>\n",
              "      <td>...</td>\n",
              "      <td>...</td>\n",
              "      <td>...</td>\n",
              "      <td>...</td>\n",
              "    </tr>\n",
              "    <tr>\n",
              "      <th>1995</th>\n",
              "      <td>Trump rescinds Obama limits on transfer of mil...</td>\n",
              "      <td>WASHINGTON (Reuters) - U.S. President Donald T...</td>\n",
              "      <td>politicsNews</td>\n",
              "      <td>August 28, 2017</td>\n",
              "      <td>real</td>\n",
              "    </tr>\n",
              "    <tr>\n",
              "      <th>1996</th>\n",
              "      <td>Lawmakers should OK relief for Harvey victims:...</td>\n",
              "      <td>WASHINGTON (Reuters) - U.S. House of Represent...</td>\n",
              "      <td>politicsNews</td>\n",
              "      <td>August 28, 2017</td>\n",
              "      <td>real</td>\n",
              "    </tr>\n",
              "    <tr>\n",
              "      <th>1997</th>\n",
              "      <td>Energy Secretary Perry cancels Kazakhstan visi...</td>\n",
              "      <td>ALMATY (Reuters) - United States Energy Secret...</td>\n",
              "      <td>politicsNews</td>\n",
              "      <td>August 28, 2017</td>\n",
              "      <td>real</td>\n",
              "    </tr>\n",
              "    <tr>\n",
              "      <th>1998</th>\n",
              "      <td>Trump's firm sought Moscow real estate deal du...</td>\n",
              "      <td>WASHINGTON (Reuters) - Donald Trumpâs compan...</td>\n",
              "      <td>politicsNews</td>\n",
              "      <td>August 28, 2017</td>\n",
              "      <td>real</td>\n",
              "    </tr>\n",
              "    <tr>\n",
              "      <th>1999</th>\n",
              "      <td>Trump renews threat to scrap NAFTA going into ...</td>\n",
              "      <td>WASHINGTON (Reuters) - U.S. President Donald T...</td>\n",
              "      <td>politicsNews</td>\n",
              "      <td>August 27, 2017</td>\n",
              "      <td>real</td>\n",
              "    </tr>\n",
              "  </tbody>\n",
              "</table>\n",
              "<p>3999 rows × 5 columns</p>\n",
              "</div>\n",
              "    <div class=\"colab-df-buttons\">\n",
              "\n",
              "  <div class=\"colab-df-container\">\n",
              "    <button class=\"colab-df-convert\" onclick=\"convertToInteractive('df-3d85f8b0-8979-4360-b7b6-72e9db54de89')\"\n",
              "            title=\"Convert this dataframe to an interactive table.\"\n",
              "            style=\"display:none;\">\n",
              "\n",
              "  <svg xmlns=\"http://www.w3.org/2000/svg\" height=\"24px\" viewBox=\"0 -960 960 960\">\n",
              "    <path d=\"M120-120v-720h720v720H120Zm60-500h600v-160H180v160Zm220 220h160v-160H400v160Zm0 220h160v-160H400v160ZM180-400h160v-160H180v160Zm440 0h160v-160H620v160ZM180-180h160v-160H180v160Zm440 0h160v-160H620v160Z\"/>\n",
              "  </svg>\n",
              "    </button>\n",
              "\n",
              "  <style>\n",
              "    .colab-df-container {\n",
              "      display:flex;\n",
              "      gap: 12px;\n",
              "    }\n",
              "\n",
              "    .colab-df-convert {\n",
              "      background-color: #E8F0FE;\n",
              "      border: none;\n",
              "      border-radius: 50%;\n",
              "      cursor: pointer;\n",
              "      display: none;\n",
              "      fill: #1967D2;\n",
              "      height: 32px;\n",
              "      padding: 0 0 0 0;\n",
              "      width: 32px;\n",
              "    }\n",
              "\n",
              "    .colab-df-convert:hover {\n",
              "      background-color: #E2EBFA;\n",
              "      box-shadow: 0px 1px 2px rgba(60, 64, 67, 0.3), 0px 1px 3px 1px rgba(60, 64, 67, 0.15);\n",
              "      fill: #174EA6;\n",
              "    }\n",
              "\n",
              "    .colab-df-buttons div {\n",
              "      margin-bottom: 4px;\n",
              "    }\n",
              "\n",
              "    [theme=dark] .colab-df-convert {\n",
              "      background-color: #3B4455;\n",
              "      fill: #D2E3FC;\n",
              "    }\n",
              "\n",
              "    [theme=dark] .colab-df-convert:hover {\n",
              "      background-color: #434B5C;\n",
              "      box-shadow: 0px 1px 3px 1px rgba(0, 0, 0, 0.15);\n",
              "      filter: drop-shadow(0px 1px 2px rgba(0, 0, 0, 0.3));\n",
              "      fill: #FFFFFF;\n",
              "    }\n",
              "  </style>\n",
              "\n",
              "    <script>\n",
              "      const buttonEl =\n",
              "        document.querySelector('#df-3d85f8b0-8979-4360-b7b6-72e9db54de89 button.colab-df-convert');\n",
              "      buttonEl.style.display =\n",
              "        google.colab.kernel.accessAllowed ? 'block' : 'none';\n",
              "\n",
              "      async function convertToInteractive(key) {\n",
              "        const element = document.querySelector('#df-3d85f8b0-8979-4360-b7b6-72e9db54de89');\n",
              "        const dataTable =\n",
              "          await google.colab.kernel.invokeFunction('convertToInteractive',\n",
              "                                                    [key], {});\n",
              "        if (!dataTable) return;\n",
              "\n",
              "        const docLinkHtml = 'Like what you see? Visit the ' +\n",
              "          '<a target=\"_blank\" href=https://colab.research.google.com/notebooks/data_table.ipynb>data table notebook</a>'\n",
              "          + ' to learn more about interactive tables.';\n",
              "        element.innerHTML = '';\n",
              "        dataTable['output_type'] = 'display_data';\n",
              "        await google.colab.output.renderOutput(dataTable, element);\n",
              "        const docLink = document.createElement('div');\n",
              "        docLink.innerHTML = docLinkHtml;\n",
              "        element.appendChild(docLink);\n",
              "      }\n",
              "    </script>\n",
              "  </div>\n",
              "\n",
              "\n",
              "<div id=\"df-26b4c53f-a23b-4246-912e-a59e2fc8d8d6\">\n",
              "  <button class=\"colab-df-quickchart\" onclick=\"quickchart('df-26b4c53f-a23b-4246-912e-a59e2fc8d8d6')\"\n",
              "            title=\"Suggest charts\"\n",
              "            style=\"display:none;\">\n",
              "\n",
              "<svg xmlns=\"http://www.w3.org/2000/svg\" height=\"24px\"viewBox=\"0 0 24 24\"\n",
              "     width=\"24px\">\n",
              "    <g>\n",
              "        <path d=\"M19 3H5c-1.1 0-2 .9-2 2v14c0 1.1.9 2 2 2h14c1.1 0 2-.9 2-2V5c0-1.1-.9-2-2-2zM9 17H7v-7h2v7zm4 0h-2V7h2v10zm4 0h-2v-4h2v4z\"/>\n",
              "    </g>\n",
              "</svg>\n",
              "  </button>\n",
              "\n",
              "<style>\n",
              "  .colab-df-quickchart {\n",
              "      --bg-color: #E8F0FE;\n",
              "      --fill-color: #1967D2;\n",
              "      --hover-bg-color: #E2EBFA;\n",
              "      --hover-fill-color: #174EA6;\n",
              "      --disabled-fill-color: #AAA;\n",
              "      --disabled-bg-color: #DDD;\n",
              "  }\n",
              "\n",
              "  [theme=dark] .colab-df-quickchart {\n",
              "      --bg-color: #3B4455;\n",
              "      --fill-color: #D2E3FC;\n",
              "      --hover-bg-color: #434B5C;\n",
              "      --hover-fill-color: #FFFFFF;\n",
              "      --disabled-bg-color: #3B4455;\n",
              "      --disabled-fill-color: #666;\n",
              "  }\n",
              "\n",
              "  .colab-df-quickchart {\n",
              "    background-color: var(--bg-color);\n",
              "    border: none;\n",
              "    border-radius: 50%;\n",
              "    cursor: pointer;\n",
              "    display: none;\n",
              "    fill: var(--fill-color);\n",
              "    height: 32px;\n",
              "    padding: 0;\n",
              "    width: 32px;\n",
              "  }\n",
              "\n",
              "  .colab-df-quickchart:hover {\n",
              "    background-color: var(--hover-bg-color);\n",
              "    box-shadow: 0 1px 2px rgba(60, 64, 67, 0.3), 0 1px 3px 1px rgba(60, 64, 67, 0.15);\n",
              "    fill: var(--button-hover-fill-color);\n",
              "  }\n",
              "\n",
              "  .colab-df-quickchart-complete:disabled,\n",
              "  .colab-df-quickchart-complete:disabled:hover {\n",
              "    background-color: var(--disabled-bg-color);\n",
              "    fill: var(--disabled-fill-color);\n",
              "    box-shadow: none;\n",
              "  }\n",
              "\n",
              "  .colab-df-spinner {\n",
              "    border: 2px solid var(--fill-color);\n",
              "    border-color: transparent;\n",
              "    border-bottom-color: var(--fill-color);\n",
              "    animation:\n",
              "      spin 1s steps(1) infinite;\n",
              "  }\n",
              "\n",
              "  @keyframes spin {\n",
              "    0% {\n",
              "      border-color: transparent;\n",
              "      border-bottom-color: var(--fill-color);\n",
              "      border-left-color: var(--fill-color);\n",
              "    }\n",
              "    20% {\n",
              "      border-color: transparent;\n",
              "      border-left-color: var(--fill-color);\n",
              "      border-top-color: var(--fill-color);\n",
              "    }\n",
              "    30% {\n",
              "      border-color: transparent;\n",
              "      border-left-color: var(--fill-color);\n",
              "      border-top-color: var(--fill-color);\n",
              "      border-right-color: var(--fill-color);\n",
              "    }\n",
              "    40% {\n",
              "      border-color: transparent;\n",
              "      border-right-color: var(--fill-color);\n",
              "      border-top-color: var(--fill-color);\n",
              "    }\n",
              "    60% {\n",
              "      border-color: transparent;\n",
              "      border-right-color: var(--fill-color);\n",
              "    }\n",
              "    80% {\n",
              "      border-color: transparent;\n",
              "      border-right-color: var(--fill-color);\n",
              "      border-bottom-color: var(--fill-color);\n",
              "    }\n",
              "    90% {\n",
              "      border-color: transparent;\n",
              "      border-bottom-color: var(--fill-color);\n",
              "    }\n",
              "  }\n",
              "</style>\n",
              "\n",
              "  <script>\n",
              "    async function quickchart(key) {\n",
              "      const quickchartButtonEl =\n",
              "        document.querySelector('#' + key + ' button');\n",
              "      quickchartButtonEl.disabled = true;  // To prevent multiple clicks.\n",
              "      quickchartButtonEl.classList.add('colab-df-spinner');\n",
              "      try {\n",
              "        const charts = await google.colab.kernel.invokeFunction(\n",
              "            'suggestCharts', [key], {});\n",
              "      } catch (error) {\n",
              "        console.error('Error during call to suggestCharts:', error);\n",
              "      }\n",
              "      quickchartButtonEl.classList.remove('colab-df-spinner');\n",
              "      quickchartButtonEl.classList.add('colab-df-quickchart-complete');\n",
              "    }\n",
              "    (() => {\n",
              "      let quickchartButtonEl =\n",
              "        document.querySelector('#df-26b4c53f-a23b-4246-912e-a59e2fc8d8d6 button');\n",
              "      quickchartButtonEl.style.display =\n",
              "        google.colab.kernel.accessAllowed ? 'block' : 'none';\n",
              "    })();\n",
              "  </script>\n",
              "</div>\n",
              "\n",
              "  <div id=\"id_d6f7d841-b10f-4a43-b2f7-5bfec52d23d0\">\n",
              "    <style>\n",
              "      .colab-df-generate {\n",
              "        background-color: #E8F0FE;\n",
              "        border: none;\n",
              "        border-radius: 50%;\n",
              "        cursor: pointer;\n",
              "        display: none;\n",
              "        fill: #1967D2;\n",
              "        height: 32px;\n",
              "        padding: 0 0 0 0;\n",
              "        width: 32px;\n",
              "      }\n",
              "\n",
              "      .colab-df-generate:hover {\n",
              "        background-color: #E2EBFA;\n",
              "        box-shadow: 0px 1px 2px rgba(60, 64, 67, 0.3), 0px 1px 3px 1px rgba(60, 64, 67, 0.15);\n",
              "        fill: #174EA6;\n",
              "      }\n",
              "\n",
              "      [theme=dark] .colab-df-generate {\n",
              "        background-color: #3B4455;\n",
              "        fill: #D2E3FC;\n",
              "      }\n",
              "\n",
              "      [theme=dark] .colab-df-generate:hover {\n",
              "        background-color: #434B5C;\n",
              "        box-shadow: 0px 1px 3px 1px rgba(0, 0, 0, 0.15);\n",
              "        filter: drop-shadow(0px 1px 2px rgba(0, 0, 0, 0.3));\n",
              "        fill: #FFFFFF;\n",
              "      }\n",
              "    </style>\n",
              "    <button class=\"colab-df-generate\" onclick=\"generateWithVariable('dfresult6')\"\n",
              "            title=\"Generate code using this dataframe.\"\n",
              "            style=\"display:none;\">\n",
              "\n",
              "  <svg xmlns=\"http://www.w3.org/2000/svg\" height=\"24px\"viewBox=\"0 0 24 24\"\n",
              "       width=\"24px\">\n",
              "    <path d=\"M7,19H8.4L18.45,9,17,7.55,7,17.6ZM5,21V16.75L18.45,3.32a2,2,0,0,1,2.83,0l1.4,1.43a1.91,1.91,0,0,1,.58,1.4,1.91,1.91,0,0,1-.58,1.4L9.25,21ZM18.45,9,17,7.55Zm-12,3A5.31,5.31,0,0,0,4.9,8.1,5.31,5.31,0,0,0,1,6.5,5.31,5.31,0,0,0,4.9,4.9,5.31,5.31,0,0,0,6.5,1,5.31,5.31,0,0,0,8.1,4.9,5.31,5.31,0,0,0,12,6.5,5.46,5.46,0,0,0,6.5,12Z\"/>\n",
              "  </svg>\n",
              "    </button>\n",
              "    <script>\n",
              "      (() => {\n",
              "      const buttonEl =\n",
              "        document.querySelector('#id_d6f7d841-b10f-4a43-b2f7-5bfec52d23d0 button.colab-df-generate');\n",
              "      buttonEl.style.display =\n",
              "        google.colab.kernel.accessAllowed ? 'block' : 'none';\n",
              "\n",
              "      buttonEl.onclick = () => {\n",
              "        google.colab.notebook.generateWithVariable('dfresult6');\n",
              "      }\n",
              "      })();\n",
              "    </script>\n",
              "  </div>\n",
              "\n",
              "    </div>\n",
              "  </div>\n"
            ],
            "application/vnd.google.colaboratory.intrinsic+json": {
              "type": "dataframe",
              "variable_name": "dfresult6",
              "summary": "{\n  \"name\": \"dfresult6\",\n  \"rows\": 3999,\n  \"fields\": [\n    {\n      \"column\": \"title\",\n      \"properties\": {\n        \"dtype\": \"string\",\n        \"num_unique_values\": 3986,\n        \"samples\": [\n          \" This Poll Shows EXACTLY How Much Americans Detest Trump\",\n          \"House panel chair introduces $81 billion disaster aid bill\",\n          \" Trump Incriminates Himself: I Decided To Fire Comey; Demanded He Give Me Details On My Investigation\"\n        ],\n        \"semantic_type\": \"\",\n        \"description\": \"\"\n      }\n    },\n    {\n      \"column\": \"text\",\n      \"properties\": {\n        \"dtype\": \"string\",\n        \"num_unique_values\": 3986,\n        \"samples\": [\n          \"Donald Trump may have been cozying up to Russia during his presidential campaign and the beginning of his presidency, but it looks like the relationship is turning sour thanks to his reckless decision to attack Syria, one of Russia s allies.Russia openly condemned the attack, and even threatened to retaliate against the United States thanks to Trump. However, White House Press Secretary must have not gotten the memo, because he called Russia one of America s allies in reference to Syria during his press briefing on Monday.Not only is that statement false (especially after this Syria fiasco) but Spicer greatly contradicted many people in the Trump administration, and even Trump himself. It s obvious that Russia is a hostile power   not an ally   but Spicer still said that America would work with allies, including Russia, in committing to ensuring that there are places that are free from violence You can watch Spicer make a fool of himself below:To be fair, Trump s administration does seem to be awfully confused about how it feels about Russia. One one hand, Trump has showed Russian leader Vladimir Putin with praise, yet at times insists that he doesn t know Putin at all. Nikki Haley, our United Nations ambassador, has said Russia cannot be trusted. After the attack in Syria, Secretary of State Rex Tillerson insulted Russia and said the country was complicit or incompetent. New National Security Advisor H. R. McMaster considers Russia an adversary.If only the Trump administration could actually send a unified, coherent message  but in an administration this incompetent, chaotic, and corrupt, we shouldn t expect too much. Spicer s reference to Russia as  allies  is embarrassing to the Trump administration, as its own Press Secretary seems clueless about how things are actually unfolding after Trump s disastrous attack on Syria, and the true definition of an ally.Featured image via Chip Somodevilla / Getty Images\",\n          \"WASHINGTON (Reuters) - Republicans in the U.S. House of Representatives unveiled on Monday an $81 billion aid package to deal with hurricanes and wildfires, far above President Donald Trump\\u00e2\\u0080\\u0099s $44 billion request. The legislation would help Puerto Rico and several states recover from devastating hurricanes and California and other Western states cope with wildfires. It was unclear whether the latest natural-disaster aid plan would be rushed through the Republican-controlled Congress this week, before the start of a Christmas recess, or await congressional votes early next year. The bill, introduced by House Appropriations Committee Chairman Rodney Frelinghuysen, includes $27.6 billion for the Federal Emergency Management Agency and $26.1 billion for community development block grants.  \\u00e2\\u0080\\u009cWe have a commitment to our fellow citizens that are in the midst of major rebuilding efforts in all areas, including Texas, Florida, California, Louisiana, Puerto Rico, and the U.S. Virgin Islands,\\u00e2\\u0080\\u009d Frelinghuysen, a New Jersey Republican, said in a statement.     Earlier this year, Congress approved two disaster aid packages totaling about $52 billion. Trump\\u00e2\\u0080\\u0099s $44 billion request submitted in mid-November was widely criticized by lawmakers as being insufficient. About a third of Puerto Rico\\u00e2\\u0080\\u0099s residents are still without power and hundreds remain in shelters three months after Hurricane Maria devastated the island. In California, wildfires have burned more than 1 million acres (400,000 hectares) and destroyed thousands of homes. \",\n          \"In what may go down in history as one of the greatest fatal mistakes any president has ever made, Trump decided to sit down with NBC s Lester Holt and spill the beans on his decision to fire FBI Director James Comey mid-way through the FBI s investigation into Trump s collusion with Russia. Even casual observers of the law know that when you stand accused of crimes, in this case going all the way up to possible treason, the best thing to do is shut up and get a lawyer. Instead Trump just gave an unhinged confession of sorts that will be broadcast worldwide.The clip that everyone will be talking about came when Holt turned to Trump s decision to fire Comey and the reasons behind it. A visibly angry Trump managed to debunk his own administration s lies about the circumstances behind the dismissal and instead incriminated himself.By White House versions, Trump decided to fire Comey after he was given that recommendation by the Deputy Attorney General and after realizing Comey had lost the respect of the American people and those working within the FBI. By Trump s telling, he had already made up his mind to fire Comey long before any recommendation passed his desk and even went further: I was going to fire Comey. My decision. It was not A stunned Holt interrupt him to clarify:  You had made decision before they had come into the room? Trump, not realizing he may as well have been confessing to a bank robbery, nonchalantly responds in the affirmative:  I was going to fire Comey. There s no good time to do it, by the way. That s huge, because Trump is admitting his personal grudge against Comey led directly to the FBI Director s dismissal. His hand wasn t forced. He just didn t like Comey or what he was looking into.But Trump, oblivious to all of this, marched on and stumbled into an even greater admission of guilt: He also claimed to have directly asked the FBI director for details about his investigation. That s a HUGE no-no. In one case I called him In one case he called me  I actually asked him. I said,  If it s possible, will you let me know am I under investigation?' According to Trump, Comey assured him he wasn t. (Comey, in fact, has testified under oath that Trump and his campaign are under investigation meaning Trump is lying or Comey is. Which is more likely?) But in either case, what Trump is confessing to is a major ethical and perhaps even legal violation. Demanding an FBI investigator provide you   the person he s investigating   with up-to-date details on how the case is proceeding presents all sorts of problems.BREAKING: I was going to fire Comey anyway, Pres. Trump tells @LesterHoltNBC in exclusive interview at White House https://t.co/MAmo1PE1RL  NBC Nightly News (@NBCNightlyNews) May 11, 2017Ultimately, it may have been the fact that Comey wouldn t give Trump the details on his investigation that led to his dismissal. Sources close to Trump say the White House was furious when Comey refused to unethically hand over his planned remarks before his congressional hearing in the days before his firing.If this were a game of Clue, Trump just confessed to being in the billiard room with the candlestick. On national television.Featured image via Twitter\"\n        ],\n        \"semantic_type\": \"\",\n        \"description\": \"\"\n      }\n    },\n    {\n      \"column\": \"subject\",\n      \"properties\": {\n        \"dtype\": \"category\",\n        \"num_unique_values\": 2,\n        \"samples\": [\n          \"politicsNews\",\n          \"News\"\n        ],\n        \"semantic_type\": \"\",\n        \"description\": \"\"\n      }\n    },\n    {\n      \"column\": \"date\",\n      \"properties\": {\n        \"dtype\": \"category\",\n        \"num_unique_values\": 400,\n        \"samples\": [\n          \"May 28, 2017\",\n          \"December 24, 2017 \"\n        ],\n        \"semantic_type\": \"\",\n        \"description\": \"\"\n      }\n    },\n    {\n      \"column\": \"type\",\n      \"properties\": {\n        \"dtype\": \"category\",\n        \"num_unique_values\": 2,\n        \"samples\": [\n          \"real\",\n          \"fake\"\n        ],\n        \"semantic_type\": \"\",\n        \"description\": \"\"\n      }\n    }\n  ]\n}"
            }
          },
          "metadata": {},
          "execution_count": 72
        }
      ]
    },
    {
      "cell_type": "code",
      "source": [
        "ps=PorterStemmer()\n",
        "wst= WhitespaceTokenizer()\n",
        "\n",
        "##### 1. Converting text to lower case\n",
        "def lower_func (x):\n",
        "    return x.lower()\n",
        "\n",
        "\n",
        "##### 2. Removing Numbers from the text corpus\n",
        "def remove_number_func (x):\n",
        "    new=\"\"\n",
        "    for a in x:\n",
        "        if a.isdigit()==False:\n",
        "            new=new+a\n",
        "    return new\n",
        "\n",
        "\n",
        "##### 3. Removing punctuation\n",
        "def remove_punc_func(x):\n",
        "    new=''\n",
        "    for a in x:\n",
        "        if a not in string.punctuation:\n",
        "            new=new+a\n",
        "    return new\n",
        "\n",
        "##### 4. Removing special characters\n",
        "def remove_spec_char_func(x):\n",
        "    new=''\n",
        "    for a in x:\n",
        "        if (a.isalnum()==True) or (a==' '):\n",
        "            new=new+a\n",
        "    return(new)\n",
        "\n",
        "##### 5. Removing english stopwords\n",
        "def remove_stopwords(x):\n",
        "    new=[]\n",
        "    for a in x.split():\n",
        "        if a not in stopwords.words('english'):\n",
        "            new.append(a)\n",
        "    return \" \".join(new)\n",
        "\n",
        "##### 6. Stemming words to root words\n",
        "def stem_func(x):\n",
        "    wordlist = word_tokenize(x)\n",
        "    psstem = [ps.stem(a) for a in wordlist]\n",
        "    return ' '.join(psstem)\n",
        "\n",
        "##### 7. Removing extra whitespaces\n",
        "def remove_whitespace_func(x):\n",
        "    return(wst.tokenize(x))\n",
        "\n",
        "def compose(f, g):\n",
        "    return lambda x: f(g(x))\n",
        "\n",
        "final=compose(compose(compose(compose(compose(compose(remove_whitespace_func,stem_func),remove_stopwords),remove_spec_char_func),remove_punc_func),remove_number_func),lower_func)"
      ],
      "metadata": {
        "id": "jJLEa4vxIiqL"
      },
      "execution_count": null,
      "outputs": []
    },
    {
      "cell_type": "markdown",
      "source": [
        "#Fake/Real News Detection Based on News Body\n",
        "#Splitting Data into Train and Test Datasets"
      ],
      "metadata": {
        "id": "S8qV1rAkIqO_"
      }
    },
    {
      "cell_type": "code",
      "source": [
        "X6=dfresult6['text']\n",
        "y6=dfresult6['type']"
      ],
      "metadata": {
        "id": "qEAKk2WqIpp4"
      },
      "execution_count": null,
      "outputs": []
    },
    {
      "cell_type": "code",
      "source": [
        "X6_train, X6_test, y6_train, y6_test = train_test_split(X6, y6, test_size=0.3, random_state=42)"
      ],
      "metadata": {
        "id": "leAHVbZZIzsx"
      },
      "execution_count": null,
      "outputs": []
    },
    {
      "cell_type": "code",
      "source": [
        "pp=Pipeline([\n",
        "    ('bow',CountVectorizer(analyzer=final)),\n",
        "    ('tfidf',TfidfTransformer()),\n",
        "    ('classifier',RandomForestClassifier())\n",
        "    ])"
      ],
      "metadata": {
        "id": "h5mOE2fKI5uT"
      },
      "execution_count": null,
      "outputs": []
    },
    {
      "cell_type": "code",
      "source": [
        "pp.fit(X6_train,y6_train)"
      ],
      "metadata": {
        "colab": {
          "base_uri": "https://localhost:8080/",
          "height": 164
        },
        "id": "k3sf3d5PJCs9",
        "outputId": "94979a46-4974-41b6-efd7-085414ee57a0"
      },
      "execution_count": null,
      "outputs": [
        {
          "output_type": "execute_result",
          "data": {
            "text/plain": [
              "Pipeline(steps=[('bow',\n",
              "                 CountVectorizer(analyzer=<function compose.<locals>.<lambda> at 0x7f063a586290>)),\n",
              "                ('tfidf', TfidfTransformer()),\n",
              "                ('classifier', RandomForestClassifier())])"
            ],
            "text/html": [
              "<style>#sk-container-id-3 {color: black;background-color: white;}#sk-container-id-3 pre{padding: 0;}#sk-container-id-3 div.sk-toggleable {background-color: white;}#sk-container-id-3 label.sk-toggleable__label {cursor: pointer;display: block;width: 100%;margin-bottom: 0;padding: 0.3em;box-sizing: border-box;text-align: center;}#sk-container-id-3 label.sk-toggleable__label-arrow:before {content: \"▸\";float: left;margin-right: 0.25em;color: #696969;}#sk-container-id-3 label.sk-toggleable__label-arrow:hover:before {color: black;}#sk-container-id-3 div.sk-estimator:hover label.sk-toggleable__label-arrow:before {color: black;}#sk-container-id-3 div.sk-toggleable__content {max-height: 0;max-width: 0;overflow: hidden;text-align: left;background-color: #f0f8ff;}#sk-container-id-3 div.sk-toggleable__content pre {margin: 0.2em;color: black;border-radius: 0.25em;background-color: #f0f8ff;}#sk-container-id-3 input.sk-toggleable__control:checked~div.sk-toggleable__content {max-height: 200px;max-width: 100%;overflow: auto;}#sk-container-id-3 input.sk-toggleable__control:checked~label.sk-toggleable__label-arrow:before {content: \"▾\";}#sk-container-id-3 div.sk-estimator input.sk-toggleable__control:checked~label.sk-toggleable__label {background-color: #d4ebff;}#sk-container-id-3 div.sk-label input.sk-toggleable__control:checked~label.sk-toggleable__label {background-color: #d4ebff;}#sk-container-id-3 input.sk-hidden--visually {border: 0;clip: rect(1px 1px 1px 1px);clip: rect(1px, 1px, 1px, 1px);height: 1px;margin: -1px;overflow: hidden;padding: 0;position: absolute;width: 1px;}#sk-container-id-3 div.sk-estimator {font-family: monospace;background-color: #f0f8ff;border: 1px dotted black;border-radius: 0.25em;box-sizing: border-box;margin-bottom: 0.5em;}#sk-container-id-3 div.sk-estimator:hover {background-color: #d4ebff;}#sk-container-id-3 div.sk-parallel-item::after {content: \"\";width: 100%;border-bottom: 1px solid gray;flex-grow: 1;}#sk-container-id-3 div.sk-label:hover label.sk-toggleable__label {background-color: #d4ebff;}#sk-container-id-3 div.sk-serial::before {content: \"\";position: absolute;border-left: 1px solid gray;box-sizing: border-box;top: 0;bottom: 0;left: 50%;z-index: 0;}#sk-container-id-3 div.sk-serial {display: flex;flex-direction: column;align-items: center;background-color: white;padding-right: 0.2em;padding-left: 0.2em;position: relative;}#sk-container-id-3 div.sk-item {position: relative;z-index: 1;}#sk-container-id-3 div.sk-parallel {display: flex;align-items: stretch;justify-content: center;background-color: white;position: relative;}#sk-container-id-3 div.sk-item::before, #sk-container-id-3 div.sk-parallel-item::before {content: \"\";position: absolute;border-left: 1px solid gray;box-sizing: border-box;top: 0;bottom: 0;left: 50%;z-index: -1;}#sk-container-id-3 div.sk-parallel-item {display: flex;flex-direction: column;z-index: 1;position: relative;background-color: white;}#sk-container-id-3 div.sk-parallel-item:first-child::after {align-self: flex-end;width: 50%;}#sk-container-id-3 div.sk-parallel-item:last-child::after {align-self: flex-start;width: 50%;}#sk-container-id-3 div.sk-parallel-item:only-child::after {width: 0;}#sk-container-id-3 div.sk-dashed-wrapped {border: 1px dashed gray;margin: 0 0.4em 0.5em 0.4em;box-sizing: border-box;padding-bottom: 0.4em;background-color: white;}#sk-container-id-3 div.sk-label label {font-family: monospace;font-weight: bold;display: inline-block;line-height: 1.2em;}#sk-container-id-3 div.sk-label-container {text-align: center;}#sk-container-id-3 div.sk-container {/* jupyter's `normalize.less` sets `[hidden] { display: none; }` but bootstrap.min.css set `[hidden] { display: none !important; }` so we also need the `!important` here to be able to override the default hidden behavior on the sphinx rendered scikit-learn.org. See: https://github.com/scikit-learn/scikit-learn/issues/21755 */display: inline-block !important;position: relative;}#sk-container-id-3 div.sk-text-repr-fallback {display: none;}</style><div id=\"sk-container-id-3\" class=\"sk-top-container\"><div class=\"sk-text-repr-fallback\"><pre>Pipeline(steps=[(&#x27;bow&#x27;,\n",
              "                 CountVectorizer(analyzer=&lt;function compose.&lt;locals&gt;.&lt;lambda&gt; at 0x7f063a586290&gt;)),\n",
              "                (&#x27;tfidf&#x27;, TfidfTransformer()),\n",
              "                (&#x27;classifier&#x27;, RandomForestClassifier())])</pre><b>In a Jupyter environment, please rerun this cell to show the HTML representation or trust the notebook. <br />On GitHub, the HTML representation is unable to render, please try loading this page with nbviewer.org.</b></div><div class=\"sk-container\" hidden><div class=\"sk-item sk-dashed-wrapped\"><div class=\"sk-label-container\"><div class=\"sk-label sk-toggleable\"><input class=\"sk-toggleable__control sk-hidden--visually\" id=\"sk-estimator-id-9\" type=\"checkbox\" ><label for=\"sk-estimator-id-9\" class=\"sk-toggleable__label sk-toggleable__label-arrow\">Pipeline</label><div class=\"sk-toggleable__content\"><pre>Pipeline(steps=[(&#x27;bow&#x27;,\n",
              "                 CountVectorizer(analyzer=&lt;function compose.&lt;locals&gt;.&lt;lambda&gt; at 0x7f063a586290&gt;)),\n",
              "                (&#x27;tfidf&#x27;, TfidfTransformer()),\n",
              "                (&#x27;classifier&#x27;, RandomForestClassifier())])</pre></div></div></div><div class=\"sk-serial\"><div class=\"sk-item\"><div class=\"sk-estimator sk-toggleable\"><input class=\"sk-toggleable__control sk-hidden--visually\" id=\"sk-estimator-id-10\" type=\"checkbox\" ><label for=\"sk-estimator-id-10\" class=\"sk-toggleable__label sk-toggleable__label-arrow\">CountVectorizer</label><div class=\"sk-toggleable__content\"><pre>CountVectorizer(analyzer=&lt;function compose.&lt;locals&gt;.&lt;lambda&gt; at 0x7f063a586290&gt;)</pre></div></div></div><div class=\"sk-item\"><div class=\"sk-estimator sk-toggleable\"><input class=\"sk-toggleable__control sk-hidden--visually\" id=\"sk-estimator-id-11\" type=\"checkbox\" ><label for=\"sk-estimator-id-11\" class=\"sk-toggleable__label sk-toggleable__label-arrow\">TfidfTransformer</label><div class=\"sk-toggleable__content\"><pre>TfidfTransformer()</pre></div></div></div><div class=\"sk-item\"><div class=\"sk-estimator sk-toggleable\"><input class=\"sk-toggleable__control sk-hidden--visually\" id=\"sk-estimator-id-12\" type=\"checkbox\" ><label for=\"sk-estimator-id-12\" class=\"sk-toggleable__label sk-toggleable__label-arrow\">RandomForestClassifier</label><div class=\"sk-toggleable__content\"><pre>RandomForestClassifier()</pre></div></div></div></div></div></div></div>"
            ]
          },
          "metadata": {},
          "execution_count": 77
        }
      ]
    },
    {
      "cell_type": "code",
      "source": [
        "predictions6=pp.predict(X6_test)"
      ],
      "metadata": {
        "id": "xs8Xx5hbJGII"
      },
      "execution_count": null,
      "outputs": []
    },
    {
      "cell_type": "code",
      "source": [
        "print(confusion_matrix(y6_test, predictions6))\n",
        "print('\\n')\n",
        "print(classification_report(y6_test, predictions6))"
      ],
      "metadata": {
        "colab": {
          "base_uri": "https://localhost:8080/"
        },
        "id": "Np_qtJMiJIy4",
        "outputId": "b554aca1-4dd4-4270-c37c-f89f6d74b70b"
      },
      "execution_count": null,
      "outputs": [
        {
          "output_type": "stream",
          "name": "stdout",
          "text": [
            "[[617   0]\n",
            " [  1 582]]\n",
            "\n",
            "\n",
            "              precision    recall  f1-score   support\n",
            "\n",
            "        fake       1.00      1.00      1.00       617\n",
            "        real       1.00      1.00      1.00       583\n",
            "\n",
            "    accuracy                           1.00      1200\n",
            "   macro avg       1.00      1.00      1.00      1200\n",
            "weighted avg       1.00      1.00      1.00      1200\n",
            "\n"
          ]
        }
      ]
    },
    {
      "cell_type": "code",
      "source": [],
      "metadata": {
        "id": "BAGLRawSJJuu"
      },
      "execution_count": null,
      "outputs": []
    },
    {
      "cell_type": "markdown",
      "source": [
        "#implementation of Politifact dataset"
      ],
      "metadata": {
        "id": "TPIznqmVJOhI"
      }
    },
    {
      "cell_type": "code",
      "source": [
        "Df_politifact_fake= pd.read_csv(\"/content/drive/My Drive/Colab Notebooks/Fake_dataset/Existing Dataset/politifact_fake1.csv\",encoding= 'unicode_escape')\n",
        "Df_politifact_real=pd.read_csv(\"/content/drive/My Drive/Colab Notebooks/Fake_dataset/Existing Dataset/politifact_real1.csv\",encoding= 'unicode_escape')"
      ],
      "metadata": {
        "id": "PzFe4hfAJXbe"
      },
      "execution_count": null,
      "outputs": []
    },
    {
      "cell_type": "code",
      "source": [
        "df5=pd.concat([Df_politifact_fake,Df_politifact_real],axis=0)\n",
        "df5.shape"
      ],
      "metadata": {
        "colab": {
          "base_uri": "https://localhost:8080/"
        },
        "id": "ZiGg2sO2O_lO",
        "outputId": "97143b69-6ba5-42b8-a656-67ae6268f9f6"
      },
      "execution_count": null,
      "outputs": [
        {
          "output_type": "execute_result",
          "data": {
            "text/plain": [
              "(3998, 3)"
            ]
          },
          "metadata": {},
          "execution_count": 81
        }
      ]
    },
    {
      "cell_type": "code",
      "source": [
        "df5.isnull().sum()"
      ],
      "metadata": {
        "colab": {
          "base_uri": "https://localhost:8080/"
        },
        "id": "Ty4sxyXyPN2Q",
        "outputId": "d2204680-8e59-4ba3-b6d0-7d48fa3b68ac"
      },
      "execution_count": null,
      "outputs": [
        {
          "output_type": "execute_result",
          "data": {
            "text/plain": [
              "id       0\n",
              "title    0\n",
              "type     0\n",
              "dtype: int64"
            ]
          },
          "metadata": {},
          "execution_count": 82
        }
      ]
    },
    {
      "cell_type": "markdown",
      "source": [
        "#Data Cleaning and Feature Engineering"
      ],
      "metadata": {
        "id": "i9hPKIevPihu"
      }
    },
    {
      "cell_type": "code",
      "source": [
        "dfresult5 = df5.dropna()"
      ],
      "metadata": {
        "id": "63wy23QzPf5q"
      },
      "execution_count": null,
      "outputs": []
    },
    {
      "cell_type": "code",
      "source": [
        "dfresult5"
      ],
      "metadata": {
        "colab": {
          "base_uri": "https://localhost:8080/",
          "height": 424
        },
        "id": "MAeXjgeCQMDY",
        "outputId": "d07c2049-3975-4f3c-d962-d3f88eec1a25"
      },
      "execution_count": null,
      "outputs": [
        {
          "output_type": "execute_result",
          "data": {
            "text/plain": [
              "                   id                                              title  type\n",
              "0     politifact15014  BREAKING: First NFL Team Declares Bankruptcy O...  fake\n",
              "1     politifact15156  Court Orders Obama To Pay $400 Million In Rest...  fake\n",
              "2     politifact14745  UPDATE: Second Roy Moore Accuser Works For Mic...  fake\n",
              "3     politifact14355         Oscar Pistorius Attempts To Commit Suicide  fake\n",
              "4     politifact15371        Trump Votes For Death Penalty For Being Gay  fake\n",
              "...               ...                                                ...   ...\n",
              "1994   politifact4588  Rick Perry says he switched to GOP at a younge...  real\n",
              "1995    politifact134  Hillary Rodham Clinton, Senator for New York: ...  real\n",
              "1996  politifact11627  Senator Bernie Sanders on Democratic Socialism...  real\n",
              "1997  politifact12052  The CNN Miami Republican debate transcript, an...  real\n",
              "1998   politifact8838  Barack Obama says U.S. oil production last yea...  real\n",
              "\n",
              "[3998 rows x 3 columns]"
            ],
            "text/html": [
              "\n",
              "  <div id=\"df-f4c80c59-7792-4a51-815f-f4b8134fd976\" class=\"colab-df-container\">\n",
              "    <div>\n",
              "<style scoped>\n",
              "    .dataframe tbody tr th:only-of-type {\n",
              "        vertical-align: middle;\n",
              "    }\n",
              "\n",
              "    .dataframe tbody tr th {\n",
              "        vertical-align: top;\n",
              "    }\n",
              "\n",
              "    .dataframe thead th {\n",
              "        text-align: right;\n",
              "    }\n",
              "</style>\n",
              "<table border=\"1\" class=\"dataframe\">\n",
              "  <thead>\n",
              "    <tr style=\"text-align: right;\">\n",
              "      <th></th>\n",
              "      <th>id</th>\n",
              "      <th>title</th>\n",
              "      <th>type</th>\n",
              "    </tr>\n",
              "  </thead>\n",
              "  <tbody>\n",
              "    <tr>\n",
              "      <th>0</th>\n",
              "      <td>politifact15014</td>\n",
              "      <td>BREAKING: First NFL Team Declares Bankruptcy O...</td>\n",
              "      <td>fake</td>\n",
              "    </tr>\n",
              "    <tr>\n",
              "      <th>1</th>\n",
              "      <td>politifact15156</td>\n",
              "      <td>Court Orders Obama To Pay $400 Million In Rest...</td>\n",
              "      <td>fake</td>\n",
              "    </tr>\n",
              "    <tr>\n",
              "      <th>2</th>\n",
              "      <td>politifact14745</td>\n",
              "      <td>UPDATE: Second Roy Moore Accuser Works For Mic...</td>\n",
              "      <td>fake</td>\n",
              "    </tr>\n",
              "    <tr>\n",
              "      <th>3</th>\n",
              "      <td>politifact14355</td>\n",
              "      <td>Oscar Pistorius Attempts To Commit Suicide</td>\n",
              "      <td>fake</td>\n",
              "    </tr>\n",
              "    <tr>\n",
              "      <th>4</th>\n",
              "      <td>politifact15371</td>\n",
              "      <td>Trump Votes For Death Penalty For Being Gay</td>\n",
              "      <td>fake</td>\n",
              "    </tr>\n",
              "    <tr>\n",
              "      <th>...</th>\n",
              "      <td>...</td>\n",
              "      <td>...</td>\n",
              "      <td>...</td>\n",
              "    </tr>\n",
              "    <tr>\n",
              "      <th>1994</th>\n",
              "      <td>politifact4588</td>\n",
              "      <td>Rick Perry says he switched to GOP at a younge...</td>\n",
              "      <td>real</td>\n",
              "    </tr>\n",
              "    <tr>\n",
              "      <th>1995</th>\n",
              "      <td>politifact134</td>\n",
              "      <td>Hillary Rodham Clinton, Senator for New York: ...</td>\n",
              "      <td>real</td>\n",
              "    </tr>\n",
              "    <tr>\n",
              "      <th>1996</th>\n",
              "      <td>politifact11627</td>\n",
              "      <td>Senator Bernie Sanders on Democratic Socialism...</td>\n",
              "      <td>real</td>\n",
              "    </tr>\n",
              "    <tr>\n",
              "      <th>1997</th>\n",
              "      <td>politifact12052</td>\n",
              "      <td>The CNN Miami Republican debate transcript, an...</td>\n",
              "      <td>real</td>\n",
              "    </tr>\n",
              "    <tr>\n",
              "      <th>1998</th>\n",
              "      <td>politifact8838</td>\n",
              "      <td>Barack Obama says U.S. oil production last yea...</td>\n",
              "      <td>real</td>\n",
              "    </tr>\n",
              "  </tbody>\n",
              "</table>\n",
              "<p>3998 rows × 3 columns</p>\n",
              "</div>\n",
              "    <div class=\"colab-df-buttons\">\n",
              "\n",
              "  <div class=\"colab-df-container\">\n",
              "    <button class=\"colab-df-convert\" onclick=\"convertToInteractive('df-f4c80c59-7792-4a51-815f-f4b8134fd976')\"\n",
              "            title=\"Convert this dataframe to an interactive table.\"\n",
              "            style=\"display:none;\">\n",
              "\n",
              "  <svg xmlns=\"http://www.w3.org/2000/svg\" height=\"24px\" viewBox=\"0 -960 960 960\">\n",
              "    <path d=\"M120-120v-720h720v720H120Zm60-500h600v-160H180v160Zm220 220h160v-160H400v160Zm0 220h160v-160H400v160ZM180-400h160v-160H180v160Zm440 0h160v-160H620v160ZM180-180h160v-160H180v160Zm440 0h160v-160H620v160Z\"/>\n",
              "  </svg>\n",
              "    </button>\n",
              "\n",
              "  <style>\n",
              "    .colab-df-container {\n",
              "      display:flex;\n",
              "      gap: 12px;\n",
              "    }\n",
              "\n",
              "    .colab-df-convert {\n",
              "      background-color: #E8F0FE;\n",
              "      border: none;\n",
              "      border-radius: 50%;\n",
              "      cursor: pointer;\n",
              "      display: none;\n",
              "      fill: #1967D2;\n",
              "      height: 32px;\n",
              "      padding: 0 0 0 0;\n",
              "      width: 32px;\n",
              "    }\n",
              "\n",
              "    .colab-df-convert:hover {\n",
              "      background-color: #E2EBFA;\n",
              "      box-shadow: 0px 1px 2px rgba(60, 64, 67, 0.3), 0px 1px 3px 1px rgba(60, 64, 67, 0.15);\n",
              "      fill: #174EA6;\n",
              "    }\n",
              "\n",
              "    .colab-df-buttons div {\n",
              "      margin-bottom: 4px;\n",
              "    }\n",
              "\n",
              "    [theme=dark] .colab-df-convert {\n",
              "      background-color: #3B4455;\n",
              "      fill: #D2E3FC;\n",
              "    }\n",
              "\n",
              "    [theme=dark] .colab-df-convert:hover {\n",
              "      background-color: #434B5C;\n",
              "      box-shadow: 0px 1px 3px 1px rgba(0, 0, 0, 0.15);\n",
              "      filter: drop-shadow(0px 1px 2px rgba(0, 0, 0, 0.3));\n",
              "      fill: #FFFFFF;\n",
              "    }\n",
              "  </style>\n",
              "\n",
              "    <script>\n",
              "      const buttonEl =\n",
              "        document.querySelector('#df-f4c80c59-7792-4a51-815f-f4b8134fd976 button.colab-df-convert');\n",
              "      buttonEl.style.display =\n",
              "        google.colab.kernel.accessAllowed ? 'block' : 'none';\n",
              "\n",
              "      async function convertToInteractive(key) {\n",
              "        const element = document.querySelector('#df-f4c80c59-7792-4a51-815f-f4b8134fd976');\n",
              "        const dataTable =\n",
              "          await google.colab.kernel.invokeFunction('convertToInteractive',\n",
              "                                                    [key], {});\n",
              "        if (!dataTable) return;\n",
              "\n",
              "        const docLinkHtml = 'Like what you see? Visit the ' +\n",
              "          '<a target=\"_blank\" href=https://colab.research.google.com/notebooks/data_table.ipynb>data table notebook</a>'\n",
              "          + ' to learn more about interactive tables.';\n",
              "        element.innerHTML = '';\n",
              "        dataTable['output_type'] = 'display_data';\n",
              "        await google.colab.output.renderOutput(dataTable, element);\n",
              "        const docLink = document.createElement('div');\n",
              "        docLink.innerHTML = docLinkHtml;\n",
              "        element.appendChild(docLink);\n",
              "      }\n",
              "    </script>\n",
              "  </div>\n",
              "\n",
              "\n",
              "<div id=\"df-8804f34b-322a-4c4c-b469-df5d665a756f\">\n",
              "  <button class=\"colab-df-quickchart\" onclick=\"quickchart('df-8804f34b-322a-4c4c-b469-df5d665a756f')\"\n",
              "            title=\"Suggest charts\"\n",
              "            style=\"display:none;\">\n",
              "\n",
              "<svg xmlns=\"http://www.w3.org/2000/svg\" height=\"24px\"viewBox=\"0 0 24 24\"\n",
              "     width=\"24px\">\n",
              "    <g>\n",
              "        <path d=\"M19 3H5c-1.1 0-2 .9-2 2v14c0 1.1.9 2 2 2h14c1.1 0 2-.9 2-2V5c0-1.1-.9-2-2-2zM9 17H7v-7h2v7zm4 0h-2V7h2v10zm4 0h-2v-4h2v4z\"/>\n",
              "    </g>\n",
              "</svg>\n",
              "  </button>\n",
              "\n",
              "<style>\n",
              "  .colab-df-quickchart {\n",
              "      --bg-color: #E8F0FE;\n",
              "      --fill-color: #1967D2;\n",
              "      --hover-bg-color: #E2EBFA;\n",
              "      --hover-fill-color: #174EA6;\n",
              "      --disabled-fill-color: #AAA;\n",
              "      --disabled-bg-color: #DDD;\n",
              "  }\n",
              "\n",
              "  [theme=dark] .colab-df-quickchart {\n",
              "      --bg-color: #3B4455;\n",
              "      --fill-color: #D2E3FC;\n",
              "      --hover-bg-color: #434B5C;\n",
              "      --hover-fill-color: #FFFFFF;\n",
              "      --disabled-bg-color: #3B4455;\n",
              "      --disabled-fill-color: #666;\n",
              "  }\n",
              "\n",
              "  .colab-df-quickchart {\n",
              "    background-color: var(--bg-color);\n",
              "    border: none;\n",
              "    border-radius: 50%;\n",
              "    cursor: pointer;\n",
              "    display: none;\n",
              "    fill: var(--fill-color);\n",
              "    height: 32px;\n",
              "    padding: 0;\n",
              "    width: 32px;\n",
              "  }\n",
              "\n",
              "  .colab-df-quickchart:hover {\n",
              "    background-color: var(--hover-bg-color);\n",
              "    box-shadow: 0 1px 2px rgba(60, 64, 67, 0.3), 0 1px 3px 1px rgba(60, 64, 67, 0.15);\n",
              "    fill: var(--button-hover-fill-color);\n",
              "  }\n",
              "\n",
              "  .colab-df-quickchart-complete:disabled,\n",
              "  .colab-df-quickchart-complete:disabled:hover {\n",
              "    background-color: var(--disabled-bg-color);\n",
              "    fill: var(--disabled-fill-color);\n",
              "    box-shadow: none;\n",
              "  }\n",
              "\n",
              "  .colab-df-spinner {\n",
              "    border: 2px solid var(--fill-color);\n",
              "    border-color: transparent;\n",
              "    border-bottom-color: var(--fill-color);\n",
              "    animation:\n",
              "      spin 1s steps(1) infinite;\n",
              "  }\n",
              "\n",
              "  @keyframes spin {\n",
              "    0% {\n",
              "      border-color: transparent;\n",
              "      border-bottom-color: var(--fill-color);\n",
              "      border-left-color: var(--fill-color);\n",
              "    }\n",
              "    20% {\n",
              "      border-color: transparent;\n",
              "      border-left-color: var(--fill-color);\n",
              "      border-top-color: var(--fill-color);\n",
              "    }\n",
              "    30% {\n",
              "      border-color: transparent;\n",
              "      border-left-color: var(--fill-color);\n",
              "      border-top-color: var(--fill-color);\n",
              "      border-right-color: var(--fill-color);\n",
              "    }\n",
              "    40% {\n",
              "      border-color: transparent;\n",
              "      border-right-color: var(--fill-color);\n",
              "      border-top-color: var(--fill-color);\n",
              "    }\n",
              "    60% {\n",
              "      border-color: transparent;\n",
              "      border-right-color: var(--fill-color);\n",
              "    }\n",
              "    80% {\n",
              "      border-color: transparent;\n",
              "      border-right-color: var(--fill-color);\n",
              "      border-bottom-color: var(--fill-color);\n",
              "    }\n",
              "    90% {\n",
              "      border-color: transparent;\n",
              "      border-bottom-color: var(--fill-color);\n",
              "    }\n",
              "  }\n",
              "</style>\n",
              "\n",
              "  <script>\n",
              "    async function quickchart(key) {\n",
              "      const quickchartButtonEl =\n",
              "        document.querySelector('#' + key + ' button');\n",
              "      quickchartButtonEl.disabled = true;  // To prevent multiple clicks.\n",
              "      quickchartButtonEl.classList.add('colab-df-spinner');\n",
              "      try {\n",
              "        const charts = await google.colab.kernel.invokeFunction(\n",
              "            'suggestCharts', [key], {});\n",
              "      } catch (error) {\n",
              "        console.error('Error during call to suggestCharts:', error);\n",
              "      }\n",
              "      quickchartButtonEl.classList.remove('colab-df-spinner');\n",
              "      quickchartButtonEl.classList.add('colab-df-quickchart-complete');\n",
              "    }\n",
              "    (() => {\n",
              "      let quickchartButtonEl =\n",
              "        document.querySelector('#df-8804f34b-322a-4c4c-b469-df5d665a756f button');\n",
              "      quickchartButtonEl.style.display =\n",
              "        google.colab.kernel.accessAllowed ? 'block' : 'none';\n",
              "    })();\n",
              "  </script>\n",
              "</div>\n",
              "\n",
              "  <div id=\"id_22c7845e-8f89-4fd9-adc7-e3737b776eae\">\n",
              "    <style>\n",
              "      .colab-df-generate {\n",
              "        background-color: #E8F0FE;\n",
              "        border: none;\n",
              "        border-radius: 50%;\n",
              "        cursor: pointer;\n",
              "        display: none;\n",
              "        fill: #1967D2;\n",
              "        height: 32px;\n",
              "        padding: 0 0 0 0;\n",
              "        width: 32px;\n",
              "      }\n",
              "\n",
              "      .colab-df-generate:hover {\n",
              "        background-color: #E2EBFA;\n",
              "        box-shadow: 0px 1px 2px rgba(60, 64, 67, 0.3), 0px 1px 3px 1px rgba(60, 64, 67, 0.15);\n",
              "        fill: #174EA6;\n",
              "      }\n",
              "\n",
              "      [theme=dark] .colab-df-generate {\n",
              "        background-color: #3B4455;\n",
              "        fill: #D2E3FC;\n",
              "      }\n",
              "\n",
              "      [theme=dark] .colab-df-generate:hover {\n",
              "        background-color: #434B5C;\n",
              "        box-shadow: 0px 1px 3px 1px rgba(0, 0, 0, 0.15);\n",
              "        filter: drop-shadow(0px 1px 2px rgba(0, 0, 0, 0.3));\n",
              "        fill: #FFFFFF;\n",
              "      }\n",
              "    </style>\n",
              "    <button class=\"colab-df-generate\" onclick=\"generateWithVariable('dfresult5')\"\n",
              "            title=\"Generate code using this dataframe.\"\n",
              "            style=\"display:none;\">\n",
              "\n",
              "  <svg xmlns=\"http://www.w3.org/2000/svg\" height=\"24px\"viewBox=\"0 0 24 24\"\n",
              "       width=\"24px\">\n",
              "    <path d=\"M7,19H8.4L18.45,9,17,7.55,7,17.6ZM5,21V16.75L18.45,3.32a2,2,0,0,1,2.83,0l1.4,1.43a1.91,1.91,0,0,1,.58,1.4,1.91,1.91,0,0,1-.58,1.4L9.25,21ZM18.45,9,17,7.55Zm-12,3A5.31,5.31,0,0,0,4.9,8.1,5.31,5.31,0,0,0,1,6.5,5.31,5.31,0,0,0,4.9,4.9,5.31,5.31,0,0,0,6.5,1,5.31,5.31,0,0,0,8.1,4.9,5.31,5.31,0,0,0,12,6.5,5.46,5.46,0,0,0,6.5,12Z\"/>\n",
              "  </svg>\n",
              "    </button>\n",
              "    <script>\n",
              "      (() => {\n",
              "      const buttonEl =\n",
              "        document.querySelector('#id_22c7845e-8f89-4fd9-adc7-e3737b776eae button.colab-df-generate');\n",
              "      buttonEl.style.display =\n",
              "        google.colab.kernel.accessAllowed ? 'block' : 'none';\n",
              "\n",
              "      buttonEl.onclick = () => {\n",
              "        google.colab.notebook.generateWithVariable('dfresult5');\n",
              "      }\n",
              "      })();\n",
              "    </script>\n",
              "  </div>\n",
              "\n",
              "    </div>\n",
              "  </div>\n"
            ],
            "application/vnd.google.colaboratory.intrinsic+json": {
              "type": "dataframe",
              "variable_name": "dfresult5",
              "summary": "{\n  \"name\": \"dfresult5\",\n  \"rows\": 3998,\n  \"fields\": [\n    {\n      \"column\": \"id\",\n      \"properties\": {\n        \"dtype\": \"category\",\n        \"num_unique_values\": 1053,\n        \"samples\": [\n          \"politifact14789\",\n          \"politifact14769\",\n          \"politifact2393\"\n        ],\n        \"semantic_type\": \"\",\n        \"description\": \"\"\n      }\n    },\n    {\n      \"column\": \"title\",\n      \"properties\": {\n        \"dtype\": \"category\",\n        \"num_unique_values\": 982,\n        \"samples\": [\n          \"Supreme Court Vacancy Video\",\n          \"Remarks by the President on the Economy -- Knox College, Galesburg, IL\",\n          \"The Texas Unmiracle\"\n        ],\n        \"semantic_type\": \"\",\n        \"description\": \"\"\n      }\n    },\n    {\n      \"column\": \"type\",\n      \"properties\": {\n        \"dtype\": \"category\",\n        \"num_unique_values\": 2,\n        \"samples\": [\n          \"real\",\n          \"fake\"\n        ],\n        \"semantic_type\": \"\",\n        \"description\": \"\"\n      }\n    }\n  ]\n}"
            }
          },
          "metadata": {},
          "execution_count": 84
        }
      ]
    },
    {
      "cell_type": "code",
      "source": [],
      "metadata": {
        "id": "wKfqNBbhXoLu"
      },
      "execution_count": null,
      "outputs": []
    },
    {
      "cell_type": "code",
      "source": [
        "X5=dfresult5 ['title']\n",
        "y5=dfresult5 ['type']"
      ],
      "metadata": {
        "id": "YajK4ShlRRNC"
      },
      "execution_count": null,
      "outputs": []
    },
    {
      "cell_type": "code",
      "source": [
        "X5_train, X5_test, y5_train, y5_test = train_test_split(X5, y5, test_size=0.3, random_state=42)\n"
      ],
      "metadata": {
        "id": "cjRzXLtCQSu6"
      },
      "execution_count": null,
      "outputs": []
    },
    {
      "cell_type": "code",
      "source": [
        "pp=Pipeline([\n",
        "    ('bow',CountVectorizer(analyzer=final)),\n",
        "    ('tfidf',TfidfTransformer()),\n",
        "    ('classifier',RandomForestClassifier())\n",
        "    ])\n"
      ],
      "metadata": {
        "id": "3qc3qVd1X-eV"
      },
      "execution_count": null,
      "outputs": []
    },
    {
      "cell_type": "code",
      "source": [
        "pp.fit(X5_train,y5_train)\n"
      ],
      "metadata": {
        "colab": {
          "base_uri": "https://localhost:8080/",
          "height": 164
        },
        "id": "AgPev-lGYAC2",
        "outputId": "699d19d0-21ed-419d-c35e-5d974fdd6f2e"
      },
      "execution_count": null,
      "outputs": [
        {
          "output_type": "execute_result",
          "data": {
            "text/plain": [
              "Pipeline(steps=[('bow',\n",
              "                 CountVectorizer(analyzer=<function compose.<locals>.<lambda> at 0x7f063a586290>)),\n",
              "                ('tfidf', TfidfTransformer()),\n",
              "                ('classifier', RandomForestClassifier())])"
            ],
            "text/html": [
              "<style>#sk-container-id-4 {color: black;background-color: white;}#sk-container-id-4 pre{padding: 0;}#sk-container-id-4 div.sk-toggleable {background-color: white;}#sk-container-id-4 label.sk-toggleable__label {cursor: pointer;display: block;width: 100%;margin-bottom: 0;padding: 0.3em;box-sizing: border-box;text-align: center;}#sk-container-id-4 label.sk-toggleable__label-arrow:before {content: \"▸\";float: left;margin-right: 0.25em;color: #696969;}#sk-container-id-4 label.sk-toggleable__label-arrow:hover:before {color: black;}#sk-container-id-4 div.sk-estimator:hover label.sk-toggleable__label-arrow:before {color: black;}#sk-container-id-4 div.sk-toggleable__content {max-height: 0;max-width: 0;overflow: hidden;text-align: left;background-color: #f0f8ff;}#sk-container-id-4 div.sk-toggleable__content pre {margin: 0.2em;color: black;border-radius: 0.25em;background-color: #f0f8ff;}#sk-container-id-4 input.sk-toggleable__control:checked~div.sk-toggleable__content {max-height: 200px;max-width: 100%;overflow: auto;}#sk-container-id-4 input.sk-toggleable__control:checked~label.sk-toggleable__label-arrow:before {content: \"▾\";}#sk-container-id-4 div.sk-estimator input.sk-toggleable__control:checked~label.sk-toggleable__label {background-color: #d4ebff;}#sk-container-id-4 div.sk-label input.sk-toggleable__control:checked~label.sk-toggleable__label {background-color: #d4ebff;}#sk-container-id-4 input.sk-hidden--visually {border: 0;clip: rect(1px 1px 1px 1px);clip: rect(1px, 1px, 1px, 1px);height: 1px;margin: -1px;overflow: hidden;padding: 0;position: absolute;width: 1px;}#sk-container-id-4 div.sk-estimator {font-family: monospace;background-color: #f0f8ff;border: 1px dotted black;border-radius: 0.25em;box-sizing: border-box;margin-bottom: 0.5em;}#sk-container-id-4 div.sk-estimator:hover {background-color: #d4ebff;}#sk-container-id-4 div.sk-parallel-item::after {content: \"\";width: 100%;border-bottom: 1px solid gray;flex-grow: 1;}#sk-container-id-4 div.sk-label:hover label.sk-toggleable__label {background-color: #d4ebff;}#sk-container-id-4 div.sk-serial::before {content: \"\";position: absolute;border-left: 1px solid gray;box-sizing: border-box;top: 0;bottom: 0;left: 50%;z-index: 0;}#sk-container-id-4 div.sk-serial {display: flex;flex-direction: column;align-items: center;background-color: white;padding-right: 0.2em;padding-left: 0.2em;position: relative;}#sk-container-id-4 div.sk-item {position: relative;z-index: 1;}#sk-container-id-4 div.sk-parallel {display: flex;align-items: stretch;justify-content: center;background-color: white;position: relative;}#sk-container-id-4 div.sk-item::before, #sk-container-id-4 div.sk-parallel-item::before {content: \"\";position: absolute;border-left: 1px solid gray;box-sizing: border-box;top: 0;bottom: 0;left: 50%;z-index: -1;}#sk-container-id-4 div.sk-parallel-item {display: flex;flex-direction: column;z-index: 1;position: relative;background-color: white;}#sk-container-id-4 div.sk-parallel-item:first-child::after {align-self: flex-end;width: 50%;}#sk-container-id-4 div.sk-parallel-item:last-child::after {align-self: flex-start;width: 50%;}#sk-container-id-4 div.sk-parallel-item:only-child::after {width: 0;}#sk-container-id-4 div.sk-dashed-wrapped {border: 1px dashed gray;margin: 0 0.4em 0.5em 0.4em;box-sizing: border-box;padding-bottom: 0.4em;background-color: white;}#sk-container-id-4 div.sk-label label {font-family: monospace;font-weight: bold;display: inline-block;line-height: 1.2em;}#sk-container-id-4 div.sk-label-container {text-align: center;}#sk-container-id-4 div.sk-container {/* jupyter's `normalize.less` sets `[hidden] { display: none; }` but bootstrap.min.css set `[hidden] { display: none !important; }` so we also need the `!important` here to be able to override the default hidden behavior on the sphinx rendered scikit-learn.org. See: https://github.com/scikit-learn/scikit-learn/issues/21755 */display: inline-block !important;position: relative;}#sk-container-id-4 div.sk-text-repr-fallback {display: none;}</style><div id=\"sk-container-id-4\" class=\"sk-top-container\"><div class=\"sk-text-repr-fallback\"><pre>Pipeline(steps=[(&#x27;bow&#x27;,\n",
              "                 CountVectorizer(analyzer=&lt;function compose.&lt;locals&gt;.&lt;lambda&gt; at 0x7f063a586290&gt;)),\n",
              "                (&#x27;tfidf&#x27;, TfidfTransformer()),\n",
              "                (&#x27;classifier&#x27;, RandomForestClassifier())])</pre><b>In a Jupyter environment, please rerun this cell to show the HTML representation or trust the notebook. <br />On GitHub, the HTML representation is unable to render, please try loading this page with nbviewer.org.</b></div><div class=\"sk-container\" hidden><div class=\"sk-item sk-dashed-wrapped\"><div class=\"sk-label-container\"><div class=\"sk-label sk-toggleable\"><input class=\"sk-toggleable__control sk-hidden--visually\" id=\"sk-estimator-id-13\" type=\"checkbox\" ><label for=\"sk-estimator-id-13\" class=\"sk-toggleable__label sk-toggleable__label-arrow\">Pipeline</label><div class=\"sk-toggleable__content\"><pre>Pipeline(steps=[(&#x27;bow&#x27;,\n",
              "                 CountVectorizer(analyzer=&lt;function compose.&lt;locals&gt;.&lt;lambda&gt; at 0x7f063a586290&gt;)),\n",
              "                (&#x27;tfidf&#x27;, TfidfTransformer()),\n",
              "                (&#x27;classifier&#x27;, RandomForestClassifier())])</pre></div></div></div><div class=\"sk-serial\"><div class=\"sk-item\"><div class=\"sk-estimator sk-toggleable\"><input class=\"sk-toggleable__control sk-hidden--visually\" id=\"sk-estimator-id-14\" type=\"checkbox\" ><label for=\"sk-estimator-id-14\" class=\"sk-toggleable__label sk-toggleable__label-arrow\">CountVectorizer</label><div class=\"sk-toggleable__content\"><pre>CountVectorizer(analyzer=&lt;function compose.&lt;locals&gt;.&lt;lambda&gt; at 0x7f063a586290&gt;)</pre></div></div></div><div class=\"sk-item\"><div class=\"sk-estimator sk-toggleable\"><input class=\"sk-toggleable__control sk-hidden--visually\" id=\"sk-estimator-id-15\" type=\"checkbox\" ><label for=\"sk-estimator-id-15\" class=\"sk-toggleable__label sk-toggleable__label-arrow\">TfidfTransformer</label><div class=\"sk-toggleable__content\"><pre>TfidfTransformer()</pre></div></div></div><div class=\"sk-item\"><div class=\"sk-estimator sk-toggleable\"><input class=\"sk-toggleable__control sk-hidden--visually\" id=\"sk-estimator-id-16\" type=\"checkbox\" ><label for=\"sk-estimator-id-16\" class=\"sk-toggleable__label sk-toggleable__label-arrow\">RandomForestClassifier</label><div class=\"sk-toggleable__content\"><pre>RandomForestClassifier()</pre></div></div></div></div></div></div></div>"
            ]
          },
          "metadata": {},
          "execution_count": 88
        }
      ]
    },
    {
      "cell_type": "code",
      "source": [
        "predictions5=pp.predict(X5_test)"
      ],
      "metadata": {
        "id": "Q3XwzHx-YCet"
      },
      "execution_count": null,
      "outputs": []
    },
    {
      "cell_type": "code",
      "source": [
        "print(confusion_matrix(y5_test, predictions5))\n",
        "print('\\n')\n",
        "print(classification_report(y5_test, predictions5))\n"
      ],
      "metadata": {
        "colab": {
          "base_uri": "https://localhost:8080/"
        },
        "id": "vM5xK2qoQfGT",
        "outputId": "7730f5c5-8c47-4a78-fd15-2ff2547012aa"
      },
      "execution_count": null,
      "outputs": [
        {
          "output_type": "stream",
          "name": "stdout",
          "text": [
            "[[610   7]\n",
            " [  2 581]]\n",
            "\n",
            "\n",
            "              precision    recall  f1-score   support\n",
            "\n",
            "        fake       1.00      0.99      0.99       617\n",
            "        real       0.99      1.00      0.99       583\n",
            "\n",
            "    accuracy                           0.99      1200\n",
            "   macro avg       0.99      0.99      0.99      1200\n",
            "weighted avg       0.99      0.99      0.99      1200\n",
            "\n"
          ]
        }
      ]
    },
    {
      "cell_type": "code",
      "source": [
        "# results=pd.DataFrame({'Existing Dataset':['BuzzFeed','gossipcop','Isot','politifact','Kaggle'],\n",
        "#                     'Score':[80,99,49,76,87]})\n",
        "# result_df=results.sort_values(by='Accuracy Score', ascending=False)\n",
        "# result_df=result_df.set_index('Existing Dataset')\n",
        "# result_df\n",
        "\n",
        "results=pd.DataFrame({'Existing Dataset':['BuzzFeed','gossipcop','Isot','politifact','Kaggle'],\n",
        "                    'Accuracy Score':[80,99,49,99,87]})\n",
        "result_df=results.sort_values(by='Accuracy Score', ascending=False)\n",
        "result_df=result_df.set_index('Existing Dataset')\n",
        "result_df"
      ],
      "metadata": {
        "colab": {
          "base_uri": "https://localhost:8080/",
          "height": 238
        },
        "id": "ihdpNnZtciom",
        "outputId": "74d22b73-8cce-4e8d-91f6-3d3f440c7ed6"
      },
      "execution_count": null,
      "outputs": [
        {
          "output_type": "execute_result",
          "data": {
            "text/plain": [
              "                  Accuracy Score\n",
              "Existing Dataset                \n",
              "gossipcop                     99\n",
              "politifact                    99\n",
              "Kaggle                        87\n",
              "BuzzFeed                      80\n",
              "Isot                          49"
            ],
            "text/html": [
              "\n",
              "  <div id=\"df-8c5b5390-0486-49c5-8adf-429e7e800c02\" class=\"colab-df-container\">\n",
              "    <div>\n",
              "<style scoped>\n",
              "    .dataframe tbody tr th:only-of-type {\n",
              "        vertical-align: middle;\n",
              "    }\n",
              "\n",
              "    .dataframe tbody tr th {\n",
              "        vertical-align: top;\n",
              "    }\n",
              "\n",
              "    .dataframe thead th {\n",
              "        text-align: right;\n",
              "    }\n",
              "</style>\n",
              "<table border=\"1\" class=\"dataframe\">\n",
              "  <thead>\n",
              "    <tr style=\"text-align: right;\">\n",
              "      <th></th>\n",
              "      <th>Accuracy Score</th>\n",
              "    </tr>\n",
              "    <tr>\n",
              "      <th>Existing Dataset</th>\n",
              "      <th></th>\n",
              "    </tr>\n",
              "  </thead>\n",
              "  <tbody>\n",
              "    <tr>\n",
              "      <th>gossipcop</th>\n",
              "      <td>99</td>\n",
              "    </tr>\n",
              "    <tr>\n",
              "      <th>politifact</th>\n",
              "      <td>99</td>\n",
              "    </tr>\n",
              "    <tr>\n",
              "      <th>Kaggle</th>\n",
              "      <td>87</td>\n",
              "    </tr>\n",
              "    <tr>\n",
              "      <th>BuzzFeed</th>\n",
              "      <td>80</td>\n",
              "    </tr>\n",
              "    <tr>\n",
              "      <th>Isot</th>\n",
              "      <td>49</td>\n",
              "    </tr>\n",
              "  </tbody>\n",
              "</table>\n",
              "</div>\n",
              "    <div class=\"colab-df-buttons\">\n",
              "\n",
              "  <div class=\"colab-df-container\">\n",
              "    <button class=\"colab-df-convert\" onclick=\"convertToInteractive('df-8c5b5390-0486-49c5-8adf-429e7e800c02')\"\n",
              "            title=\"Convert this dataframe to an interactive table.\"\n",
              "            style=\"display:none;\">\n",
              "\n",
              "  <svg xmlns=\"http://www.w3.org/2000/svg\" height=\"24px\" viewBox=\"0 -960 960 960\">\n",
              "    <path d=\"M120-120v-720h720v720H120Zm60-500h600v-160H180v160Zm220 220h160v-160H400v160Zm0 220h160v-160H400v160ZM180-400h160v-160H180v160Zm440 0h160v-160H620v160ZM180-180h160v-160H180v160Zm440 0h160v-160H620v160Z\"/>\n",
              "  </svg>\n",
              "    </button>\n",
              "\n",
              "  <style>\n",
              "    .colab-df-container {\n",
              "      display:flex;\n",
              "      gap: 12px;\n",
              "    }\n",
              "\n",
              "    .colab-df-convert {\n",
              "      background-color: #E8F0FE;\n",
              "      border: none;\n",
              "      border-radius: 50%;\n",
              "      cursor: pointer;\n",
              "      display: none;\n",
              "      fill: #1967D2;\n",
              "      height: 32px;\n",
              "      padding: 0 0 0 0;\n",
              "      width: 32px;\n",
              "    }\n",
              "\n",
              "    .colab-df-convert:hover {\n",
              "      background-color: #E2EBFA;\n",
              "      box-shadow: 0px 1px 2px rgba(60, 64, 67, 0.3), 0px 1px 3px 1px rgba(60, 64, 67, 0.15);\n",
              "      fill: #174EA6;\n",
              "    }\n",
              "\n",
              "    .colab-df-buttons div {\n",
              "      margin-bottom: 4px;\n",
              "    }\n",
              "\n",
              "    [theme=dark] .colab-df-convert {\n",
              "      background-color: #3B4455;\n",
              "      fill: #D2E3FC;\n",
              "    }\n",
              "\n",
              "    [theme=dark] .colab-df-convert:hover {\n",
              "      background-color: #434B5C;\n",
              "      box-shadow: 0px 1px 3px 1px rgba(0, 0, 0, 0.15);\n",
              "      filter: drop-shadow(0px 1px 2px rgba(0, 0, 0, 0.3));\n",
              "      fill: #FFFFFF;\n",
              "    }\n",
              "  </style>\n",
              "\n",
              "    <script>\n",
              "      const buttonEl =\n",
              "        document.querySelector('#df-8c5b5390-0486-49c5-8adf-429e7e800c02 button.colab-df-convert');\n",
              "      buttonEl.style.display =\n",
              "        google.colab.kernel.accessAllowed ? 'block' : 'none';\n",
              "\n",
              "      async function convertToInteractive(key) {\n",
              "        const element = document.querySelector('#df-8c5b5390-0486-49c5-8adf-429e7e800c02');\n",
              "        const dataTable =\n",
              "          await google.colab.kernel.invokeFunction('convertToInteractive',\n",
              "                                                    [key], {});\n",
              "        if (!dataTable) return;\n",
              "\n",
              "        const docLinkHtml = 'Like what you see? Visit the ' +\n",
              "          '<a target=\"_blank\" href=https://colab.research.google.com/notebooks/data_table.ipynb>data table notebook</a>'\n",
              "          + ' to learn more about interactive tables.';\n",
              "        element.innerHTML = '';\n",
              "        dataTable['output_type'] = 'display_data';\n",
              "        await google.colab.output.renderOutput(dataTable, element);\n",
              "        const docLink = document.createElement('div');\n",
              "        docLink.innerHTML = docLinkHtml;\n",
              "        element.appendChild(docLink);\n",
              "      }\n",
              "    </script>\n",
              "  </div>\n",
              "\n",
              "\n",
              "<div id=\"df-50529509-70af-4087-ab29-7afd28b3fea4\">\n",
              "  <button class=\"colab-df-quickchart\" onclick=\"quickchart('df-50529509-70af-4087-ab29-7afd28b3fea4')\"\n",
              "            title=\"Suggest charts\"\n",
              "            style=\"display:none;\">\n",
              "\n",
              "<svg xmlns=\"http://www.w3.org/2000/svg\" height=\"24px\"viewBox=\"0 0 24 24\"\n",
              "     width=\"24px\">\n",
              "    <g>\n",
              "        <path d=\"M19 3H5c-1.1 0-2 .9-2 2v14c0 1.1.9 2 2 2h14c1.1 0 2-.9 2-2V5c0-1.1-.9-2-2-2zM9 17H7v-7h2v7zm4 0h-2V7h2v10zm4 0h-2v-4h2v4z\"/>\n",
              "    </g>\n",
              "</svg>\n",
              "  </button>\n",
              "\n",
              "<style>\n",
              "  .colab-df-quickchart {\n",
              "      --bg-color: #E8F0FE;\n",
              "      --fill-color: #1967D2;\n",
              "      --hover-bg-color: #E2EBFA;\n",
              "      --hover-fill-color: #174EA6;\n",
              "      --disabled-fill-color: #AAA;\n",
              "      --disabled-bg-color: #DDD;\n",
              "  }\n",
              "\n",
              "  [theme=dark] .colab-df-quickchart {\n",
              "      --bg-color: #3B4455;\n",
              "      --fill-color: #D2E3FC;\n",
              "      --hover-bg-color: #434B5C;\n",
              "      --hover-fill-color: #FFFFFF;\n",
              "      --disabled-bg-color: #3B4455;\n",
              "      --disabled-fill-color: #666;\n",
              "  }\n",
              "\n",
              "  .colab-df-quickchart {\n",
              "    background-color: var(--bg-color);\n",
              "    border: none;\n",
              "    border-radius: 50%;\n",
              "    cursor: pointer;\n",
              "    display: none;\n",
              "    fill: var(--fill-color);\n",
              "    height: 32px;\n",
              "    padding: 0;\n",
              "    width: 32px;\n",
              "  }\n",
              "\n",
              "  .colab-df-quickchart:hover {\n",
              "    background-color: var(--hover-bg-color);\n",
              "    box-shadow: 0 1px 2px rgba(60, 64, 67, 0.3), 0 1px 3px 1px rgba(60, 64, 67, 0.15);\n",
              "    fill: var(--button-hover-fill-color);\n",
              "  }\n",
              "\n",
              "  .colab-df-quickchart-complete:disabled,\n",
              "  .colab-df-quickchart-complete:disabled:hover {\n",
              "    background-color: var(--disabled-bg-color);\n",
              "    fill: var(--disabled-fill-color);\n",
              "    box-shadow: none;\n",
              "  }\n",
              "\n",
              "  .colab-df-spinner {\n",
              "    border: 2px solid var(--fill-color);\n",
              "    border-color: transparent;\n",
              "    border-bottom-color: var(--fill-color);\n",
              "    animation:\n",
              "      spin 1s steps(1) infinite;\n",
              "  }\n",
              "\n",
              "  @keyframes spin {\n",
              "    0% {\n",
              "      border-color: transparent;\n",
              "      border-bottom-color: var(--fill-color);\n",
              "      border-left-color: var(--fill-color);\n",
              "    }\n",
              "    20% {\n",
              "      border-color: transparent;\n",
              "      border-left-color: var(--fill-color);\n",
              "      border-top-color: var(--fill-color);\n",
              "    }\n",
              "    30% {\n",
              "      border-color: transparent;\n",
              "      border-left-color: var(--fill-color);\n",
              "      border-top-color: var(--fill-color);\n",
              "      border-right-color: var(--fill-color);\n",
              "    }\n",
              "    40% {\n",
              "      border-color: transparent;\n",
              "      border-right-color: var(--fill-color);\n",
              "      border-top-color: var(--fill-color);\n",
              "    }\n",
              "    60% {\n",
              "      border-color: transparent;\n",
              "      border-right-color: var(--fill-color);\n",
              "    }\n",
              "    80% {\n",
              "      border-color: transparent;\n",
              "      border-right-color: var(--fill-color);\n",
              "      border-bottom-color: var(--fill-color);\n",
              "    }\n",
              "    90% {\n",
              "      border-color: transparent;\n",
              "      border-bottom-color: var(--fill-color);\n",
              "    }\n",
              "  }\n",
              "</style>\n",
              "\n",
              "  <script>\n",
              "    async function quickchart(key) {\n",
              "      const quickchartButtonEl =\n",
              "        document.querySelector('#' + key + ' button');\n",
              "      quickchartButtonEl.disabled = true;  // To prevent multiple clicks.\n",
              "      quickchartButtonEl.classList.add('colab-df-spinner');\n",
              "      try {\n",
              "        const charts = await google.colab.kernel.invokeFunction(\n",
              "            'suggestCharts', [key], {});\n",
              "      } catch (error) {\n",
              "        console.error('Error during call to suggestCharts:', error);\n",
              "      }\n",
              "      quickchartButtonEl.classList.remove('colab-df-spinner');\n",
              "      quickchartButtonEl.classList.add('colab-df-quickchart-complete');\n",
              "    }\n",
              "    (() => {\n",
              "      let quickchartButtonEl =\n",
              "        document.querySelector('#df-50529509-70af-4087-ab29-7afd28b3fea4 button');\n",
              "      quickchartButtonEl.style.display =\n",
              "        google.colab.kernel.accessAllowed ? 'block' : 'none';\n",
              "    })();\n",
              "  </script>\n",
              "</div>\n",
              "\n",
              "  <div id=\"id_a7dbcdd4-1ca4-44f0-ad81-28e14ca36f91\">\n",
              "    <style>\n",
              "      .colab-df-generate {\n",
              "        background-color: #E8F0FE;\n",
              "        border: none;\n",
              "        border-radius: 50%;\n",
              "        cursor: pointer;\n",
              "        display: none;\n",
              "        fill: #1967D2;\n",
              "        height: 32px;\n",
              "        padding: 0 0 0 0;\n",
              "        width: 32px;\n",
              "      }\n",
              "\n",
              "      .colab-df-generate:hover {\n",
              "        background-color: #E2EBFA;\n",
              "        box-shadow: 0px 1px 2px rgba(60, 64, 67, 0.3), 0px 1px 3px 1px rgba(60, 64, 67, 0.15);\n",
              "        fill: #174EA6;\n",
              "      }\n",
              "\n",
              "      [theme=dark] .colab-df-generate {\n",
              "        background-color: #3B4455;\n",
              "        fill: #D2E3FC;\n",
              "      }\n",
              "\n",
              "      [theme=dark] .colab-df-generate:hover {\n",
              "        background-color: #434B5C;\n",
              "        box-shadow: 0px 1px 3px 1px rgba(0, 0, 0, 0.15);\n",
              "        filter: drop-shadow(0px 1px 2px rgba(0, 0, 0, 0.3));\n",
              "        fill: #FFFFFF;\n",
              "      }\n",
              "    </style>\n",
              "    <button class=\"colab-df-generate\" onclick=\"generateWithVariable('result_df')\"\n",
              "            title=\"Generate code using this dataframe.\"\n",
              "            style=\"display:none;\">\n",
              "\n",
              "  <svg xmlns=\"http://www.w3.org/2000/svg\" height=\"24px\"viewBox=\"0 0 24 24\"\n",
              "       width=\"24px\">\n",
              "    <path d=\"M7,19H8.4L18.45,9,17,7.55,7,17.6ZM5,21V16.75L18.45,3.32a2,2,0,0,1,2.83,0l1.4,1.43a1.91,1.91,0,0,1,.58,1.4,1.91,1.91,0,0,1-.58,1.4L9.25,21ZM18.45,9,17,7.55Zm-12,3A5.31,5.31,0,0,0,4.9,8.1,5.31,5.31,0,0,0,1,6.5,5.31,5.31,0,0,0,4.9,4.9,5.31,5.31,0,0,0,6.5,1,5.31,5.31,0,0,0,8.1,4.9,5.31,5.31,0,0,0,12,6.5,5.46,5.46,0,0,0,6.5,12Z\"/>\n",
              "  </svg>\n",
              "    </button>\n",
              "    <script>\n",
              "      (() => {\n",
              "      const buttonEl =\n",
              "        document.querySelector('#id_a7dbcdd4-1ca4-44f0-ad81-28e14ca36f91 button.colab-df-generate');\n",
              "      buttonEl.style.display =\n",
              "        google.colab.kernel.accessAllowed ? 'block' : 'none';\n",
              "\n",
              "      buttonEl.onclick = () => {\n",
              "        google.colab.notebook.generateWithVariable('result_df');\n",
              "      }\n",
              "      })();\n",
              "    </script>\n",
              "  </div>\n",
              "\n",
              "    </div>\n",
              "  </div>\n"
            ],
            "application/vnd.google.colaboratory.intrinsic+json": {
              "type": "dataframe",
              "variable_name": "result_df",
              "summary": "{\n  \"name\": \"result_df\",\n  \"rows\": 5,\n  \"fields\": [\n    {\n      \"column\": \"Existing Dataset\",\n      \"properties\": {\n        \"dtype\": \"string\",\n        \"num_unique_values\": 5,\n        \"samples\": [\n          \"politifact\",\n          \"Isot\",\n          \"Kaggle\"\n        ],\n        \"semantic_type\": \"\",\n        \"description\": \"\"\n      }\n    },\n    {\n      \"column\": \"Accuracy Score\",\n      \"properties\": {\n        \"dtype\": \"number\",\n        \"std\": 20,\n        \"min\": 49,\n        \"max\": 99,\n        \"num_unique_values\": 4,\n        \"samples\": [\n          87,\n          49,\n          99\n        ],\n        \"semantic_type\": \"\",\n        \"description\": \"\"\n      }\n    }\n  ]\n}"
            }
          },
          "metadata": {},
          "execution_count": 94
        }
      ]
    },
    {
      "source": [
        "from matplotlib import pyplot as plt\n",
        "result_df['Accuracy Score'].plot(kind='line', figsize=(8, 4), title='Accuracy Score')\n",
        "plt.gca().spines[['top', 'right']].set_visible(False)"
      ],
      "cell_type": "code",
      "metadata": {
        "id": "qg51ay01gi0L",
        "outputId": "3d8d4f69-e199-4bb8-8899-7e35fe166e48",
        "colab": {
          "base_uri": "https://localhost:8080/",
          "height": 410
        }
      },
      "execution_count": null,
      "outputs": [
        {
          "output_type": "display_data",
          "data": {
            "text/plain": [
              "<Figure size 800x400 with 1 Axes>"
            ],
            "image/png": "[encoded data removed]"
          },
          "metadata": {}
        }
      ]
    },
    {
      "source": [
        "from matplotlib import pyplot as plt\n",
        "result_df['Accuracy Score'].plot(kind='hist', bins=20, title='Accuracy Score')\n",
        "plt.gca().spines[['top', 'right',]].set_visible(False)"
      ],
      "cell_type": "code",
      "metadata": {
        "colab": {
          "base_uri": "https://localhost:8080/",
          "height": 452
        },
        "id": "yAx0E6K_gY5r",
        "outputId": "b16dc9b0-2426-487d-d6a7-f86d275a1c7d"
      },
      "execution_count": null,
      "outputs": [
        {
          "output_type": "display_data",
          "data": {
            "text/plain": [
              "<Figure size 640x480 with 1 Axes>"
            ],
            "image/png": "[encoded data removed]"
          },
          "metadata": {}
        }
      ]
    },
    {
      "cell_type": "code",
      "source": [
        "# results=pd.DataFrame({'Existing Dataset':['BuzzFeed','gossipcop','Isot','politifact','Kaggle'],\n",
        "#                     'Score':[80,99,49,76,87]})\n",
        "# result_df=results.sort_values(by='Accuracy Score', ascending=False)\n",
        "# result_df=result_df.set_index('Existing Dataset')\n",
        "# result_df\n",
        "results=pd.DataFrame({'ML Model':['Naive Bayes','SVM','RF'],\n",
        "                    'Accuracy Score':[66,94,93]})\n",
        "result_df=results.sort_values(by='Accuracy Score', ascending=True)\n",
        "result_df=result_df.set_index('ML Model')"
      ],
      "metadata": {
        "id": "l_hguzrFdQG7"
      },
      "execution_count": null,
      "outputs": []
    },
    {
      "cell_type": "code",
      "source": [
        "from matplotlib import pyplot as plt\n",
        "result_df['Accuracy Score'].plot(kind='line', figsize=(8, 4), title='Accuracy Score')\n",
        "plt.gca().spines[['top', 'right']].set_visible(False)"
      ],
      "metadata": {
        "colab": {
          "base_uri": "https://localhost:8080/",
          "height": 410
        },
        "id": "JgH6c2JkeEob",
        "outputId": "70cfe77e-9991-4060-e52d-fa991c003f97"
      },
      "execution_count": null,
      "outputs": [
        {
          "output_type": "display_data",
          "data": {
            "text/plain": [
              "<Figure size 800x400 with 1 Axes>"
            ],
            "image/png": "[encoded data removed]"
          },
          "metadata": {}
        }
      ]
    },
    {
      "cell_type": "code",
      "source": [
        "from matplotlib import pyplot as plt\n",
        "result_df['Accuracy Score'].plot(kind='hist', bins=20, title='Accuracy Score')\n",
        "plt.gca().spines[['top', 'right',]].set_visible(False)"
      ],
      "metadata": {
        "colab": {
          "base_uri": "https://localhost:8080/",
          "height": 452
        },
        "id": "2sLnPQU6eKxz",
        "outputId": "6daf92b9-f77a-439e-d485-5eb6f1b838d3"
      },
      "execution_count": null,
      "outputs": [
        {
          "output_type": "display_data",
          "data": {
            "text/plain": [
              "<Figure size 640x480 with 1 Axes>"
            ],
            "image/png": "[encoded data removed]"
          },
          "metadata": {}
        }
      ]
    }
  ],
  "metadata": {
    "colab": {
      "provenance": []
    },
    "kernelspec": {
      "display_name": "Python 3",
      "name": "python3"
    },
    "language_info": {
      "name": "python"
    }
  },
  "nbformat": 4,
  "nbformat_minor": 0
}